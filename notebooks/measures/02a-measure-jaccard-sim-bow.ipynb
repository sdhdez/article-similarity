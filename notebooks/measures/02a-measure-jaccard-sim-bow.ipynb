{
 "cells": [
  {
   "cell_type": "code",
   "execution_count": 1,
   "metadata": {},
   "outputs": [],
   "source": [
    "import sys\n",
    "import os\n",
    "import random\n",
    "# Counter\n",
    "from collections import Counter\n",
    "# Package\n",
    "import somhos.resources.dataset as rd\n",
    "import somhos.resources.queries as rq\n",
    "from somhos.methods.useful import save_pickle, load_pickle\n",
    "from somhos.config.paths import get_relative_path\n",
    "from somhos.config.paths import DOCS_SAMPLE_A_SUFFIX, DOCS_SAMPLE_B_SUFFIX\n",
    "from somhos.config.paths import DOCS_SAMPLES_CONTENT, SAMPLE_PATH, DOCS_SAMPLES_WORD_COUNT\n",
    "from somhos.config.paths import DOCS_SAMPLES_WORD_DOC_COUNT\n",
    "from somhos.config.paths import DOCS_SAMPLES_JACCARD_SIM, DOCS_SAMPLES_JACCARD_SIM_UDV\n",
    "from somhos.config.paths import DOCS_SAMPLES_TF_IDF, KPS_DIRECTORY_INVERSE_SUFFIX"
   ]
  },
  {
   "cell_type": "markdown",
   "metadata": {},
   "source": [
    "Default path"
   ]
  },
  {
   "cell_type": "code",
   "execution_count": 2,
   "metadata": {},
   "outputs": [],
   "source": [
    "data_path = \"../../src/somhos/resources/aminer/v9\""
   ]
  },
  {
   "cell_type": "markdown",
   "metadata": {},
   "source": [
    "Load samples"
   ]
  },
  {
   "cell_type": "code",
   "execution_count": 3,
   "metadata": {},
   "outputs": [
    {
     "name": "stdout",
     "output_type": "stream",
     "text": [
      "Samples size: (1000, 1000)\n"
     ]
    }
   ],
   "source": [
    "# Load sample A\n",
    "docs_sample_a_path = get_relative_path(data_path, DOCS_SAMPLE_A_SUFFIX)\n",
    "docs_sample_a = load_pickle(docs_sample_a_path)\n",
    "# Load sample B\n",
    "docs_sample_b_path = get_relative_path(data_path, DOCS_SAMPLE_B_SUFFIX)\n",
    "docs_sample_b = load_pickle(docs_sample_b_path)\n",
    "\n",
    "print(\"Samples size: (%d, %d)\" % (len(docs_sample_a), len(docs_sample_b)))"
   ]
  },
  {
   "cell_type": "markdown",
   "metadata": {},
   "source": [
    "Load samples content"
   ]
  },
  {
   "cell_type": "code",
   "execution_count": 4,
   "metadata": {},
   "outputs": [
    {
     "name": "stdout",
     "output_type": "stream",
     "text": [
      "Docs: 2000\n"
     ]
    }
   ],
   "source": [
    "docs_samples_content_path = get_relative_path(data_path, DOCS_SAMPLES_CONTENT)\n",
    "samples_content = load_pickle(docs_samples_content_path)\n",
    "print(\"Docs: %d\" % len(samples_content))"
   ]
  },
  {
   "cell_type": "code",
   "execution_count": 5,
   "metadata": {},
   "outputs": [],
   "source": [
    "from nltk.metrics.distance import jaccard_distance\n",
    "from itertools import product\n",
    "import numpy as np"
   ]
  },
  {
   "cell_type": "code",
   "execution_count": 6,
   "metadata": {},
   "outputs": [
    {
     "name": "stdout",
     "output_type": "stream",
     "text": [
      "[[0.03292181 0.03518519 0.00714286 ... 0.04385965 0.02083333 0.04580153]\n",
      " [0.04471545 0.0291439  0.02797203 ... 0.05627706 0.00657895 0.03623188]\n",
      " [0.03508772 0.02448211 0.008      ... 0.04205607 0.04761905 0.05172414]\n",
      " ...\n",
      " [0.03508772 0.01492537 0.02439024 ... 0.04205607 0.03125    0.02521008]\n",
      " [0.0361991  0.03468208 0.01709402 ... 0.04854369 0.02459016 0.        ]\n",
      " [0.05172414 0.01845018 0.         ... 0.03125    0.02189781 0.03174603]]\n"
     ]
    }
   ],
   "source": [
    "sample_a_indices = range(0, len(docs_sample_a))\n",
    "sample_b_indices = range(0, len(docs_sample_b))\n",
    "\n",
    "def get_bow(index, samples_content):\n",
    "    return samples_content[index]['bag-of-words']\n",
    "\n",
    "m_jaccard_sim = np.zeros([len(docs_sample_a), len(docs_sample_b)]) \n",
    "for i, j in product(sample_a_indices, sample_a_indices):\n",
    "    set_a = get_bow(docs_sample_a[i], samples_content)\n",
    "    set_b = get_bow(docs_sample_b[j], samples_content)\n",
    "    jaccard_sim = 1 - jaccard_distance(set_a, set_b)\n",
    "    m_jaccard_sim[i, j] = jaccard_sim\n",
    "\n",
    "print(m_jaccard_sim)"
   ]
  },
  {
   "cell_type": "code",
   "execution_count": 7,
   "metadata": {},
   "outputs": [],
   "source": [
    "docs_samples_jaccard_sim_path = get_relative_path(data_path, DOCS_SAMPLES_JACCARD_SIM)\n",
    "save_pickle(m_jaccard_sim, docs_samples_jaccard_sim_path)"
   ]
  },
  {
   "cell_type": "code",
   "execution_count": 8,
   "metadata": {},
   "outputs": [
    {
     "name": "stdout",
     "output_type": "stream",
     "text": [
      "[[0.04361271 0.0460296  0.02870448 ... 0.04959599 0.02688767 0.03650811]\n",
      " [0.03771801 0.03980823 0.02482477 ... 0.04289259 0.02325353 0.03157367]\n",
      " [0.04338416 0.04578839 0.02855405 ... 0.04933609 0.02674677 0.03631679]\n",
      " ...\n",
      " [0.03332177 0.03516837 0.02193131 ... 0.03789323 0.02054321 0.02789359]\n",
      " [0.03247137 0.03427084 0.02137161 ... 0.03692616 0.02001893 0.02718172]\n",
      " [0.03512217 0.03706854 0.02311628 ... 0.03994062 0.02165317 0.02940069]]\n"
     ]
    }
   ],
   "source": [
    "n_singularvalues = 1\n",
    "U, s, V = np.linalg.svd(m_jaccard_sim, full_matrices=False)\n",
    "D = np.diag(s[:n_singularvalues])\n",
    "m_udv_jaccard_sim = np.dot(U[:,:n_singularvalues], np.dot(D, V[:n_singularvalues,:]))\n",
    "print(m_udv_jaccard_sim)"
   ]
  },
  {
   "cell_type": "code",
   "execution_count": 9,
   "metadata": {},
   "outputs": [],
   "source": [
    "docs_samples_jaccard_sim_udv_path = get_relative_path(data_path, DOCS_SAMPLES_JACCARD_SIM_UDV)\n",
    "save_pickle(m_udv_jaccard_sim, docs_samples_jaccard_sim_udv_path)"
   ]
  }
 ],
 "metadata": {
  "kernelspec": {
   "display_name": "Python 3",
   "language": "python",
   "name": "python3"
  },
  "language_info": {
   "codemirror_mode": {
    "name": "ipython",
    "version": 3
   },
   "file_extension": ".py",
   "mimetype": "text/x-python",
   "name": "python",
   "nbconvert_exporter": "python",
   "pygments_lexer": "ipython3",
   "version": "3.6.6"
  }
 },
 "nbformat": 4,
 "nbformat_minor": 2
}
