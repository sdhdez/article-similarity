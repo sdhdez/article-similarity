{
 "cells": [
  {
   "cell_type": "code",
   "execution_count": 1,
   "metadata": {},
   "outputs": [],
   "source": [
    "import sys\n",
    "import os\n",
    "import random\n",
    "# Counter\n",
    "from collections import Counter\n",
    "# Package\n",
    "import somhos.resources.dataset as rd\n",
    "import somhos.resources.queries as rq\n",
    "from somhos.methods.useful import save_pickle, load_pickle, wordvectors_centroid\n",
    "from somhos.config.paths import *"
   ]
  },
  {
   "cell_type": "markdown",
   "metadata": {},
   "source": [
    "Default path"
   ]
  },
  {
   "cell_type": "code",
   "execution_count": 2,
   "metadata": {},
   "outputs": [
    {
     "data": {
      "text/plain": [
       "True"
      ]
     },
     "execution_count": 2,
     "metadata": {},
     "output_type": "execute_result"
    }
   ],
   "source": [
    "prefix_path = \"../../\"\n",
    "data_path = get_relative_path(prefix_path, V9_PATH)\n",
    "os.path.exists(data_path)"
   ]
  },
  {
   "cell_type": "markdown",
   "metadata": {},
   "source": [
    "Load samples"
   ]
  },
  {
   "cell_type": "code",
   "execution_count": 3,
   "metadata": {},
   "outputs": [
    {
     "name": "stdout",
     "output_type": "stream",
     "text": [
      "Samples size: (1000, 1000)\n"
     ]
    }
   ],
   "source": [
    "# Load sample A\n",
    "docs_sample_a_path = get_relative_path(data_path, DOCS_SAMPLE_A_SUFFIX)\n",
    "docs_sample_a = load_pickle(docs_sample_a_path)\n",
    "# Load sample B\n",
    "docs_sample_b_path = get_relative_path(data_path, DOCS_SAMPLE_B_SUFFIX)\n",
    "docs_sample_b = load_pickle(docs_sample_b_path)\n",
    "\n",
    "print(\"Samples size: (%d, %d)\" % (len(docs_sample_a), len(docs_sample_b)))"
   ]
  },
  {
   "cell_type": "markdown",
   "metadata": {},
   "source": [
    "Load samples content"
   ]
  },
  {
   "cell_type": "code",
   "execution_count": 4,
   "metadata": {},
   "outputs": [
    {
     "name": "stdout",
     "output_type": "stream",
     "text": [
      "Docs: 2000\n"
     ]
    }
   ],
   "source": [
    "docs_samples_content_path = get_relative_path(data_path, DOCS_SAMPLES_CONTENT)\n",
    "samples_content = load_pickle(docs_samples_content_path)\n",
    "print(\"Docs: %d\" % len(samples_content))"
   ]
  },
  {
   "cell_type": "markdown",
   "metadata": {},
   "source": [
    "Path to word2vec embeddings"
   ]
  },
  {
   "cell_type": "code",
   "execution_count": 5,
   "metadata": {},
   "outputs": [
    {
     "data": {
      "text/plain": [
       "True"
      ]
     },
     "execution_count": 5,
     "metadata": {},
     "output_type": "execute_result"
    }
   ],
   "source": [
    "word2vec_path = get_relative_path(prefix_path, DEAULT_WORDVECTORS)\n",
    "os.path.exists(word2vec_path)"
   ]
  },
  {
   "cell_type": "code",
   "execution_count": 6,
   "metadata": {},
   "outputs": [],
   "source": [
    "from itertools import product\n",
    "import numpy as np\n",
    "from scipy.spatial.distance import cosine as cosine_distance\n",
    "import gensim"
   ]
  },
  {
   "cell_type": "code",
   "execution_count": 7,
   "metadata": {},
   "outputs": [],
   "source": [
    "wordvectors = gensim.models.KeyedVectors.load_word2vec_format(word2vec_path, binary=True)"
   ]
  },
  {
   "cell_type": "code",
   "execution_count": 8,
   "metadata": {},
   "outputs": [
    {
     "name": "stdout",
     "output_type": "stream",
     "text": [
      "[[0.73584551 0.74774643 0.70017648 ... 0.71498831 0.59425368 0.66057425]\n",
      " [0.7529434  0.79520642 0.61637561 ... 0.74657731 0.58591201 0.66758565]\n",
      " [0.67955684 0.70658729 0.69086082 ... 0.7408391  0.62025059 0.75199539]\n",
      " ...\n",
      " [0.64550431 0.70693401 0.57462293 ... 0.68213468 0.56961568 0.65312854]\n",
      " [0.61921492 0.68430302 0.44202702 ... 0.63422805 0.64957497 0.59564065]\n",
      " [0.68590205 0.73472731 0.62482526 ... 0.73951819 0.66878865 0.73156019]]\n"
     ]
    }
   ],
   "source": [
    "sample_a_indices = range(0, len(docs_sample_a))\n",
    "sample_b_indices = range(0, len(docs_sample_b))\n",
    "\n",
    "def get_content_for(index, samples_content, field='bag-of-kps'):\n",
    "    return set(t for k in samples_content[index][field] for t in k.decode('utf-8').replace(\"-\", \" \").split())\n",
    "\n",
    "m_measure_sim = np.zeros([len(docs_sample_a), len(docs_sample_b)]) \n",
    "for i, j in product(sample_a_indices, sample_a_indices):\n",
    "    # Words sets\n",
    "    try:\n",
    "        set_a = get_content_for(docs_sample_a[i], samples_content)\n",
    "        set_b = get_content_for(docs_sample_b[j], samples_content)\n",
    "    except UnicodeDecodeError:\n",
    "        print(samples_content[docs_sample_a[i]]['bag-of-kps'])\n",
    "        print(samples_content[docs_sample_b[j]]['bag-of-kps'])\n",
    "        break\n",
    "    # Cetroids\n",
    "    centroid_a = wordvectors_centroid(wordvectors, set_a)\n",
    "    centroid_b = wordvectors_centroid(wordvectors, set_b)\n",
    "    # Measure\n",
    "    measure_sim = 1.0 - cosine_distance(centroid_a, centroid_b)\n",
    "    m_measure_sim[i, j] = measure_sim\n",
    "\n",
    "print(m_measure_sim)"
   ]
  },
  {
   "cell_type": "code",
   "execution_count": 9,
   "metadata": {},
   "outputs": [],
   "source": [
    "docs_samples_measure_sim_path = get_relative_path(data_path, DOCS_SAMPLES_WORD2VEC_SIM_KPS)\n",
    "save_pickle(m_measure_sim, docs_samples_measure_sim_path)"
   ]
  },
  {
   "cell_type": "code",
   "execution_count": 10,
   "metadata": {},
   "outputs": [
    {
     "name": "stdout",
     "output_type": "stream",
     "text": [
      "[[0.70249156 0.76503067 0.61917123 ... 0.73742336 0.63819848 0.67459647]\n",
      " [0.713463   0.77697885 0.62884139 ... 0.74894037 0.6481658  0.68513226]\n",
      " [0.7221335  0.78642124 0.6364835  ... 0.75804201 0.65604276 0.69345846]\n",
      " ...\n",
      " [0.6631624  0.72220025 0.58450678 ... 0.69613853 0.60246878 0.63682902]\n",
      " [0.60632752 0.66030566 0.53441291 ... 0.63647751 0.55083552 0.58225099]\n",
      " [0.7176664  0.78155645 0.63254623 ... 0.75335278 0.65198449 0.68916874]]\n"
     ]
    }
   ],
   "source": [
    "n_singularvalues = 1\n",
    "U, s, V = np.linalg.svd(m_measure_sim, full_matrices=False)\n",
    "D = np.diag(s[:n_singularvalues])\n",
    "m_udv_measure_sim = np.dot(U[:,:n_singularvalues], np.dot(D, V[:n_singularvalues,:]))\n",
    "print(m_udv_measure_sim)"
   ]
  },
  {
   "cell_type": "code",
   "execution_count": 11,
   "metadata": {},
   "outputs": [],
   "source": [
    "docs_samples_measure_sim_udv_path = get_relative_path(data_path, DOCS_SAMPLES_WORD2VEC_SIM_UDV_KPS)\n",
    "save_pickle(m_udv_measure_sim, docs_samples_measure_sim_udv_path)"
   ]
  }
 ],
 "metadata": {
  "kernelspec": {
   "display_name": "Python 3",
   "language": "python",
   "name": "python3"
  },
  "language_info": {
   "codemirror_mode": {
    "name": "ipython",
    "version": 3
   },
   "file_extension": ".py",
   "mimetype": "text/x-python",
   "name": "python",
   "nbconvert_exporter": "python",
   "pygments_lexer": "ipython3",
   "version": "3.6.6"
  }
 },
 "nbformat": 4,
 "nbformat_minor": 2
}
