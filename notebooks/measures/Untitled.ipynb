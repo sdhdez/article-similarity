{
 "cells": [
  {
   "cell_type": "code",
   "execution_count": 5,
   "metadata": {},
   "outputs": [],
   "source": [
    "import numpy as np"
   ]
  },
  {
   "cell_type": "code",
   "execution_count": 8,
   "metadata": {},
   "outputs": [
    {
     "data": {
      "text/plain": [
       "array([ 1.18683082,  0.32734976,  0.57934108, -0.07086337, -0.35789771,\n",
       "       -1.74291593,  1.03331486,  0.20231591, -0.96140745, -1.43498208,\n",
       "        0.83206868, -0.23208766, -0.0728186 , -1.8907567 ,  0.22313617,\n",
       "        1.20968958, -2.89118891,  1.06668932, -0.92894309, -0.18368361,\n",
       "       -1.13950488, -1.85590897,  0.99524116, -0.13566758, -1.17256205,\n",
       "       -1.58205118, -0.16762459,  0.4539448 ,  0.67525546,  0.23195097,\n",
       "       -0.31843855,  0.51102422, -1.10396896,  1.25478397, -0.28913481,\n",
       "        1.51608707,  2.14475907, -0.97379314, -0.42732726,  0.6759488 ,\n",
       "       -0.50123358, -0.92102893,  0.84041329, -1.31384144, -1.20273391,\n",
       "       -1.49885843,  0.68320324,  0.63574812, -0.31513671, -2.29282612,\n",
       "        0.2941677 , -0.66954479, -0.57992915,  0.64706558, -0.05336488,\n",
       "        0.59162323,  0.632223  ,  0.34867484, -0.24741348,  0.88266398,\n",
       "        0.56789524,  0.65065718,  0.08458026, -2.06953133, -0.92872891,\n",
       "        0.76755558,  1.11285989,  0.0495872 ,  0.11061446,  0.43117912,\n",
       "        1.26169586,  1.67283346, -0.47040986,  0.29722875,  1.00208003,\n",
       "        0.91449708,  0.71888896,  2.24775449,  0.1983667 ,  0.05415215,\n",
       "        0.60001003,  1.52097602,  1.10807595, -0.44572093, -1.4091501 ,\n",
       "       -0.14944848,  0.6816129 ,  0.5955074 ,  0.28580701,  1.16024062,\n",
       "       -0.64682952,  0.624901  , -0.67986945,  1.74277707,  0.00307266,\n",
       "        1.02156995, -0.95868584,  0.43143009, -0.2413059 , -1.39674345])"
      ]
     },
     "execution_count": 8,
     "metadata": {},
     "output_type": "execute_result"
    }
   ],
   "source": [
    "np.random.randn(100, 2)[:,1]"
   ]
  },
  {
   "cell_type": "code",
   "execution_count": 6,
   "metadata": {},
   "outputs": [],
   "source": [
    "import numpy as np"
   ]
  },
  {
   "cell_type": "code",
   "execution_count": 8,
   "metadata": {},
   "outputs": [
    {
     "data": {
      "text/plain": [
       "4"
      ]
     },
     "execution_count": 8,
     "metadata": {},
     "output_type": "execute_result"
    }
   ],
   "source": [
    "int(np.ceil(7/2))"
   ]
  },
  {
   "cell_type": "code",
   "execution_count": 12,
   "metadata": {},
   "outputs": [
    {
     "name": "stdout",
     "output_type": "stream",
     "text": [
      "-inf\n"
     ]
    },
    {
     "name": "stderr",
     "output_type": "stream",
     "text": [
      "/home/snov/environments/artsim/lib/python3.7/site-packages/ipykernel_launcher.py:2: RuntimeWarning: divide by zero encountered in log\n",
      "  \n"
     ]
    }
   ],
   "source": [
    "i = float(\"inf\")\n",
    "print(np.log(0))"
   ]
  }
 ],
 "metadata": {
  "kernelspec": {
   "display_name": "Python 3",
   "language": "python",
   "name": "python3"
  },
  "language_info": {
   "codemirror_mode": {
    "name": "ipython",
    "version": 3
   },
   "file_extension": ".py",
   "mimetype": "text/x-python",
   "name": "python",
   "nbconvert_exporter": "python",
   "pygments_lexer": "ipython3",
   "version": "3.7.0"
  }
 },
 "nbformat": 4,
 "nbformat_minor": 2
}
