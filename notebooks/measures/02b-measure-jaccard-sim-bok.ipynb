{
 "cells": [
  {
   "cell_type": "code",
   "execution_count": 1,
   "metadata": {},
   "outputs": [],
   "source": [
    "import sys\n",
    "import os\n",
    "import random\n",
    "# Package\n",
    "import somhos.resources.dataset as rd\n",
    "import somhos.resources.queries as rq\n",
    "from somhos.methods.useful import save_pickle, load_pickle\n",
    "from somhos.config.paths import get_relative_path\n",
    "from somhos.config.paths import DOCS_SAMPLE_A_SUFFIX, DOCS_SAMPLE_B_SUFFIX\n",
    "from somhos.config.paths import DOCS_SAMPLES_CONTENT\n",
    "from somhos.config.paths import DOCS_SAMPLES_WORD_DOC_COUNT, DOCS_SAMPLES_WORD_COUNT\n",
    "from somhos.config.paths import DOCS_SAMPLES_KPS_DOC_COUNT, DOCS_SAMPLES_KPS_COUNT\n",
    "from somhos.config.paths import DOCS_SAMPLES_JACCARD_SIM, DOCS_SAMPLES_JACCARD_SIM_UDV\n",
    "from somhos.config.paths import DOCS_SAMPLES_JACCARD_SIM_KPS, DOCS_SAMPLES_JACCARD_SIM_UDV_KPS\n",
    "from somhos.config.paths import DOCS_SAMPLES_TF_IDF, KPS_DIRECTORY_INVERSE_SUFFIX"
   ]
  },
  {
   "cell_type": "markdown",
   "metadata": {},
   "source": [
    "Default path"
   ]
  },
  {
   "cell_type": "code",
   "execution_count": 2,
   "metadata": {},
   "outputs": [],
   "source": [
    "data_path = \"../../src/somhos/resources/aminer/v9\""
   ]
  },
  {
   "cell_type": "markdown",
   "metadata": {},
   "source": [
    "Load samples"
   ]
  },
  {
   "cell_type": "code",
   "execution_count": 3,
   "metadata": {},
   "outputs": [
    {
     "name": "stdout",
     "output_type": "stream",
     "text": [
      "Samples size: (1000, 1000)\n"
     ]
    }
   ],
   "source": [
    "# Load sample A\n",
    "docs_sample_a_path = get_relative_path(data_path, DOCS_SAMPLE_A_SUFFIX)\n",
    "docs_sample_a = load_pickle(docs_sample_a_path)\n",
    "# Load sample B\n",
    "docs_sample_b_path = get_relative_path(data_path, DOCS_SAMPLE_B_SUFFIX)\n",
    "docs_sample_b = load_pickle(docs_sample_b_path)\n",
    "\n",
    "print(\"Samples size: (%d, %d)\" % (len(docs_sample_a), len(docs_sample_b)))"
   ]
  },
  {
   "cell_type": "markdown",
   "metadata": {},
   "source": [
    "Load samples content"
   ]
  },
  {
   "cell_type": "code",
   "execution_count": 4,
   "metadata": {},
   "outputs": [
    {
     "name": "stdout",
     "output_type": "stream",
     "text": [
      "Docs: 2000\n"
     ]
    }
   ],
   "source": [
    "docs_samples_content_path = get_relative_path(data_path, DOCS_SAMPLES_CONTENT)\n",
    "samples_content = load_pickle(docs_samples_content_path)\n",
    "print(\"Docs: %d\" % len(samples_content))"
   ]
  },
  {
   "cell_type": "code",
   "execution_count": 5,
   "metadata": {},
   "outputs": [],
   "source": [
    "from nltk.metrics.distance import jaccard_distance\n",
    "from itertools import product\n",
    "import numpy as np"
   ]
  },
  {
   "cell_type": "code",
   "execution_count": 6,
   "metadata": {},
   "outputs": [
    {
     "name": "stdout",
     "output_type": "stream",
     "text": [
      "[[0.         0.         0.         ... 0.01960784 0.         0.        ]\n",
      " [0.         0.         0.         ... 0.         0.         0.        ]\n",
      " [0.         0.         0.         ... 0.01785714 0.         0.02857143]\n",
      " ...\n",
      " [0.         0.         0.         ... 0.         0.03846154 0.        ]\n",
      " [0.         0.         0.         ... 0.         0.         0.        ]\n",
      " [0.02040816 0.         0.         ... 0.         0.         0.        ]]\n"
     ]
    }
   ],
   "source": [
    "sample_a_indices = range(0, len(docs_sample_a))\n",
    "sample_b_indices = range(0, len(docs_sample_b))\n",
    "\n",
    "def get_kps(index, samples_content):\n",
    "    return samples_content[index]['bag-of-kps']\n",
    "\n",
    "m_jaccard_sim = np.zeros([len(docs_sample_a), len(docs_sample_b)]) \n",
    "for i, j in product(sample_a_indices, sample_a_indices):\n",
    "    set_a = get_kps(docs_sample_a[i], samples_content)\n",
    "    set_b = get_kps(docs_sample_b[j], samples_content)\n",
    "    if set_a and set_b:  \n",
    "        jaccard_sim = 1 - jaccard_distance(set_a, set_b)\n",
    "    else:\n",
    "        jaccard_sim = 0\n",
    "    m_jaccard_sim[i, j] = jaccard_sim\n",
    "\n",
    "print(m_jaccard_sim)"
   ]
  },
  {
   "cell_type": "code",
   "execution_count": 7,
   "metadata": {},
   "outputs": [],
   "source": [
    "docs_samples_jaccard_sim_path = get_relative_path(data_path, DOCS_SAMPLES_JACCARD_SIM_KPS)\n",
    "save_pickle(m_jaccard_sim, docs_samples_jaccard_sim_path)"
   ]
  },
  {
   "cell_type": "code",
   "execution_count": 8,
   "metadata": {},
   "outputs": [
    {
     "name": "stdout",
     "output_type": "stream",
     "text": [
      "[[0.00088732 0.00074947 0.00072513 ... 0.00090514 0.00039251 0.00080765]\n",
      " [0.00178591 0.00150847 0.00145948 ... 0.00182178 0.00079    0.00162555]\n",
      " [0.00490652 0.00414428 0.00400969 ... 0.00500508 0.00217041 0.00446596]\n",
      " ...\n",
      " [0.00330685 0.00279312 0.00270241 ... 0.00337327 0.00146279 0.00300993]\n",
      " [0.00058503 0.00049415 0.0004781  ... 0.00059678 0.00025879 0.0005325 ]\n",
      " [0.00360416 0.00304425 0.00294538 ... 0.00367656 0.00159431 0.00328055]]\n"
     ]
    }
   ],
   "source": [
    "n_singularvalues = 1\n",
    "U, s, V = np.linalg.svd(m_jaccard_sim, full_matrices=False)\n",
    "D = np.diag(s[:n_singularvalues])\n",
    "m_udv_jaccard_sim = np.dot(U[:,:n_singularvalues], np.dot(D, V[:n_singularvalues,:]))\n",
    "print(m_udv_jaccard_sim)"
   ]
  },
  {
   "cell_type": "code",
   "execution_count": 9,
   "metadata": {},
   "outputs": [],
   "source": [
    "docs_samples_jaccard_sim_udv_path = get_relative_path(data_path, DOCS_SAMPLES_JACCARD_SIM_UDV_KPS)\n",
    "save_pickle(m_udv_jaccard_sim, docs_samples_jaccard_sim_udv_path)"
   ]
  }
 ],
 "metadata": {
  "kernelspec": {
   "display_name": "Python 3",
   "language": "python",
   "name": "python3"
  },
  "language_info": {
   "codemirror_mode": {
    "name": "ipython",
    "version": 3
   },
   "file_extension": ".py",
   "mimetype": "text/x-python",
   "name": "python",
   "nbconvert_exporter": "python",
   "pygments_lexer": "ipython3",
   "version": "3.6.6"
  }
 },
 "nbformat": 4,
 "nbformat_minor": 2
}
