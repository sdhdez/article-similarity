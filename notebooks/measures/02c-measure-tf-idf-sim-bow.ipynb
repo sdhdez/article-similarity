{
 "cells": [
  {
   "cell_type": "code",
   "execution_count": 1,
   "metadata": {},
   "outputs": [],
   "source": [
    "import sys\n",
    "import os\n",
    "import random\n",
    "# Counter\n",
    "from collections import Counter\n",
    "# Package\n",
    "import somhos.resources.dataset as rd\n",
    "import somhos.resources.queries as rq\n",
    "from somhos.methods.useful import save_pickle, load_pickle, wordvectors_centroid\n",
    "from somhos.config.paths import *"
   ]
  },
  {
   "cell_type": "markdown",
   "metadata": {},
   "source": [
    "Default path"
   ]
  },
  {
   "cell_type": "code",
   "execution_count": 2,
   "metadata": {},
   "outputs": [
    {
     "data": {
      "text/plain": [
       "True"
      ]
     },
     "execution_count": 2,
     "metadata": {},
     "output_type": "execute_result"
    }
   ],
   "source": [
    "prefix_path = \"../../\"\n",
    "data_path = get_relative_path(prefix_path, V9_PATH)\n",
    "os.path.exists(data_path)"
   ]
  },
  {
   "cell_type": "markdown",
   "metadata": {},
   "source": [
    "Load samples"
   ]
  },
  {
   "cell_type": "code",
   "execution_count": 3,
   "metadata": {},
   "outputs": [
    {
     "name": "stdout",
     "output_type": "stream",
     "text": [
      "Samples size: (1000, 1000)\n"
     ]
    }
   ],
   "source": [
    "# Load sample A\n",
    "docs_sample_a_path = get_relative_path(data_path, DOCS_SAMPLE_A_SUFFIX)\n",
    "docs_sample_a = load_pickle(docs_sample_a_path)\n",
    "# Load sample B\n",
    "docs_sample_b_path = get_relative_path(data_path, DOCS_SAMPLE_B_SUFFIX)\n",
    "docs_sample_b = load_pickle(docs_sample_b_path)\n",
    "\n",
    "print(\"Samples size: (%d, %d)\" % (len(docs_sample_a), len(docs_sample_b)))"
   ]
  },
  {
   "cell_type": "markdown",
   "metadata": {},
   "source": [
    "Load samples content"
   ]
  },
  {
   "cell_type": "code",
   "execution_count": 4,
   "metadata": {},
   "outputs": [
    {
     "name": "stdout",
     "output_type": "stream",
     "text": [
      "Docs: 2000\n"
     ]
    }
   ],
   "source": [
    "docs_samples_content_path = get_relative_path(data_path, DOCS_SAMPLES_CONTENT)\n",
    "samples_content = load_pickle(docs_samples_content_path)\n",
    "print(\"Docs: %d\" % len(samples_content))"
   ]
  },
  {
   "cell_type": "code",
   "execution_count": 5,
   "metadata": {},
   "outputs": [],
   "source": [
    "from itertools import product\n",
    "import numpy as np\n",
    "from scipy.spatial.distance import cosine as cosine_distance\n",
    "from scipy.sparse import csr_matrix"
   ]
  },
  {
   "cell_type": "code",
   "execution_count": 6,
   "metadata": {},
   "outputs": [],
   "source": [
    "docs_samples_word_doc_count_path = get_relative_path(data_path, DOCS_SAMPLES_WORD_DOC_COUNT)\n",
    "samples_word_in_docs_count = load_pickle(docs_samples_word_doc_count_path)"
   ]
  },
  {
   "cell_type": "code",
   "execution_count": 7,
   "metadata": {},
   "outputs": [],
   "source": [
    "n_docs = len(docs_sample_a) + len(docs_sample_b)\n",
    "t_idf = {t: np.log(n_docs/v) for t, v in samples_word_in_docs_count.items()}\n",
    "\n",
    "def get_content_tokens(index, samples_content):\n",
    "    return samples_content[index]['tokens']"
   ]
  },
  {
   "cell_type": "code",
   "execution_count": 8,
   "metadata": {},
   "outputs": [
    {
     "name": "stdout",
     "output_type": "stream",
     "text": [
      "[[0.00750679 0.01106243 0.00031596 ... 0.00968403 0.0032995  0.00496262]\n",
      " [0.0157523  0.01400749 0.03310009 ... 0.01981849 0.00143613 0.00954822]\n",
      " [0.00522653 0.00838618 0.00083333 ... 0.02829378 0.00507733 0.01066712]\n",
      " ...\n",
      " [0.0074064  0.00825712 0.00714255 ... 0.01280274 0.00424296 0.00496312]\n",
      " [0.00849982 0.01319539 0.00128268 ... 0.02281991 0.00201917 0.        ]\n",
      " [0.01844931 0.00421175 0.         ... 0.01321121 0.00665555 0.00863887]]\n"
     ]
    }
   ],
   "source": [
    "sample_a_indices = range(0, len(docs_sample_a))\n",
    "sample_b_indices = range(0, len(docs_sample_b))\n",
    "\n",
    "def get_content_for(index, samples_content, field='tokens'):\n",
    "    return samples_content[index][field]\n",
    "\n",
    "def tf_doc(terms):\n",
    "    tf = Counter(terms)\n",
    "    cnt = sum(tf.values())\n",
    "    return {k: v/cnt for k, v in tf.items()}\n",
    "\n",
    "m_measure_sim = np.zeros([len(docs_sample_a), len(docs_sample_b)]) \n",
    "for i, j in product(sample_a_indices, sample_a_indices):\n",
    "    # Term frequencies by document\n",
    "    tf_a = tf_doc(get_content_for(docs_sample_a[i], samples_content))\n",
    "    tf_b = tf_doc(get_content_for(docs_sample_b[j], samples_content))\n",
    "    # Term list\n",
    "    t_list = list(set(tf_a) | set(tf_b))\n",
    "    # TF-IDF\n",
    "    tf_idf_a = np.zeros([len(t_list),])\n",
    "    tf_idf_b = np.zeros([len(t_list),])\n",
    "    for pos, t in enumerate(t_list):\n",
    "        if t in tf_a:\n",
    "            tf_idf_a[pos] = tf_a[t] * t_idf[t]\n",
    "        if t in tf_b:\n",
    "            tf_idf_b[pos] = tf_b[t] * t_idf[t]\n",
    "    # Measure\n",
    "    measure_sim = 1.0 - cosine_distance(tf_idf_a, tf_idf_b)\n",
    "    m_measure_sim[i, j] = measure_sim\n",
    "\n",
    "print(m_measure_sim)"
   ]
  },
  {
   "cell_type": "code",
   "execution_count": 9,
   "metadata": {},
   "outputs": [],
   "source": [
    "docs_samples_measure_sim_path = get_relative_path(data_path, DOCS_SAMPLES_TF_IDF)\n",
    "save_pickle(m_measure_sim, docs_samples_measure_sim_path)"
   ]
  },
  {
   "cell_type": "code",
   "execution_count": 10,
   "metadata": {},
   "outputs": [
    {
     "name": "stdout",
     "output_type": "stream",
     "text": [
      "[[0.01353857 0.02039515 0.0128373  ... 0.02081429 0.00554584 0.00883632]\n",
      " [0.01443389 0.02174391 0.01368625 ... 0.02219076 0.00591259 0.00942068]\n",
      " [0.01512196 0.02278044 0.01433868 ... 0.0232486  0.00619445 0.00986976]\n",
      " ...\n",
      " [0.01451197 0.02186152 0.01376028 ... 0.02231079 0.00594457 0.00947163]\n",
      " [0.0078894  0.01188498 0.00748075 ... 0.01212922 0.00323176 0.00514924]\n",
      " [0.0144247  0.02173006 0.01367753 ... 0.02217663 0.00590883 0.00941468]]\n"
     ]
    }
   ],
   "source": [
    "n_singularvalues = 1\n",
    "U, s, V = np.linalg.svd(m_measure_sim, full_matrices=False)\n",
    "D = np.diag(s[:n_singularvalues])\n",
    "m_udv_measure_sim = np.dot(U[:,:n_singularvalues], np.dot(D, V[:n_singularvalues,:]))\n",
    "print(m_udv_measure_sim)"
   ]
  },
  {
   "cell_type": "code",
   "execution_count": 11,
   "metadata": {},
   "outputs": [],
   "source": [
    "docs_samples_measure_sim_udv_path = get_relative_path(data_path, DOCS_SAMPLES_TF_IDF_UDV)\n",
    "save_pickle(m_udv_measure_sim, docs_samples_measure_sim_udv_path)"
   ]
  }
 ],
 "metadata": {
  "kernelspec": {
   "display_name": "Python 3",
   "language": "python",
   "name": "python3"
  },
  "language_info": {
   "codemirror_mode": {
    "name": "ipython",
    "version": 3
   },
   "file_extension": ".py",
   "mimetype": "text/x-python",
   "name": "python",
   "nbconvert_exporter": "python",
   "pygments_lexer": "ipython3",
   "version": "3.6.6"
  }
 },
 "nbformat": 4,
 "nbformat_minor": 2
}
