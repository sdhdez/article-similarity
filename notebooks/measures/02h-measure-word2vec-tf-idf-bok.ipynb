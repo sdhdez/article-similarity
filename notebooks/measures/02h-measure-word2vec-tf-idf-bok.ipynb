{
 "cells": [
  {
   "cell_type": "code",
   "execution_count": 1,
   "metadata": {},
   "outputs": [],
   "source": [
    "import sys\n",
    "import os\n",
    "import random\n",
    "# Counter\n",
    "from collections import Counter\n",
    "# Package\n",
    "import somhos.resources.dataset as rd\n",
    "import somhos.resources.queries as rq\n",
    "from somhos.methods.useful import save_pickle, load_pickle, wordvectors_centroid\n",
    "from somhos.config.paths import *"
   ]
  },
  {
   "cell_type": "markdown",
   "metadata": {},
   "source": [
    "Default path"
   ]
  },
  {
   "cell_type": "code",
   "execution_count": 2,
   "metadata": {},
   "outputs": [
    {
     "data": {
      "text/plain": [
       "True"
      ]
     },
     "execution_count": 2,
     "metadata": {},
     "output_type": "execute_result"
    }
   ],
   "source": [
    "prefix_path = \"../../\"\n",
    "data_path = get_relative_path(prefix_path, V9_PATH)\n",
    "os.path.exists(data_path)"
   ]
  },
  {
   "cell_type": "markdown",
   "metadata": {},
   "source": [
    "Load samples"
   ]
  },
  {
   "cell_type": "code",
   "execution_count": 3,
   "metadata": {},
   "outputs": [
    {
     "name": "stdout",
     "output_type": "stream",
     "text": [
      "Samples size: (1000, 1000)\n"
     ]
    }
   ],
   "source": [
    "# Load sample A\n",
    "docs_sample_a_path = get_relative_path(data_path, DOCS_SAMPLE_A_SUFFIX)\n",
    "docs_sample_a = load_pickle(docs_sample_a_path)\n",
    "# Load sample B\n",
    "docs_sample_b_path = get_relative_path(data_path, DOCS_SAMPLE_B_SUFFIX)\n",
    "docs_sample_b = load_pickle(docs_sample_b_path)\n",
    "\n",
    "print(\"Samples size: (%d, %d)\" % (len(docs_sample_a), len(docs_sample_b)))"
   ]
  },
  {
   "cell_type": "markdown",
   "metadata": {},
   "source": [
    "Load samples content"
   ]
  },
  {
   "cell_type": "code",
   "execution_count": 4,
   "metadata": {},
   "outputs": [
    {
     "name": "stdout",
     "output_type": "stream",
     "text": [
      "Docs: 2000\n"
     ]
    }
   ],
   "source": [
    "docs_samples_content_path = get_relative_path(data_path, DOCS_SAMPLES_CONTENT)\n",
    "samples_content = load_pickle(docs_samples_content_path)\n",
    "print(\"Docs: %d\" % len(samples_content))"
   ]
  },
  {
   "cell_type": "code",
   "execution_count": 5,
   "metadata": {},
   "outputs": [],
   "source": [
    "from itertools import product\n",
    "import numpy as np\n",
    "from scipy.spatial.distance import cosine as cosine_distance\n",
    "import gensim"
   ]
  },
  {
   "cell_type": "markdown",
   "metadata": {},
   "source": [
    "Path to word2vec embeddings"
   ]
  },
  {
   "cell_type": "code",
   "execution_count": 6,
   "metadata": {},
   "outputs": [
    {
     "data": {
      "text/plain": [
       "True"
      ]
     },
     "execution_count": 6,
     "metadata": {},
     "output_type": "execute_result"
    }
   ],
   "source": [
    "word2vec_path = get_relative_path(prefix_path, DEAULT_WORDVECTORS)\n",
    "os.path.exists(word2vec_path)"
   ]
  },
  {
   "cell_type": "code",
   "execution_count": 7,
   "metadata": {},
   "outputs": [],
   "source": [
    "wordvectors = gensim.models.KeyedVectors.load_word2vec_format(word2vec_path, binary=True)"
   ]
  },
  {
   "cell_type": "markdown",
   "metadata": {},
   "source": [
    "Load counts documents by word"
   ]
  },
  {
   "cell_type": "code",
   "execution_count": 8,
   "metadata": {},
   "outputs": [],
   "source": [
    "docs_samples_word_doc_count_path = get_relative_path(data_path, DOCS_SAMPLES_WORD_DOC_COUNT)\n",
    "samples_word_in_docs_count = load_pickle(docs_samples_word_doc_count_path)"
   ]
  },
  {
   "cell_type": "markdown",
   "metadata": {},
   "source": [
    "Measure $idf(t, D) = log\\frac{N}{\\vert \\left\\{ d\\in D:t\\in d \\right\\} \\vert}$"
   ]
  },
  {
   "cell_type": "code",
   "execution_count": 9,
   "metadata": {},
   "outputs": [],
   "source": [
    "n_docs = len(docs_sample_a) + len(docs_sample_b)\n",
    "t_idf = {t: np.log(n_docs/v) for t, v in samples_word_in_docs_count.items()}"
   ]
  },
  {
   "cell_type": "code",
   "execution_count": 10,
   "metadata": {},
   "outputs": [
    {
     "name": "stdout",
     "output_type": "stream",
     "text": [
      "[[0.43115028 0.54634225 0.51371095 ... 0.51008934 0.2913128  0.38669381]\n",
      " [0.53935693 0.74775339 0.4639082  ... 0.62689215 0.42685427 0.46811497]\n",
      " [0.47276884 0.58106644 0.52075612 ... 0.60518409 0.4051908  0.60488185]\n",
      " ...\n",
      " [0.3643233  0.60972315 0.43664798 ... 0.57395037 0.35191613 0.50837997]\n",
      " [0.44619979 0.52402713 0.26508918 ... 0.43225973 0.65464446 0.47329157]\n",
      " [0.4767633  0.64211708 0.51579008 ... 0.67357213 0.44694537 0.55012258]]\n"
     ]
    }
   ],
   "source": [
    "sample_a_indices = range(0, len(docs_sample_a))\n",
    "sample_b_indices = range(0, len(docs_sample_b))\n",
    "\n",
    "def get_content_for(index, samples_content, field='kps-normalized'):\n",
    "    return list(t for k in samples_content[index][field] for t in k.decode('utf-8').replace(\"-\", \" \").split())\n",
    "\n",
    "def tf_doc(terms):\n",
    "    tf = Counter(terms)\n",
    "    cnt = sum(tf.values())\n",
    "    return {k: v/cnt for k, v in tf.items()}\n",
    "\n",
    "m_measure_sim = np.zeros([len(docs_sample_a), len(docs_sample_b)]) \n",
    "for i, j in product(sample_a_indices, sample_a_indices):\n",
    "    # Term frequencies by document\n",
    "    tf_a = tf_doc(get_content_for(docs_sample_a[i], samples_content))\n",
    "    tf_b = tf_doc(get_content_for(docs_sample_b[j], samples_content))\n",
    "    # Term list\n",
    "    t_list = list(set(tf_a) | set(tf_b))\n",
    "    # TF-IDF\n",
    "    tf_idf_a = np.zeros([len(t_list),])\n",
    "    tf_idf_b = np.zeros([len(t_list),])\n",
    "    # wordvector length 300\n",
    "    centroid_a = mean = np.zeros(300, dtype=np.float64)\n",
    "    centroid_b = mean = np.zeros(300, dtype=np.float64)\n",
    "    for pos, t in enumerate(t_list):\n",
    "        if t and t in wordvectors.vocab and t in t_idf:\n",
    "            wv = wordvectors.get_vector(t)\n",
    "            if t in tf_a:\n",
    "                tf_idf_a[pos] = tf_a[t] * t_idf[t]\n",
    "                centroid_a += wv * tf_idf_a[pos]\n",
    "            if t in tf_b:\n",
    "                tf_idf_b[pos] = tf_b[t] * t_idf[t]\n",
    "                centroid_b += wv * tf_idf_b[pos]\n",
    "            \n",
    "    sum_tf_idf_a = sum(tf_idf_a)\n",
    "    sum_tf_idf_b = sum(tf_idf_b)\n",
    "    # Centroid\n",
    "    centroid_a /= sum_tf_idf_a\n",
    "    centroid_b /= sum_tf_idf_b\n",
    "    \n",
    "    # Measure\n",
    "    measure_sim = 1.0 - cosine_distance(centroid_a, centroid_b)\n",
    "    m_measure_sim[i, j] = measure_sim\n",
    "\n",
    "print(m_measure_sim)"
   ]
  },
  {
   "cell_type": "code",
   "execution_count": 11,
   "metadata": {},
   "outputs": [],
   "source": [
    "docs_samples_measure_sim_path = get_relative_path(data_path, DOCS_SAMPLES_WORD2VEC_TFIDF_KPS)\n",
    "save_pickle(m_measure_sim, docs_samples_measure_sim_path)"
   ]
  },
  {
   "cell_type": "code",
   "execution_count": 12,
   "metadata": {},
   "outputs": [
    {
     "name": "stdout",
     "output_type": "stream",
     "text": [
      "[[0.42301795 0.57503812 0.41932352 ... 0.54249371 0.39724739 0.44289797]\n",
      " [0.52300512 0.71095772 0.51843745 ... 0.67072092 0.49114326 0.54758411]\n",
      " [0.49526525 0.67324896 0.49093984 ... 0.63514629 0.46509332 0.51854058]\n",
      " ...\n",
      " [0.44335411 0.60268249 0.43948207 ... 0.56857354 0.41634465 0.46418984]\n",
      " [0.3652919  0.49656703 0.36210162 ... 0.46846371 0.34303805 0.38245905]\n",
      " [0.52350031 0.71163086 0.51892831 ... 0.67135596 0.49160828 0.54810257]]\n"
     ]
    }
   ],
   "source": [
    "n_singularvalues = 1\n",
    "U, s, V = np.linalg.svd(m_measure_sim, full_matrices=False)\n",
    "D = np.diag(s[:n_singularvalues])\n",
    "m_udv_measure_sim = np.dot(U[:,:n_singularvalues], np.dot(D, V[:n_singularvalues,:]))\n",
    "print(m_udv_measure_sim)"
   ]
  },
  {
   "cell_type": "code",
   "execution_count": 13,
   "metadata": {},
   "outputs": [],
   "source": [
    "docs_samples_measure_sim_udv_path = get_relative_path(data_path, DOCS_SAMPLES_WORD2VEC_TFIDF_UDV_KPS)\n",
    "save_pickle(m_udv_measure_sim, docs_samples_measure_sim_udv_path)"
   ]
  }
 ],
 "metadata": {
  "kernelspec": {
   "display_name": "Python 3",
   "language": "python",
   "name": "python3"
  },
  "language_info": {
   "codemirror_mode": {
    "name": "ipython",
    "version": 3
   },
   "file_extension": ".py",
   "mimetype": "text/x-python",
   "name": "python",
   "nbconvert_exporter": "python",
   "pygments_lexer": "ipython3",
   "version": "3.6.6"
  }
 },
 "nbformat": 4,
 "nbformat_minor": 2
}
