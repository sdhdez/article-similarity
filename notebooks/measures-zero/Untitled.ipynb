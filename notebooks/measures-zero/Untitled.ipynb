{
 "cells": [
  {
   "cell_type": "code",
   "execution_count": 30,
   "metadata": {},
   "outputs": [],
   "source": [
    "import numpy as np"
   ]
  },
  {
   "cell_type": "code",
   "execution_count": 2,
   "metadata": {},
   "outputs": [
    {
     "data": {
      "text/plain": [
       "array([-0.83952602, -2.07803244,  0.54292545,  0.08391622,  0.19783024,\n",
       "       -0.86750131, -0.66955423,  0.05705998,  0.66313425, -1.52172115,\n",
       "       -1.30877611,  0.75643969, -0.81653159,  0.19580969, -0.59007341,\n",
       "       -0.26979456, -0.67192084,  0.1644428 ,  0.04890279, -0.03767182,\n",
       "        0.20647888, -0.50767926, -0.8873736 ,  1.72460097,  0.31404649,\n",
       "       -1.23587927, -1.4575494 ,  1.01191854,  0.96749189, -1.85633363,\n",
       "        1.35002345, -0.56392008, -1.62425577,  0.0497654 ,  0.43287837,\n",
       "       -0.87925742,  1.7614822 , -0.57629702,  0.60402179,  1.95143893,\n",
       "        0.7859023 , -0.03167746, -0.41332311,  1.61274127,  0.32963349,\n",
       "       -0.5167404 , -1.10963484,  0.70335643,  0.37631949, -0.12170387,\n",
       "        1.08260847, -0.03621862, -1.12479262, -0.05536466,  1.68287188,\n",
       "       -1.33883067, -1.79104468,  0.04767237, -0.80530032,  0.35380726,\n",
       "       -0.9894574 , -0.30908276,  0.72114549, -0.34067306,  1.63871332,\n",
       "       -1.63001984,  1.50075347,  0.1901534 ,  1.48721657, -0.0871783 ,\n",
       "       -0.06995038,  0.99998867,  0.77842976, -0.30285464,  0.39457261,\n",
       "       -1.40319575,  0.83683902, -1.40165535,  0.17568736,  0.53879829,\n",
       "       -0.1862159 , -0.51473872,  0.31319427,  0.65999416,  1.43764218,\n",
       "       -0.12989367,  0.97774201, -0.95384395, -1.05882374, -0.67675099,\n",
       "       -0.27995342,  2.10978008, -0.70712965, -1.40326712,  1.41018359,\n",
       "       -0.96627426,  0.67972907,  1.6781392 ,  0.1439757 , -1.10228996])"
      ]
     },
     "execution_count": 2,
     "metadata": {},
     "output_type": "execute_result"
    }
   ],
   "source": [
    "np.random.randn(100, 2)[:,1]"
   ]
  },
  {
   "cell_type": "code",
   "execution_count": 3,
   "metadata": {},
   "outputs": [],
   "source": [
    "import numpy as np"
   ]
  },
  {
   "cell_type": "code",
   "execution_count": 4,
   "metadata": {},
   "outputs": [
    {
     "data": {
      "text/plain": [
       "4"
      ]
     },
     "execution_count": 4,
     "metadata": {},
     "output_type": "execute_result"
    }
   ],
   "source": [
    "int(np.ceil(7/2))"
   ]
  },
  {
   "cell_type": "code",
   "execution_count": 5,
   "metadata": {},
   "outputs": [
    {
     "name": "stdout",
     "output_type": "stream",
     "text": [
      "-inf\n"
     ]
    },
    {
     "name": "stderr",
     "output_type": "stream",
     "text": [
      "/home/snov/environments/artsim/lib/python3.7/site-packages/ipykernel_launcher.py:2: RuntimeWarning: divide by zero encountered in log\n",
      "  \n"
     ]
    }
   ],
   "source": [
    "i = float(\"inf\")\n",
    "print(np.log(0))"
   ]
  },
  {
   "cell_type": "code",
   "execution_count": 6,
   "metadata": {},
   "outputs": [
    {
     "name": "stdout",
     "output_type": "stream",
     "text": [
      "[[0. 0. 0. 0. 0. 0. 0. 0. 0. 0.]\n",
      " [0. 0. 0. 0. 0. 0. 0. 0. 0. 0.]\n",
      " [0. 0. 0. 0. 0. 0. 0. 0. 0. 0.]\n",
      " [0. 0. 0. 0. 0. 0. 0. 0. 0. 0.]\n",
      " [0. 0. 0. 0. 0. 0. 0. 0. 0. 0.]\n",
      " [0. 0. 0. 0. 0. 0. 0. 0. 0. 0.]\n",
      " [0. 0. 0. 0. 0. 0. 0. 0. 0. 0.]\n",
      " [0. 0. 0. 0. 0. 0. 0. 0. 0. 0.]\n",
      " [0. 0. 0. 0. 0. 0. 0. 0. 0. 0.]\n",
      " [0. 0. 0. 0. 0. 0. 0. 0. 0. 0.]]\n"
     ]
    }
   ],
   "source": [
    "A = np.zeros((10, 62388))\n",
    "B = np.zeros((10, 62388))\n",
    "print(np.dot(A, B.T))"
   ]
  },
  {
   "cell_type": "code",
   "execution_count": 7,
   "metadata": {},
   "outputs": [
    {
     "data": {
      "text/plain": [
       "5.012319214822605e-95"
      ]
     },
     "execution_count": 7,
     "metadata": {},
     "output_type": "execute_result"
    }
   ],
   "source": [
    "((1/62388)**20)*40"
   ]
  },
  {
   "cell_type": "code",
   "execution_count": 8,
   "metadata": {},
   "outputs": [],
   "source": [
    "from gensim.test.utils import common_dictionary, common_corpus\n",
    "from gensim.models import LsiModel\n",
    "\n",
    "model = LsiModel(common_corpus, id2word=common_dictionary)\n",
    "vectorized_corpus = model[common_corpus]  # vectorize input copus in BoW format"
   ]
  },
  {
   "cell_type": "code",
   "execution_count": 19,
   "metadata": {},
   "outputs": [
    {
     "name": "stdout",
     "output_type": "stream",
     "text": [
      "[(0, 'computer'), (1, 'human'), (2, 'interface'), (3, 'response'), (4, 'survey'), (5, 'system'), (6, 'time'), (7, 'user'), (8, 'eps'), (9, 'trees'), (10, 'graph'), (11, 'minors')] <class 'gensim.corpora.dictionary.Dictionary'>\n",
      "[(0, 1), (1, 1), (2, 1)]\n",
      "[(0, 1), (3, 1), (4, 1), (5, 1), (6, 1), (7, 1)]\n",
      "[(2, 1), (5, 1), (7, 1), (8, 1)]\n",
      "[(1, 1), (5, 2), (8, 1)]\n",
      "[(3, 1), (6, 1), (7, 1)]\n",
      "[(9, 1)]\n",
      "[(9, 1), (10, 1)]\n",
      "[(9, 1), (10, 1), (11, 1)]\n",
      "[(4, 1), (10, 1), (11, 1)]\n",
      "0\n",
      "1\n",
      "2\n",
      "3\n",
      "4\n",
      "5\n",
      "6\n",
      "7\n",
      "8\n",
      "9\n",
      "10\n",
      "11\n"
     ]
    },
    {
     "data": {
      "text/plain": [
       "[(0, 1), (1, 1), (2, 1)]"
      ]
     },
     "execution_count": 19,
     "metadata": {},
     "output_type": "execute_result"
    }
   ],
   "source": [
    "print(list((k,v) for k,v in common_dictionary.items()), type(common_dictionary))\n",
    "\n",
    "for cc in common_corpus:\n",
    "    print(cc)\n",
    "\n",
    "\n",
    "for k in common_dictionary.keys():\n",
    "    print(k)\n",
    "\n",
    "common_corpus[0]"
   ]
  },
  {
   "cell_type": "code",
   "execution_count": null,
   "metadata": {},
   "outputs": [],
   "source": [
    "print(model, list(vectorized_corpus))"
   ]
  },
  {
   "cell_type": "code",
   "execution_count": null,
   "metadata": {},
   "outputs": [],
   "source": [
    "from somhos.methods.useful import save_pickle, load_pickle\n",
    "from somhos.config.paths import *\n",
    "\n",
    "prefix_path = \"../../\"\n",
    "data_path = get_relative_path(prefix_path, V9GAMMA_PATH)\n",
    "\n",
    "# Load sample A\n",
    "docs_sample_a = load_pickle(get_relative_path(data_path, DOCS_SAMPLE_A_SUFFIX))\n",
    "# Load sample B\n",
    "docs_sample_b = load_pickle(get_relative_path(data_path, DOCS_SAMPLE_B_SUFFIX))\n",
    "\n",
    "print(\"Samples size: (%d, %d)\" % (len(docs_sample_a), len(docs_sample_b)))\n",
    "\n",
    "samples_content = load_pickle(get_relative_path(data_path, DOCS_SAMPLES_CONTENT))\n",
    "print(\"Docs: %d\" % len(samples_content))\n",
    "\n",
    "def get_content_for(index, samples_content, field='kps-normalized'):\n",
    "    return samples_content[index][field]\n",
    "\n",
    "print(get_content_for(docs_sample_a[0], samples_content, field='tokens'))\n",
    "print(get_content_for(docs_sample_a[0], samples_content, field='content'))"
   ]
  },
  {
   "cell_type": "code",
   "execution_count": 32,
   "metadata": {},
   "outputs": [
    {
     "name": "stdout",
     "output_type": "stream",
     "text": [
      "0.6236095644623235\n",
      "2.23606797749979\n",
      "0.1982162742627268\n",
      "0.1982162742627268\n",
      "0.19821627426272692\n"
     ]
    }
   ],
   "source": [
    "from scipy.spatial.distance import cosine as cosine_distance\n",
    "\n",
    "p = np.array([1, 2, 3])\n",
    "q = np.array([0, 0, 3])\n",
    "print(np.linalg.norm(p/np.sum(p) - q/np.sum(q)))\n",
    "print(np.linalg.norm(p - q))\n",
    "print(cosine_distance(p, q))\n",
    "print(1.0 - np.dot(p, q)/(np.linalg.norm(p)*np.linalg.norm(q)))\n",
    "print(cosine_distance(p/np.sum(p), q/np.sum(q)))"
   ]
  },
  {
   "cell_type": "code",
   "execution_count": 1,
   "metadata": {},
   "outputs": [],
   "source": [
    ">>> from gensim.test.utils import common_texts\n",
    ">>> from gensim.models.doc2vec import Doc2Vec, TaggedDocument\n",
    ">>>\n",
    ">>> documents = [TaggedDocument(doc, [i]) for i, doc in enumerate(common_texts)]\n",
    ">>> model = Doc2Vec(documents, vector_size=5, window=2, min_count=1, workers=4)"
   ]
  },
  {
   "cell_type": "code",
   "execution_count": 7,
   "metadata": {},
   "outputs": [
    {
     "data": {
      "text/plain": [
       "[['human', 'interface', 'computer'],\n",
       " ['survey', 'user', 'computer', 'system', 'response', 'time'],\n",
       " ['eps', 'user', 'interface', 'system'],\n",
       " ['system', 'human', 'system', 'eps'],\n",
       " ['user', 'response', 'time'],\n",
       " ['trees'],\n",
       " ['graph', 'trees'],\n",
       " ['graph', 'minors', 'trees'],\n",
       " ['graph', 'minors', 'survey']]"
      ]
     },
     "execution_count": 7,
     "metadata": {},
     "output_type": "execute_result"
    }
   ],
   "source": [
    "common_texts"
   ]
  },
  {
   "cell_type": "code",
   "execution_count": 6,
   "metadata": {},
   "outputs": [
    {
     "data": {
      "text/plain": [
       "[TaggedDocument(words=['human', 'interface', 'computer'], tags=[0]),\n",
       " TaggedDocument(words=['survey', 'user', 'computer', 'system', 'response', 'time'], tags=[1]),\n",
       " TaggedDocument(words=['eps', 'user', 'interface', 'system'], tags=[2]),\n",
       " TaggedDocument(words=['system', 'human', 'system', 'eps'], tags=[3]),\n",
       " TaggedDocument(words=['user', 'response', 'time'], tags=[4]),\n",
       " TaggedDocument(words=['trees'], tags=[5]),\n",
       " TaggedDocument(words=['graph', 'trees'], tags=[6]),\n",
       " TaggedDocument(words=['graph', 'minors', 'trees'], tags=[7]),\n",
       " TaggedDocument(words=['graph', 'minors', 'survey'], tags=[8])]"
      ]
     },
     "execution_count": 6,
     "metadata": {},
     "output_type": "execute_result"
    }
   ],
   "source": [
    "[TaggedDocument(doc, [i]) for i, doc in enumerate(common_texts)]"
   ]
  },
  {
   "cell_type": "code",
   "execution_count": 22,
   "metadata": {},
   "outputs": [],
   "source": [
    ">>> from gensim.models import LdaModel\n",
    ">>> from gensim.test.utils import common_texts\n",
    ">>> from gensim.corpora.dictionary import Dictionary\n",
    ">>>\n",
    ">>> # Create a corpus from a list of texts\n",
    ">>> common_dictionary = Dictionary(common_texts)\n",
    ">>> common_corpus = [common_dictionary.doc2bow(text) for text in common_texts]\n",
    ">>>\n",
    ">>> # Train the model on the corpus.\n",
    ">>> lda = LdaModel(common_corpus, num_topics=10)\n",
    "\n",
    "\n",
    ">>> # Create a new corpus, made of previously unseen documents.\n",
    ">>> other_texts = [\n",
    "...     ['computer', 'time', 'graph'],\n",
    "...     ['survey', 'response', 'eps'],\n",
    "...     ['human', 'system', 'computer']\n",
    "... ]\n",
    ">>> other_corpus = [common_dictionary.doc2bow(text) for text in other_texts]\n",
    ">>>"
   ]
  },
  {
   "cell_type": "code",
   "execution_count": 24,
   "metadata": {},
   "outputs": [],
   "source": [
    "unseen_doc = other_corpus[0]\n",
    "vector = lda[other_corpus]"
   ]
  },
  {
   "cell_type": "code",
   "execution_count": 28,
   "metadata": {},
   "outputs": [
    {
     "name": "stdout",
     "output_type": "stream",
     "text": [
      "[(0, 0.025012165), (1, 0.025000004), (2, 0.025000004), (3, 0.025000008), (4, 0.5250005), (5, 0.025000004), (6, 0.025000008), (7, 0.025000004), (8, 0.025000008), (9, 0.2749873)]\n"
     ]
    }
   ],
   "source": [
    "print(vector[1])"
   ]
  },
  {
   "cell_type": "code",
   "execution_count": null,
   "metadata": {},
   "outputs": [],
   "source": []
  }
 ],
 "metadata": {
  "kernelspec": {
   "display_name": "Python 3",
   "language": "python",
   "name": "python3"
  },
  "language_info": {
   "codemirror_mode": {
    "name": "ipython",
    "version": 3
   },
   "file_extension": ".py",
   "mimetype": "text/x-python",
   "name": "python",
   "nbconvert_exporter": "python",
   "pygments_lexer": "ipython3",
   "version": "3.7.0"
  }
 },
 "nbformat": 4,
 "nbformat_minor": 2
}
