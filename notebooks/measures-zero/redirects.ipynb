{
 "cells": [
  {
   "cell_type": "code",
   "execution_count": 1,
   "metadata": {},
   "outputs": [],
   "source": [
    "import sys\n",
    "import os\n",
    "import random\n",
    "# Counter\n",
    "from collections import Counter\n",
    "# Package\n",
    "import somhos.resources.dataset as rd\n",
    "import somhos.resources.queries as rq\n",
    "from somhos.methods.useful import save_pickle, load_pickle, wordvectors_centroid\n",
    "from somhos.config.paths import *"
   ]
  },
  {
   "cell_type": "code",
   "execution_count": 2,
   "metadata": {},
   "outputs": [],
   "source": [
    "redirects = load_pickle(\"../../extras/redirect-pages.pkl\")"
   ]
  },
  {
   "cell_type": "code",
   "execution_count": 3,
   "metadata": {},
   "outputs": [
    {
     "name": "stdout",
     "output_type": "stream",
     "text": [
      "2950138 <class 'dict'>\n"
     ]
    }
   ],
   "source": [
    "print(len(redirects), type(redirects))\n",
    "# print(len(pages), type(pages))"
   ]
  },
  {
   "cell_type": "code",
   "execution_count": 4,
   "metadata": {},
   "outputs": [
    {
     "data": {
      "text/plain": [
       "{'binary logit model',\n",
       " 'conditional logit analysis',\n",
       " 'logistic regression',\n",
       " 'logit model',\n",
       " 'logit regression'}"
      ]
     },
     "execution_count": 4,
     "metadata": {},
     "output_type": "execute_result"
    }
   ],
   "source": [
    "redirects[\"logistic regression\"]"
   ]
  },
  {
   "cell_type": "code",
   "execution_count": 5,
   "metadata": {},
   "outputs": [],
   "source": [
    "page_list = []\n",
    "for r, rps in redirects.items():\n",
    "    page_list.append(r)\n",
    "    page_list += list(rps)\n",
    "page_list = list(set(page_list))"
   ]
  },
  {
   "cell_type": "code",
   "execution_count": 6,
   "metadata": {},
   "outputs": [
    {
     "name": "stdout",
     "output_type": "stream",
     "text": [
      "10528510\n"
     ]
    }
   ],
   "source": [
    "print(len(page_list))"
   ]
  },
  {
   "cell_type": "code",
   "execution_count": 7,
   "metadata": {},
   "outputs": [],
   "source": [
    "wiki_pages = {}\n",
    "pages_dictionary = {}\n",
    "for i, p in enumerate(page_list):\n",
    "    wiki_pages[p] = i\n",
    "    pages_dictionary[i] = p"
   ]
  },
  {
   "cell_type": "code",
   "execution_count": 8,
   "metadata": {},
   "outputs": [
    {
     "name": "stdout",
     "output_type": "stream",
     "text": [
      "10528510 5616025\n",
      "10528510 logit regression\n"
     ]
    }
   ],
   "source": [
    "example = 'logit regression'\n",
    "print(len(wiki_pages), wiki_pages[example])\n",
    "print(len(pages_dictionary), pages_dictionary[wiki_pages[example]])"
   ]
  },
  {
   "cell_type": "code",
   "execution_count": 9,
   "metadata": {},
   "outputs": [],
   "source": [
    "page_redirect = {}\n",
    "redirect_page = {}\n",
    "for r, rps in redirects.items():\n",
    "    redirect_page.setdefault(wiki_pages[r], set())\n",
    "    for p in rps:\n",
    "        page_redirect[wiki_pages[p]] = wiki_pages[r]\n",
    "        redirect_page[wiki_pages[r]].add(wiki_pages[p])\n",
    "    page_redirect[wiki_pages[r]] = wiki_pages[r]\n",
    "    redirect_page[wiki_pages[r]].add(wiki_pages[r])"
   ]
  },
  {
   "cell_type": "code",
   "execution_count": 10,
   "metadata": {},
   "outputs": [
    {
     "name": "stdout",
     "output_type": "stream",
     "text": [
      "10528510 2950138\n"
     ]
    }
   ],
   "source": [
    "print(len(page_redirect), len(redirect_page))"
   ]
  },
  {
   "cell_type": "code",
   "execution_count": 11,
   "metadata": {},
   "outputs": [
    {
     "data": {
      "text/plain": [
       "'logistic regression'"
      ]
     },
     "execution_count": 11,
     "metadata": {},
     "output_type": "execute_result"
    }
   ],
   "source": [
    "pages_dictionary[page_redirect[wiki_pages['logit regression']]]"
   ]
  },
  {
   "cell_type": "code",
   "execution_count": 38,
   "metadata": {},
   "outputs": [
    {
     "data": {
      "text/plain": [
       "'logistic regression'"
      ]
     },
     "execution_count": 38,
     "metadata": {},
     "output_type": "execute_result"
    }
   ],
   "source": [
    "pages_dictionary[page_redirect[wiki_pages['logistic regression']]]"
   ]
  },
  {
   "cell_type": "code",
   "execution_count": 37,
   "metadata": {},
   "outputs": [
    {
     "data": {
      "text/plain": [
       "'logistic regression'"
      ]
     },
     "execution_count": 37,
     "metadata": {},
     "output_type": "execute_result"
    }
   ],
   "source": [
    "pages_dictionary[page_redirect[wiki_pages['logit model']]]"
   ]
  },
  {
   "cell_type": "code",
   "execution_count": 13,
   "metadata": {},
   "outputs": [
    {
     "data": {
      "text/plain": [
       "['conditional logit analysis',\n",
       " 'logistic regression',\n",
       " 'logit model',\n",
       " 'binary logit model',\n",
       " 'logit regression']"
      ]
     },
     "execution_count": 13,
     "metadata": {},
     "output_type": "execute_result"
    }
   ],
   "source": [
    "[pages_dictionary[p] for p in redirect_page[wiki_pages['logistic regression']]]"
   ]
  },
  {
   "cell_type": "raw",
   "metadata": {},
   "source": [
    "for r, rps in redirects.items():\n",
    "    if len(redirect_page[wiki_pages[r]]) == len(rps):\n",
    "        continue\n",
    "    if len(redirect_page[wiki_pages[r]]) - 1 == len(rps):\n",
    "        # print(r, rps.symmetric_difference(set(pages_dictionary[p] for p in redirect_page[wiki_pages[r]])) )\n",
    "        # break\n",
    "        continue\n",
    "    print(r, rps.symmetric_difference(set(pages_dictionary[p] for p in redirect_page[wiki_pages[r]])) )\n",
    "    break"
   ]
  },
  {
   "cell_type": "code",
   "execution_count": 28,
   "metadata": {},
   "outputs": [],
   "source": [
    "preffix = '../../'"
   ]
  },
  {
   "cell_type": "code",
   "execution_count": 29,
   "metadata": {},
   "outputs": [],
   "source": [
    "save_pickle(wiki_pages, get_relative_path(preffix, WIKI_PAGES))"
   ]
  },
  {
   "cell_type": "code",
   "execution_count": 34,
   "metadata": {},
   "outputs": [],
   "source": [
    "save_pickle(pages_dictionary, get_relative_path(preffix, PAGES_DICTIONARY))"
   ]
  },
  {
   "cell_type": "code",
   "execution_count": 35,
   "metadata": {},
   "outputs": [],
   "source": [
    "save_pickle(page_redirect, get_relative_path(preffix, PAGE_REDIRECT))"
   ]
  },
  {
   "cell_type": "code",
   "execution_count": 36,
   "metadata": {},
   "outputs": [],
   "source": [
    "save_pickle(redirect_page, get_relative_path(preffix, REDIRECT_PAGE))"
   ]
  }
 ],
 "metadata": {
  "kernelspec": {
   "display_name": "Python 3",
   "language": "python",
   "name": "python3"
  },
  "language_info": {
   "codemirror_mode": {
    "name": "ipython",
    "version": 3
   },
   "file_extension": ".py",
   "mimetype": "text/x-python",
   "name": "python",
   "nbconvert_exporter": "python",
   "pygments_lexer": "ipython3",
   "version": "3.7.0"
  }
 },
 "nbformat": 4,
 "nbformat_minor": 2
}
