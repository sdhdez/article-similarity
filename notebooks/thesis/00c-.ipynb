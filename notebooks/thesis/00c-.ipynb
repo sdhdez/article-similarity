{
 "cells": [
  {
   "cell_type": "code",
   "execution_count": 9,
   "metadata": {},
   "outputs": [],
   "source": [
    "import gc\n",
    "from collections import defaultdict, Counter\n",
    "\n",
    "from somhos.config.paths import *\n",
    "from somhos.methods.useful import save_pickle, load_pickle\n",
    "\n",
    "import logging\n",
    "logging.basicConfig(format='%(asctime)s : %(levelname)s : %(message)s', level=logging.INFO)\n",
    "\n",
    "prefix_path = '../../'\n",
    "data_path = get_relative_path(prefix_path, V9GAMMA_PATH)"
   ]
  },
  {
   "cell_type": "code",
   "execution_count": 10,
   "metadata": {},
   "outputs": [
    {
     "name": "stdout",
     "output_type": "stream",
     "text": [
      "39985\n"
     ]
    },
    {
     "data": {
      "text/plain": [
       "[[(9437190, {'index1561736'}), (5008150, {'index2374450'})],\n",
       " [(7340040, {'index2327088', 'index2378558', 'index2381491'}),\n",
       "  (8422844, {'index1291962'})],\n",
       " [(3670036, {'index343883'}), (5516775, {'index753045'})]]"
      ]
     },
     "execution_count": 10,
     "metadata": {},
     "output_type": "execute_result"
    }
   ],
   "source": [
    "keyphrasevariations_docs = load_pickle(get_relative_path(prefix_path, KEYPHRASEVARIATIONS_DOCS))\n",
    "print(len(keyphrasevariations_docs))\n",
    "keyphrasevariations_docs[:3]"
   ]
  },
  {
   "cell_type": "code",
   "execution_count": 11,
   "metadata": {},
   "outputs": [
    {
     "name": "stdout",
     "output_type": "stream",
     "text": [
      "dict_items([('index1561736', 1), ('index2374450', 1), ('index2378558', 1), ('index2327088', 1), ('index2381491', 1), ('index1291962', 1), ('index343883', 1), ('index753045', 1), ('index938790', 1), ('index1813428', 1), ('index2299479', 1), ('index2092012', 1), ('index2260850', 1), ('index1794871', 1), ('index2198881', 1), ('index1377127', 1), ('index2037394', 1), ('index1284917', 1), ('index741633', 1), ('index2120535', 1), ('index2383367', 2), ('index2380605', 1), ('index2315056', 1), ('index2372149', 1), ('index2357401', 1), ('index2370782', 1), ('index2337530', 1), ('index2372947', 1), ('index2372289', 1), ('index2376262', 1), ('index2314520', 1), ('index2369165', 1), ('index2376790', 1), ('index2352783', 1), ('index2370917', 1), ('index2368999', 1), ('index2362842', 1), ('index2371752', 1), ('index2381329', 1), ('index2374147', 1), ('index2374027', 1), ('index2369754', 1), ('index2383004', 1), ('index2380735', 1), ('index2370504', 1), ('index2320957', 1), ('index2377970', 1), ('index2320424', 1), ('index2383641', 1), ('index2377296', 1), ('index2381316', 1), ('index2376589', 1), ('index2371894', 1), ('index2384835', 1), ('index2372253', 1), ('index2370104', 1), ('index2382596', 1), ('index2349873', 1), ('index2363893', 1), ('index2346153', 1), ('index2363797', 1), ('index2381549', 1), ('index2381303', 1), ('index2344825', 1), ('index2369580', 1), ('index2370150', 1), ('index2379155', 1), ('index2370395', 1), ('index2344409', 1), ('index2370281', 1), ('index2369072', 1), ('index2095371', 1), ('index2368464', 1), ('index2379132', 1), ('index2381874', 1), ('index2382941', 1), ('index2370588', 1), ('index2383426', 1), ('index2379100', 1), ('index2382527', 1), ('index2384899', 1), ('index2374345', 1), ('index2377543', 1), ('index2314094', 1), ('index2343422', 1), ('index1717561', 1), ('index1907621', 1), ('index2134938', 1), ('index1188988', 1), ('index952783', 1), ('index1183044', 1), ('index1907846', 1), ('index1398573', 1), ('index1777023', 1), ('index1794896', 1), ('index1963745', 1), ('index2270131', 1), ('index2110146', 1), ('index1243815', 1), ('index1647931', 1), ('index2016490', 1), ('index943210', 1), ('index938921', 1), ('index1964865', 1), ('index1915497', 1), ('index2321444', 1), ('index2336008', 1), ('index885253', 1), ('index724863', 1), ('index1556106', 1), ('index2382181', 1), ('index2379548', 1), ('index2373624', 1), ('index2381580', 1), ('index2375600', 1), ('index2368884', 1), ('index2374104', 1), ('index2349064', 1), ('index2370682', 2), ('index2363312', 1), ('index2378035', 1), ('index2369977', 1), ('index2325785', 1), ('index2377769', 1), ('index2374219', 1), ('index2249836', 1), ('index2008132', 1), ('index2002251', 1), ('index1870462', 1), ('index1890930', 1), ('index1843671', 1), ('index764351', 1), ('index1818724', 1), ('index1818722', 1), ('index1970309', 1), ('index1843573', 1), ('index1843482', 1), ('index2151690', 1), ('index2173331', 1), ('index2336658', 1), ('index2353629', 1), ('index2316727', 1), ('index2370923', 1), ('index2370021', 1), ('index2370734', 1), ('index2313796', 1), ('index2370229', 1), ('index2384637', 1), ('index2354325', 1), ('index2368881', 1), ('index2370423', 1), ('index2374070', 1), ('index2377262', 1), ('index2370171', 1), ('index2384697', 1), ('index2373927', 1), ('index2370309', 1), ('index2377602', 1), ('index2372115', 1), ('index2382847', 1), ('index2370596', 1), ('index2320592', 1), ('index2326570', 1), ('index2373906', 1), ('index2382093', 1), ('index2365103', 1), ('index2374249', 1), ('index2377083', 1), ('index2369773', 1), ('index2371623', 1), ('index2352985', 1), ('index2359251', 1), ('index2365553', 1), ('index2372415', 1), ('index2371410', 1), ('index2371490', 1), ('index2380750', 1), ('index2328136', 1), ('index2371742', 1), ('index2325148', 1), ('index2317288', 1), ('index2371786', 1), ('index2328038', 1), ('index2370779', 1), ('index2333223', 1), ('index2381509', 1), ('index2352794', 1), ('index2379348', 1), ('index2371201', 1), ('index2380940', 1), ('index2372068', 1), ('index2372355', 1), ('index2372532', 1), ('index2329900', 1), ('index2371052', 1), ('index2380108', 1), ('index2377294', 1), ('index2369766', 1), ('index2372357', 1), ('index2381084', 1), ('index2378578', 1), ('index2325186', 1), ('index2375422', 1), ('index2369870', 1), ('index2383793', 1), ('index2370364', 1), ('index2363879', 1), ('index2351483', 1), ('index2314851', 1), ('index2376951', 1), ('index2383233', 1), ('index2380716', 1), ('index2372146', 1), ('index2331084', 1), ('index2384571', 1), ('index2374212', 1), ('index2355532', 1), ('index2370481', 1), ('index2374383', 1), ('index2325936', 1), ('index2334471', 1), ('index2366826', 1), ('index2378495', 1), ('index2327129', 1), ('index2372308', 1), ('index2371508', 1), ('index2376833', 1), ('index2236260', 1), ('index2153319', 1), ('index2113526', 1), ('index2370666', 1), ('index2190002', 1), ('index2147745', 1), ('index2168820', 1), ('index2361557', 1), ('index2370510', 1), ('index2372163', 1), ('index2371730', 1), ('index2371714', 1), ('index2384123', 1), ('index2379217', 1), ('index2372191', 1), ('index2042573', 1), ('index2098688', 1), ('index2098727', 1), ('index2096481', 1), ('index1432011', 1), ('index590594', 1), ('index2172501', 1), ('index2080704', 1), ('index1942825', 1), ('index1499994', 1), ('index1713809', 1), ('index2077703', 1), ('index1271470', 1), ('index2131865', 1), ('index2165942', 1), ('index1763408', 1), ('index2202366', 1), ('index2149025', 1), ('index2177941', 1), ('index1843661', 1), ('index1843651', 1), ('index1559404', 1), ('index1764221', 1), ('index1786988', 1), ('index406680', 1), ('index1439871', 1), ('index1166927', 1), ('index2111405', 1), ('index1827391', 1), ('index697666', 1), ('index1934210', 1), ('index573618', 1), ('index586879', 1), ('index2112958', 1), ('index1525058', 1), ('index2374280', 1), ('index2368934', 1), ('index2381953', 1), ('index2138529', 1), ('index2155596', 1), ('index2077420', 1), ('index2160330', 1), ('index2185404', 1), ('index1493048', 1), ('index2155892', 1), ('index2168604', 1), ('index2372275', 1), ('index2373860', 1), ('index2374039', 1), ('index2384743', 1), ('index2371555', 1), ('index2380723', 1), ('index2367124', 1), ('index2357161', 1), ('index2362912', 1), ('index2369914', 1), ('index2369427', 1), ('index2336828', 1), ('index2355345', 1), ('index2377657', 1), ('index2367935', 1), ('index2378654', 1), ('index2338748', 1), ('index2367253', 1), ('index2381588', 1), ('index2381424', 1), ('index2372487', 1), ('index2369152', 1), ('index2379646', 1), ('index2328689', 1), ('index2372014', 1), ('index2350264', 1), ('index2328184', 1), ('index2329783', 1), ('index2372226', 1), ('index2370230', 1), ('index2382938', 1), ('index2371404', 1), ('index2382956', 1), ('index2370470', 1), ('index2382683', 1), ('index2319932', 1), ('index2382410', 1), ('index2371822', 1), ('index2374168', 1), ('index2372422', 1), ('index2369800', 1), ('index1771177', 1), ('index2158606', 1), ('index2153380', 1), ('index2169863', 1), ('index2376002', 1), ('index392941', 1), ('index2034919', 1), ('index1823868', 1), ('index1221951', 1), ('index2183180', 1), ('index777161', 1), ('index2382036', 1), ('index2377779', 1), ('index2373829', 1), ('index2329618', 1), ('index2327474', 1), ('index2383653', 1), ('index2313612', 1), ('index2370116', 1), ('index2313450', 1), ('index2384956', 1), ('index2382006', 1), ('index2314140', 1), ('index2328532', 1), ('index2348704', 1), ('index2381278', 1), ('index1344989', 1), ('index2384457', 1), ('index2377365', 1), ('index2357406', 1), ('index1955966', 1), ('index2377966', 1), ('index2368591', 1), ('index2379073', 1), ('index2368840', 1), ('index2369953', 1), ('index2368829', 1), ('index2382448', 1), ('index2325314', 1), ('index2374232', 1), ('index2322837', 1), ('index2348296', 1), ('index2384447', 1), ('index640553', 1), ('index665378', 1), ('index622390', 1), ('index1889954', 1), ('index1461949', 1), ('index1806943', 1), ('index1770643', 1), ('index998284', 1), ('index1526898', 1), ('index1526893', 1)])\n"
     ]
    }
   ],
   "source": [
    "docs_variations = Counter()\n",
    "for i, kv in enumerate(keyphrasevariations_docs[:60]):\n",
    "    for _, docs in kv:\n",
    "        for d in docs:\n",
    "            docs_variations[d] += 1\n",
    "print(docs_variations.items())"
   ]
  },
  {
   "cell_type": "code",
   "execution_count": null,
   "metadata": {},
   "outputs": [],
   "source": []
  }
 ],
 "metadata": {
  "kernelspec": {
   "display_name": "Python 3",
   "language": "python",
   "name": "python3"
  },
  "language_info": {
   "codemirror_mode": {
    "name": "ipython",
    "version": 3
   },
   "file_extension": ".py",
   "mimetype": "text/x-python",
   "name": "python",
   "nbconvert_exporter": "python",
   "pygments_lexer": "ipython3",
   "version": "3.7.3"
  }
 },
 "nbformat": 4,
 "nbformat_minor": 2
}
