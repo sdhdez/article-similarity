{
 "cells": [
  {
   "cell_type": "code",
   "execution_count": 1,
   "metadata": {},
   "outputs": [],
   "source": [
    "from somhos.config.paths import *\n",
    "from somhos.methods.useful import save_pickle, load_pickle\n",
    "import somhos.methods.useful as mu"
   ]
  },
  {
   "cell_type": "code",
   "execution_count": 2,
   "metadata": {},
   "outputs": [],
   "source": [
    "prefix_path = '../../'\n",
    "data_path = get_relative_path(prefix_path, V9GAMMA_PATH)"
   ]
  },
  {
   "cell_type": "markdown",
   "metadata": {},
   "source": [
    "# page_dictionary"
   ]
  },
  {
   "cell_type": "code",
   "execution_count": 19,
   "metadata": {},
   "outputs": [
    {
     "name": "stdout",
     "output_type": "stream",
     "text": [
      "11523073\n"
     ]
    }
   ],
   "source": [
    "page_dictionary = load_pickle(get_relative_path(prefix_path, PAGE_DICTIONARY))\n",
    "print(len(page_dictionary))"
   ]
  },
  {
   "cell_type": "code",
   "execution_count": 20,
   "metadata": {},
   "outputs": [
    {
     "data": {
      "text/plain": [
       "'zlotniczki, kuyavian-pomeranian voivodeship'"
      ]
     },
     "execution_count": 20,
     "metadata": {},
     "output_type": "execute_result"
    }
   ],
   "source": [
    "page_dictionary[0]"
   ]
  },
  {
   "cell_type": "markdown",
   "metadata": {},
   "source": [
    "# rd_pages"
   ]
  },
  {
   "cell_type": "code",
   "execution_count": 3,
   "metadata": {},
   "outputs": [
    {
     "name": "stdout",
     "output_type": "stream",
     "text": [
      "3394754\n"
     ]
    }
   ],
   "source": [
    "rd_pages = load_pickle(get_relative_path(prefix_path, REDIRECT_PAGES))\n",
    "print(len(rd_pages))"
   ]
  },
  {
   "cell_type": "code",
   "execution_count": 4,
   "metadata": {},
   "outputs": [
    {
     "name": "stdout",
     "output_type": "stream",
     "text": [
      "3394754\n"
     ]
    }
   ],
   "source": [
    "rd_pages_count = sorted([(k, len(v)) for k, v in rd_pages.items()], key=lambda x: x[1], reverse=True) \n",
    "print(len(rd_pages_count))"
   ]
  },
  {
   "cell_type": "code",
   "execution_count": 31,
   "metadata": {},
   "outputs": [
    {
     "data": {
      "text/plain": [
       "[(7473910, 23664),\n",
       " (1948367, 7081),\n",
       " (5593805, 6423),\n",
       " (1490779, 3380),\n",
       " (8159199, 2775)]"
      ]
     },
     "execution_count": 31,
     "metadata": {},
     "output_type": "execute_result"
    }
   ],
   "source": [
    "rd_pages_count[0:5]"
   ]
  },
  {
   "cell_type": "code",
   "execution_count": 17,
   "metadata": {},
   "outputs": [
    {
     "data": {
      "text/plain": [
       "{97782,\n",
       " 456222,\n",
       " 1666931,\n",
       " 2114218,\n",
       " 2333653,\n",
       " 2680481,\n",
       " 2998241,\n",
       " 3128567,\n",
       " 3438963,\n",
       " 3537769,\n",
       " 3695811,\n",
       " 3967604,\n",
       " 4725689,\n",
       " 4850264,\n",
       " 4953350,\n",
       " 5253469,\n",
       " 5559660,\n",
       " 5747928,\n",
       " 5766891,\n",
       " 5860118,\n",
       " 7321508,\n",
       " 7436573,\n",
       " 7642664,\n",
       " 8236098,\n",
       " 8555493,\n",
       " 8625860,\n",
       " 9207688,\n",
       " 9553551,\n",
       " 9927630,\n",
       " 10442844,\n",
       " 10668868,\n",
       " 10843742}"
      ]
     },
     "execution_count": 17,
     "metadata": {},
     "output_type": "execute_result"
    }
   ],
   "source": [
    "rd_pages[5747928]"
   ]
  },
  {
   "cell_type": "markdown",
   "metadata": {},
   "source": [
    "# page_inverse_dict"
   ]
  },
  {
   "cell_type": "code",
   "execution_count": 9,
   "metadata": {},
   "outputs": [
    {
     "name": "stdout",
     "output_type": "stream",
     "text": [
      "11523073\n"
     ]
    }
   ],
   "source": [
    "page_inverse_dict = load_pickle(get_relative_path(prefix_path, PAGE_INVERSE_DICT))\n",
    "print(len(page_inverse_dict))"
   ]
  },
  {
   "cell_type": "code",
   "execution_count": 18,
   "metadata": {},
   "outputs": [
    {
     "data": {
      "text/plain": [
       "6469445"
      ]
     },
     "execution_count": 18,
     "metadata": {},
     "output_type": "execute_result"
    }
   ],
   "source": [
    "page_inverse_dict['logistic regression']"
   ]
  },
  {
   "cell_type": "code",
   "execution_count": 27,
   "metadata": {},
   "outputs": [
    {
     "data": {
      "text/plain": [
       "{427523,\n",
       " 1452311,\n",
       " 1540535,\n",
       " 2051677,\n",
       " 2390385,\n",
       " 2649305,\n",
       " 2909466,\n",
       " 3516632,\n",
       " 3623317,\n",
       " 4365285,\n",
       " 4867559,\n",
       " 5490904,\n",
       " 5917029,\n",
       " 7085045,\n",
       " 7177360,\n",
       " 7274228,\n",
       " 10670476}"
      ]
     },
     "execution_count": 27,
     "metadata": {},
     "output_type": "execute_result"
    }
   ],
   "source": [
    "rd_pages[page_inverse_dict['entropy (information theory)']]"
   ]
  },
  {
   "cell_type": "code",
   "execution_count": 28,
   "metadata": {},
   "outputs": [
    {
     "data": {
      "text/plain": [
       "['shannon information',\n",
       " 'data compression/entropy',\n",
       " 'entropy (information theory)/comments',\n",
       " 'entropy of a probability distribution',\n",
       " 'data entropy',\n",
       " 'entropy (information theory',\n",
       " 'infotropy',\n",
       " 'information theoretic entropy',\n",
       " 'entropy (information theory)',\n",
       " \"shannon's entropy\",\n",
       " 'weighted entropy',\n",
       " 'information entropy',\n",
       " 'shannon entropy',\n",
       " 'informational entropy',\n",
       " 'average information',\n",
       " 'entropy (information)',\n",
       " 'entropy (statistics)']"
      ]
     },
     "execution_count": 28,
     "metadata": {},
     "output_type": "execute_result"
    }
   ],
   "source": [
    "[page_dictionary[k] for k in rd_pages[page_inverse_dict['entropy (information theory)']]]"
   ]
  },
  {
   "cell_type": "code",
   "execution_count": 29,
   "metadata": {},
   "outputs": [
    {
     "data": {
      "text/plain": [
       "[]"
      ]
     },
     "execution_count": 29,
     "metadata": {},
     "output_type": "execute_result"
    }
   ],
   "source": [
    "[page_dictionary[k] for k in rd_pages[page_inverse_dict['infotropy']]]"
   ]
  },
  {
   "cell_type": "code",
   "execution_count": 49,
   "metadata": {},
   "outputs": [
    {
     "data": {
      "text/plain": [
       "['logistic regression',\n",
       " 'binary logit model',\n",
       " 'conditional logit analysis',\n",
       " 'logit regression',\n",
       " 'logit model',\n",
       " 'logistic regression models']"
      ]
     },
     "execution_count": 49,
     "metadata": {},
     "output_type": "execute_result"
    }
   ],
   "source": [
    "[page_dictionary[k] for k in rd_pages[page_inverse_dict['logistic regression']]]"
   ]
  },
  {
   "cell_type": "code",
   "execution_count": 39,
   "metadata": {},
   "outputs": [
    {
     "data": {
      "text/plain": [
       "[('reference desk', 23664),\n",
       " ('hangul', 7081),\n",
       " ('private use areas', 6423),\n",
       " ('help desk', 3380),\n",
       " ('omics publishing group', 2775)]"
      ]
     },
     "execution_count": 39,
     "metadata": {},
     "output_type": "execute_result"
    }
   ],
   "source": [
    "[(page_dictionary[k], c)  for k, c in rd_pages_count[0:5]]"
   ]
  },
  {
   "cell_type": "code",
   "execution_count": 48,
   "metadata": {},
   "outputs": [
    {
     "data": {
      "text/plain": [
       "[('capsid',\n",
       "  ['nucleocapsids',\n",
       "   'procapsid',\n",
       "   'capsid/comments',\n",
       "   'triangulation number',\n",
       "   'virus capsids',\n",
       "   'icosahedral capsid',\n",
       "   'viral envelope protein',\n",
       "   'caspar-klug theory',\n",
       "   'viral coat protein',\n",
       "   'capsids',\n",
       "   'nucleocapsid',\n",
       "   'capsid proteins',\n",
       "   'protein of the viral capsid',\n",
       "   'viral capsid',\n",
       "   'viral core',\n",
       "   'capsid protein',\n",
       "   'procapsids',\n",
       "   'virus coat protein',\n",
       "   'capsid']),\n",
       " ('captain beefheart',\n",
       "  ['beefheartian',\n",
       "   'capt beefheart',\n",
       "   'capt. beefheart',\n",
       "   'paul blakely',\n",
       "   'cpt. beefheart',\n",
       "   'captain beefheart & his magic band',\n",
       "   'captain beefheart and his magic band',\n",
       "   'beefheart',\n",
       "   'captain beefheart & the magic band',\n",
       "   'donald van vliet',\n",
       "   'doug moon',\n",
       "   'captain beefheart',\n",
       "   'captain beefheart and the magic band',\n",
       "   'don glen vliet',\n",
       "   'donald vliet',\n",
       "   'the magic band',\n",
       "   'don van vliet',\n",
       "   'don vliet',\n",
       "   'books/captain beefheart']),\n",
       " ('car rental',\n",
       "  ['automobile hire',\n",
       "   'car rental company',\n",
       "   'rental truck',\n",
       "   'rental vehicle',\n",
       "   'automobile rental',\n",
       "   'car rent',\n",
       "   'vehicle hire',\n",
       "   'car hire agency',\n",
       "   'car hire',\n",
       "   'auto hire',\n",
       "   'rental car',\n",
       "   'car rentals',\n",
       "   'car rental',\n",
       "   'hire car',\n",
       "   'auto rental',\n",
       "   'private car hire',\n",
       "   'rent a car',\n",
       "   'rent-a-car',\n",
       "   'rental cars']),\n",
       " ('carcina quercana',\n",
       "  ['lampros faganella',\n",
       "   'tinea cancella',\n",
       "   'carcina purpurana',\n",
       "   'tortrix fagana',\n",
       "   'oak long horned flat body',\n",
       "   'oak skeletonizer moth',\n",
       "   'long horned flat-body',\n",
       "   'oak long horned flat-body',\n",
       "   'oak long-horned flat body',\n",
       "   'pyralis quercana',\n",
       "   'oak longhorned flat body',\n",
       "   'oak long-horned flat-body',\n",
       "   'long-horned flat body',\n",
       "   'longhorned flat body',\n",
       "   'carcina quercana',\n",
       "   'oak lantern',\n",
       "   'long horned flat body',\n",
       "   'long-horned flat-body',\n",
       "   'oak-skeletonizer moth']),\n",
       " ('carcinogen',\n",
       "  ['procarcinogens',\n",
       "   'cancerogenic',\n",
       "   'carcinogenic',\n",
       "   'human carcinogen',\n",
       "   'carcinogen/doc',\n",
       "   'chemical carcinogen',\n",
       "   'known human carcinogen',\n",
       "   'carcinogenity',\n",
       "   'carcinogens',\n",
       "   'carncinogenic',\n",
       "   'possible carcinogen',\n",
       "   'carcinogen',\n",
       "   'cancerogen',\n",
       "   'procarcinogen',\n",
       "   'carcinogenicity',\n",
       "   'carcinogene',\n",
       "   'probable carcinogen',\n",
       "   'carcinogen classification',\n",
       "   'possible human carcinogen'])]"
      ]
     },
     "execution_count": 48,
     "metadata": {},
     "output_type": "execute_result"
    }
   ],
   "source": [
    "[(page_dictionary[k], [page_dictionary[rd] for rd in rd_pages[k]] )  for k, c in rd_pages_count[30010:30015]]"
   ]
  },
  {
   "cell_type": "code",
   "execution_count": 7,
   "metadata": {},
   "outputs": [
    {
     "name": "stdout",
     "output_type": "stream",
     "text": [
      "[(10366457, 8), (6073056, 8), (211819, 8), (6005565, 8), (5074472, 8), (9916154, 8), (9208119, 8), (972968, 8), (5022251, 8), (1313130, 8)]\n",
      "strahov stadium\n"
     ]
    },
    {
     "data": {
      "text/plain": [
       "[('spartakiádní stadion (strahov) (strahov)', '83f4a2a6ed41e513'),\n",
       " ('spartakiadni stadion (strahov)', '4bb6d2958276f0bf'),\n",
       " ('spartakiadni stadion (strahov) (strahov)', '155d169af271dc68'),\n",
       " ('stadion strahov', '4f65f6f26f06301d'),\n",
       " ('spartakiadni stadion', '834c9ceb5e8a2359'),\n",
       " ('velký strahovský stadion', '70b9d499db26c66c'),\n",
       " ('strahov stadium', 'f033eaed3b9ef682'),\n",
       " ('stadion československé armády-strahov', 'e0ddba1faf890776')]"
      ]
     },
     "execution_count": 7,
     "metadata": {},
     "output_type": "execute_result"
    }
   ],
   "source": [
    "start = 200005\n",
    "end = start + 10\n",
    "print(rd_pages_count[start:end])\n",
    "item = rd_pages_count[start:end][5][0]\n",
    "\n",
    "print(page_dictionary[item])\n",
    "[(page_dictionary[p], mu.hash_16bytes(page_dictionary[p].encode('utf-8'))) for p in rd_pages[item]]"
   ]
  },
  {
   "cell_type": "code",
   "execution_count": 8,
   "metadata": {},
   "outputs": [
    {
     "name": "stdout",
     "output_type": "stream",
     "text": [
      "3922202\n"
     ]
    }
   ],
   "source": [
    "keyphrases_directory = load_pickle(get_relative_path(data_path, KPS_DIRECTORY_SUFFIX))\n",
    "print(len(keyphrases_directory))"
   ]
  },
  {
   "cell_type": "code",
   "execution_count": 9,
   "metadata": {},
   "outputs": [
    {
     "data": {
      "text/plain": [
       "[('b2f5ff47436671b6', 0),\n",
       " ('ed469618898d75b1', 1),\n",
       " ('66270707424a729c', 2),\n",
       " ('550237b8fbcdf374', 3),\n",
       " ('8d777f385d3dfec8', 4),\n",
       " ('9bc65c2abec14177', 5),\n",
       " ('54b53072540eeeb8', 6),\n",
       " ('9e083ec666c9f3db', 7),\n",
       " ('0861a099e9593791', 8),\n",
       " ('bb3ccd5881d65144', 9)]"
      ]
     },
     "execution_count": 9,
     "metadata": {},
     "output_type": "execute_result"
    }
   ],
   "source": [
    "[k for i, k in enumerate(keyphrases_directory.items()) if i < 10]"
   ]
  },
  {
   "cell_type": "code",
   "execution_count": 10,
   "metadata": {},
   "outputs": [
    {
     "name": "stdout",
     "output_type": "stream",
     "text": [
      "3922202\n"
     ]
    }
   ],
   "source": [
    "keyphrases_dir_docid = load_pickle(get_relative_path(data_path, KPS_DOCS_IDS_SUFFIX))\n",
    "print(len(keyphrases_dir_docid))"
   ]
  },
  {
   "cell_type": "code",
   "execution_count": 11,
   "metadata": {},
   "outputs": [
    {
     "data": {
      "text/plain": [
       "['index2375127',\n",
       " 'index2376006',\n",
       " 'index2327377',\n",
       " 'index2373352',\n",
       " 'index2330759',\n",
       " 'index2352493',\n",
       " 'index2371676',\n",
       " 'index2322477',\n",
       " 'index2343012',\n",
       " 'index2320592']"
      ]
     },
     "execution_count": 11,
     "metadata": {},
     "output_type": "execute_result"
    }
   ],
   "source": [
    "list(keyphrases_dir_docid[0])[:10]"
   ]
  },
  {
   "cell_type": "markdown",
   "metadata": {},
   "source": [
    "# Merge info "
   ]
  },
  {
   "cell_type": "code",
   "execution_count": 50,
   "metadata": {},
   "outputs": [
    {
     "name": "stdout",
     "output_type": "stream",
     "text": [
      "3922202\n"
     ]
    }
   ],
   "source": [
    "keyphrases_normalized = load_pickle(get_relative_path(data_path, KPS_NORMALIZED_SUFFIX))\n",
    "print(len(keyphrases_normalized))"
   ]
  },
  {
   "cell_type": "code",
   "execution_count": 55,
   "metadata": {},
   "outputs": [
    {
     "name": "stdout",
     "output_type": "stream",
     "text": [
      "3922202\n"
     ]
    }
   ],
   "source": [
    "keyphrases_directory = load_pickle(get_relative_path(data_path, KPS_DIRECTORY_SUFFIX))\n",
    "print(len(keyphrases_directory))"
   ]
  },
  {
   "cell_type": "code",
   "execution_count": 51,
   "metadata": {},
   "outputs": [
    {
     "name": "stdout",
     "output_type": "stream",
     "text": [
      "218637\n"
     ]
    }
   ],
   "source": [
    "hashes_intersection = load_pickle(get_relative_path(prefix_path, HASHES_INTERSECTION))\n",
    "print(len(hashes_intersection))"
   ]
  },
  {
   "cell_type": "code",
   "execution_count": 68,
   "metadata": {},
   "outputs": [
    {
     "name": "stdout",
     "output_type": "stream",
     "text": [
      "3922202\n"
     ]
    }
   ],
   "source": [
    "keyphrases_dir_docid = load_pickle(get_relative_path(data_path, KPS_DOCS_IDS_SUFFIX))\n",
    "print(len(keyphrases_dir_docid))"
   ]
  },
  {
   "cell_type": "code",
   "execution_count": 52,
   "metadata": {},
   "outputs": [],
   "source": [
    "def hash2str(h):\n",
    "    return keyphrases_normalized[keyphrases_directory[h]].decode('utf-8')\n",
    "\n",
    "def str2id(s):\n",
    "    return page_inverse_dict[s]"
   ]
  },
  {
   "cell_type": "code",
   "execution_count": 65,
   "metadata": {},
   "outputs": [
    {
     "data": {
      "text/plain": [
       "['d700',\n",
       " 'rian',\n",
       " '+7',\n",
       " 'i-banking',\n",
       " 'artificial respiration',\n",
       " 'callas',\n",
       " 'hudson river',\n",
       " 'karmarkar algorithm',\n",
       " 'telegraph',\n",
       " 'tokens']"
      ]
     },
     "execution_count": 65,
     "metadata": {},
     "output_type": "execute_result"
    }
   ],
   "source": [
    "pairs = list(hash2str(h) for h in hashes_intersection)\n",
    "pairs[:10]"
   ]
  },
  {
   "cell_type": "code",
   "execution_count": 84,
   "metadata": {},
   "outputs": [
    {
     "data": {
      "text/plain": [
       "['bcf4f2d5b94284dc',\n",
       " 'cb2b28afc2cc836b',\n",
       " '482e752e91f0b314',\n",
       " '86d5a99705b6db57',\n",
       " '1875f830e789e778',\n",
       " 'dddb77c5e6b404d7',\n",
       " '273fb8ebb69eba57',\n",
       " '1074534671a39624',\n",
       " '2905151162c32929',\n",
       " '25d7186fe598a394']"
      ]
     },
     "execution_count": 84,
     "metadata": {},
     "output_type": "execute_result"
    }
   ],
   "source": [
    "list(hashes_intersection)[:10]"
   ]
  },
  {
   "cell_type": "code",
   "execution_count": 70,
   "metadata": {},
   "outputs": [],
   "source": [
    "most_common = sorted(list((hash2str(h), len(keyphrases_dir_docid[keyphrases_directory[h]])) for h in hashes_intersection), key=lambda x: x[1], reverse=True)"
   ]
  },
  {
   "cell_type": "code",
   "execution_count": 72,
   "metadata": {},
   "outputs": [
    {
     "data": {
      "text/plain": [
       "[('algorithm', 1870),\n",
       " ('algorithms', 1525),\n",
       " ('solution', 1495),\n",
       " ('simulation', 1408),\n",
       " ('data', 1396),\n",
       " ('system', 1354),\n",
       " ('information', 1292),\n",
       " ('problem', 1226),\n",
       " ('preface', 1214),\n",
       " ('users', 1210),\n",
       " ('article', 1163),\n",
       " ('editorial', 1081),\n",
       " ('message', 1019),\n",
       " ('computers', 1016),\n",
       " ('computation', 963),\n",
       " ('g', 933),\n",
       " ('copyright page', 856),\n",
       " ('addition', 838),\n",
       " ('finite', 794),\n",
       " ('performance', 778)]"
      ]
     },
     "execution_count": 72,
     "metadata": {},
     "output_type": "execute_result"
    }
   ],
   "source": [
    "most_common"
   ]
  },
  {
   "cell_type": "code",
   "execution_count": 78,
   "metadata": {},
   "outputs": [
    {
     "data": {
      "text/plain": [
       "[('clock frequencies', 2),\n",
       " ('avg', 2),\n",
       " ('scalar field', 2),\n",
       " ('efi', 2),\n",
       " ('oceania', 2),\n",
       " ('energy norm', 2),\n",
       " ('reversing', 2),\n",
       " ('poisson random variable', 2),\n",
       " ('software development methodology', 2),\n",
       " ('cerebral aneurysms', 2),\n",
       " ('rhythmicity', 2),\n",
       " ('silicon-germanium-on-insulator', 2),\n",
       " ('licensure', 2),\n",
       " ('numerical value', 2),\n",
       " ('refutably', 2),\n",
       " ('malhotra', 2),\n",
       " ('mean value analysis', 2),\n",
       " ('sre', 2),\n",
       " ('cost-benefit ratio', 2),\n",
       " ('spatial decision support system', 2)]"
      ]
     },
     "execution_count": 78,
     "metadata": {},
     "output_type": "execute_result"
    }
   ],
   "source": [
    "list(filter(lambda x: x[1] ==  2, most_common))[-20:]"
   ]
  },
  {
   "cell_type": "code",
   "execution_count": 79,
   "metadata": {},
   "outputs": [
    {
     "data": {
      "text/plain": [
       "226310"
      ]
     },
     "execution_count": 79,
     "metadata": {},
     "output_type": "execute_result"
    }
   ],
   "source": [
    "len(set(docid for docs in list(keyphrases_dir_docid[keyphrases_directory[h]] for h in hashes_intersection) for docid in docs))"
   ]
  },
  {
   "cell_type": "code",
   "execution_count": null,
   "metadata": {},
   "outputs": [],
   "source": []
  },
  {
   "cell_type": "code",
   "execution_count": null,
   "metadata": {},
   "outputs": [],
   "source": []
  },
  {
   "cell_type": "code",
   "execution_count": null,
   "metadata": {},
   "outputs": [],
   "source": []
  },
  {
   "cell_type": "code",
   "execution_count": 13,
   "metadata": {},
   "outputs": [
    {
     "name": "stdout",
     "output_type": "stream",
     "text": [
      "11523073\n"
     ]
    }
   ],
   "source": [
    "page_hashes = {mu.hash_16bytes(pd_str.encode('utf-8')): pd_str for pd_str in page_dictionary.values()}\n",
    "print(len(page_hashes))"
   ]
  },
  {
   "cell_type": "raw",
   "metadata": {},
   "source": [
    "hash_k = mu.hash_16bytes(page_dictionary[page_inverse_dict['literature']].encode('utf-8'))\n",
    "print(hash_k, type(hash_k))\n",
    "print(keyphrases_directory[hash_k])"
   ]
  },
  {
   "cell_type": "code",
   "execution_count": 14,
   "metadata": {},
   "outputs": [
    {
     "name": "stdout",
     "output_type": "stream",
     "text": [
      "3922202\n"
     ]
    }
   ],
   "source": [
    "keyphrase_hashes = set(kph for kph, _ in keyphrases_directory.items())\n",
    "print(len(keyphrase_hashes))"
   ]
  },
  {
   "cell_type": "code",
   "execution_count": 15,
   "metadata": {},
   "outputs": [
    {
     "name": "stdout",
     "output_type": "stream",
     "text": [
      "218637\n"
     ]
    }
   ],
   "source": [
    "hashes_intersection = set(page_hashes.keys()).intersection(keyphrase_hashes)\n",
    "print(len(hashes_intersection))"
   ]
  },
  {
   "cell_type": "code",
   "execution_count": 17,
   "metadata": {},
   "outputs": [],
   "source": [
    "for p in pairs:\n",
    "    if p[0] != p[1]:\n",
    "        print(p)\n",
    "        break"
   ]
  },
  {
   "cell_type": "code",
   "execution_count": 20,
   "metadata": {},
   "outputs": [],
   "source": [
    "save_pickle(hashes_intersection, get_relative_path(prefix_path, HASHES_INTERSECTION))"
   ]
  }
 ],
 "metadata": {
  "kernelspec": {
   "display_name": "Python 3",
   "language": "python",
   "name": "python3"
  },
  "language_info": {
   "codemirror_mode": {
    "name": "ipython",
    "version": 3
   },
   "file_extension": ".py",
   "mimetype": "text/x-python",
   "name": "python",
   "nbconvert_exporter": "python",
   "pygments_lexer": "ipython3",
   "version": "3.7.3"
  }
 },
 "nbformat": 4,
 "nbformat_minor": 2
}
