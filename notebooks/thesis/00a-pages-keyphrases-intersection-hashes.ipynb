{
 "cells": [
  {
   "cell_type": "code",
   "execution_count": 1,
   "metadata": {},
   "outputs": [],
   "source": [
    "from somhos.config.paths import *\n",
    "from somhos.methods.useful import save_pickle, load_pickle\n",
    "import somhos.methods.useful as mu"
   ]
  },
  {
   "cell_type": "code",
   "execution_count": 2,
   "metadata": {},
   "outputs": [],
   "source": [
    "prefix_path = '../../'\n",
    "data_path = get_relative_path(prefix_path, V9GAMMA_PATH)"
   ]
  },
  {
   "cell_type": "code",
   "execution_count": 3,
   "metadata": {},
   "outputs": [
    {
     "name": "stdout",
     "output_type": "stream",
     "text": [
      "3394754\n"
     ]
    }
   ],
   "source": [
    "rd_pages = load_pickle(get_relative_path(prefix_path, REDIRECT_PAGES))\n",
    "print(len(rd_pages))"
   ]
  },
  {
   "cell_type": "code",
   "execution_count": 4,
   "metadata": {},
   "outputs": [
    {
     "name": "stdout",
     "output_type": "stream",
     "text": [
      "11523073\n"
     ]
    }
   ],
   "source": [
    "page_dictionary = load_pickle(get_relative_path(prefix_path, PAGE_DICTIONARY))\n",
    "print(len(page_dictionary))"
   ]
  },
  {
   "cell_type": "code",
   "execution_count": 5,
   "metadata": {},
   "outputs": [
    {
     "name": "stdout",
     "output_type": "stream",
     "text": [
      "11523073\n"
     ]
    }
   ],
   "source": [
    "page_inverse_dict = load_pickle(get_relative_path(prefix_path, PAGE_INVERSE_DICT))\n",
    "print(len(page_inverse_dict))"
   ]
  },
  {
   "cell_type": "code",
   "execution_count": 6,
   "metadata": {},
   "outputs": [
    {
     "name": "stdout",
     "output_type": "stream",
     "text": [
      "3394754\n"
     ]
    }
   ],
   "source": [
    "rd_pages_count = sorted([(k, len(v)) for k, v in rd_pages.items()], key=lambda x: x[1], reverse=True) \n",
    "print(len(rd_pages_count))"
   ]
  },
  {
   "cell_type": "code",
   "execution_count": 7,
   "metadata": {},
   "outputs": [
    {
     "name": "stdout",
     "output_type": "stream",
     "text": [
      "[(10366457, 8), (6073056, 8), (211819, 8), (6005565, 8), (5074472, 8), (9916154, 8), (9208119, 8), (972968, 8), (5022251, 8), (1313130, 8)]\n",
      "strahov stadium\n"
     ]
    },
    {
     "data": {
      "text/plain": [
       "[('spartakiádní stadion (strahov) (strahov)', '83f4a2a6ed41e513'),\n",
       " ('spartakiadni stadion (strahov)', '4bb6d2958276f0bf'),\n",
       " ('spartakiadni stadion (strahov) (strahov)', '155d169af271dc68'),\n",
       " ('stadion strahov', '4f65f6f26f06301d'),\n",
       " ('spartakiadni stadion', '834c9ceb5e8a2359'),\n",
       " ('velký strahovský stadion', '70b9d499db26c66c'),\n",
       " ('strahov stadium', 'f033eaed3b9ef682'),\n",
       " ('stadion československé armády-strahov', 'e0ddba1faf890776')]"
      ]
     },
     "execution_count": 7,
     "metadata": {},
     "output_type": "execute_result"
    }
   ],
   "source": [
    "start = 200005\n",
    "end = start + 10\n",
    "print(rd_pages_count[start:end])\n",
    "item = rd_pages_count[start:end][5][0]\n",
    "\n",
    "print(page_dictionary[item])\n",
    "[(page_dictionary[p], mu.hash_16bytes(page_dictionary[p].encode('utf-8'))) for p in rd_pages[item]]"
   ]
  },
  {
   "cell_type": "code",
   "execution_count": 8,
   "metadata": {},
   "outputs": [
    {
     "name": "stdout",
     "output_type": "stream",
     "text": [
      "3922202\n"
     ]
    }
   ],
   "source": [
    "keyphrases_directory = load_pickle(get_relative_path(data_path, KPS_DIRECTORY_SUFFIX))\n",
    "print(len(keyphrases_directory))"
   ]
  },
  {
   "cell_type": "code",
   "execution_count": 9,
   "metadata": {},
   "outputs": [
    {
     "data": {
      "text/plain": [
       "[('b2f5ff47436671b6', 0),\n",
       " ('ed469618898d75b1', 1),\n",
       " ('66270707424a729c', 2),\n",
       " ('550237b8fbcdf374', 3),\n",
       " ('8d777f385d3dfec8', 4),\n",
       " ('9bc65c2abec14177', 5),\n",
       " ('54b53072540eeeb8', 6),\n",
       " ('9e083ec666c9f3db', 7),\n",
       " ('0861a099e9593791', 8),\n",
       " ('bb3ccd5881d65144', 9)]"
      ]
     },
     "execution_count": 9,
     "metadata": {},
     "output_type": "execute_result"
    }
   ],
   "source": [
    "[k for i, k in enumerate(keyphrases_directory.items()) if i < 10]"
   ]
  },
  {
   "cell_type": "code",
   "execution_count": 10,
   "metadata": {},
   "outputs": [
    {
     "name": "stdout",
     "output_type": "stream",
     "text": [
      "3922202\n"
     ]
    }
   ],
   "source": [
    "keyphrases_dir_docid = load_pickle(get_relative_path(data_path, KPS_DOCS_IDS_SUFFIX))\n",
    "print(len(keyphrases_dir_docid))"
   ]
  },
  {
   "cell_type": "code",
   "execution_count": 11,
   "metadata": {},
   "outputs": [
    {
     "data": {
      "text/plain": [
       "['index2375127',\n",
       " 'index2376006',\n",
       " 'index2327377',\n",
       " 'index2373352',\n",
       " 'index2330759',\n",
       " 'index2352493',\n",
       " 'index2371676',\n",
       " 'index2322477',\n",
       " 'index2343012',\n",
       " 'index2320592']"
      ]
     },
     "execution_count": 11,
     "metadata": {},
     "output_type": "execute_result"
    }
   ],
   "source": [
    "list(keyphrases_dir_docid[0])[:10]"
   ]
  },
  {
   "cell_type": "code",
   "execution_count": 12,
   "metadata": {},
   "outputs": [
    {
     "name": "stdout",
     "output_type": "stream",
     "text": [
      "3922202\n"
     ]
    }
   ],
   "source": [
    "keyphrases_normalized = load_pickle(get_relative_path(data_path, KPS_NORMALIZED_SUFFIX))\n",
    "print(len(keyphrases_normalized))"
   ]
  },
  {
   "cell_type": "code",
   "execution_count": 13,
   "metadata": {},
   "outputs": [
    {
     "name": "stdout",
     "output_type": "stream",
     "text": [
      "11523073\n"
     ]
    }
   ],
   "source": [
    "page_hashes = {mu.hash_16bytes(pd_str.encode('utf-8')): pd_str for pd_str in page_dictionary.values()}\n",
    "print(len(page_hashes))"
   ]
  },
  {
   "cell_type": "raw",
   "metadata": {},
   "source": [
    "hash_k = mu.hash_16bytes(page_dictionary[page_inverse_dict['literature']].encode('utf-8'))\n",
    "print(hash_k, type(hash_k))\n",
    "print(keyphrases_directory[hash_k])"
   ]
  },
  {
   "cell_type": "code",
   "execution_count": 14,
   "metadata": {},
   "outputs": [
    {
     "name": "stdout",
     "output_type": "stream",
     "text": [
      "3922202\n"
     ]
    }
   ],
   "source": [
    "keyphrase_hashes = set(kph for kph, _ in keyphrases_directory.items())\n",
    "print(len(keyphrase_hashes))"
   ]
  },
  {
   "cell_type": "code",
   "execution_count": 15,
   "metadata": {},
   "outputs": [
    {
     "name": "stdout",
     "output_type": "stream",
     "text": [
      "218637\n"
     ]
    }
   ],
   "source": [
    "hashes_intersection = set(page_hashes.keys()).intersection(keyphrase_hashes)\n",
    "print(len(hashes_intersection))"
   ]
  },
  {
   "cell_type": "code",
   "execution_count": 16,
   "metadata": {},
   "outputs": [
    {
     "data": {
      "text/plain": [
       "[('asano', 'asano'),\n",
       " ('epicardium', 'epicardium'),\n",
       " ('mouses', 'mouses'),\n",
       " ('katakana', 'katakana'),\n",
       " ('dysnomia', 'dysnomia'),\n",
       " ('vidya', 'vidya'),\n",
       " ('face-to-face', 'face-to-face'),\n",
       " ('sonobuoy', 'sonobuoy'),\n",
       " ('denim', 'denim'),\n",
       " ('re-enacting', 're-enacting'),\n",
       " ('roti', 'roti'),\n",
       " ('strapping', 'strapping'),\n",
       " ('corporate entities', 'corporate entities'),\n",
       " ('jrss', 'jrss'),\n",
       " ('measurement accuracy', 'measurement accuracy'),\n",
       " ('stable matching', 'stable matching'),\n",
       " ('age regression', 'age regression'),\n",
       " ('lithuanian people', 'lithuanian people'),\n",
       " ('picture quality', 'picture quality'),\n",
       " ('south east asia', 'south east asia'),\n",
       " ('ieng', 'ieng'),\n",
       " ('pochhammer', 'pochhammer'),\n",
       " ('ieee802.16m', 'ieee802.16m'),\n",
       " ('visek', 'visek'),\n",
       " ('write-back cache', 'write-back cache'),\n",
       " ('gaap', 'gaap'),\n",
       " ('microexpression', 'microexpression'),\n",
       " ('physical relationship', 'physical relationship'),\n",
       " ('implementor', 'implementor'),\n",
       " ('challenged', 'challenged'),\n",
       " ('comptel', 'comptel'),\n",
       " ('rssm', 'rssm'),\n",
       " ('balanced trade', 'balanced trade'),\n",
       " ('verdú', 'verdú'),\n",
       " ('sub-sections', 'sub-sections'),\n",
       " ('smd', 'smd'),\n",
       " ('kindle hdx', 'kindle hdx'),\n",
       " ('barometric sensor', 'barometric sensor'),\n",
       " ('sixty-one', 'sixty-one'),\n",
       " ('cost-effectiveness analysis', 'cost-effectiveness analysis'),\n",
       " ('hologic inc', 'hologic inc'),\n",
       " ('e5310', 'e5310'),\n",
       " ('stla', 'stla'),\n",
       " ('human hand', 'human hand'),\n",
       " ('home station', 'home station'),\n",
       " ('gate function', 'gate function'),\n",
       " ('chinese industrialization', 'chinese industrialization'),\n",
       " ('amcan', 'amcan'),\n",
       " ('software framework', 'software framework'),\n",
       " ('neff', 'neff')]"
      ]
     },
     "execution_count": 16,
     "metadata": {},
     "output_type": "execute_result"
    }
   ],
   "source": [
    "pairs = list((page_hashes[h], keyphrases_normalized[keyphrases_directory[h]].decode('utf-8')) for h in hashes_intersection)\n",
    "pairs[:50]"
   ]
  },
  {
   "cell_type": "code",
   "execution_count": 17,
   "metadata": {},
   "outputs": [],
   "source": [
    "for p in pairs:\n",
    "    if p[0] != p[1]:\n",
    "        print(p)\n",
    "        break"
   ]
  },
  {
   "cell_type": "code",
   "execution_count": 18,
   "metadata": {},
   "outputs": [
    {
     "data": {
      "text/plain": [
       "226310"
      ]
     },
     "execution_count": 18,
     "metadata": {},
     "output_type": "execute_result"
    }
   ],
   "source": [
    "len(set(docid for docs in list(keyphrases_dir_docid[keyphrases_directory[h]] for h in hashes_intersection) for docid in docs))"
   ]
  },
  {
   "cell_type": "code",
   "execution_count": 19,
   "metadata": {},
   "outputs": [
    {
     "data": {
      "text/plain": [
       "[('katakana', 2),\n",
       " ('south east asia', 2),\n",
       " ('comptel', 2),\n",
       " ('cost-effectiveness analysis', 2),\n",
       " ('human hand', 2),\n",
       " ('menu bars', 2),\n",
       " ('core topics', 2),\n",
       " ('psbd', 2),\n",
       " ('hyperparameters', 2),\n",
       " ('gabor wavelet', 2),\n",
       " ('elman network', 2),\n",
       " ('remote procedure calls', 2),\n",
       " ('lrc', 2),\n",
       " ('ball grid array', 2),\n",
       " ('septic shock', 2),\n",
       " ('asynchronous read', 2),\n",
       " ('administrative districts', 2),\n",
       " ('nikon d7000', 2),\n",
       " ('steal', 2),\n",
       " ('cyborg', 2),\n",
       " ('description language', 2),\n",
       " ('np-complete problems', 2),\n",
       " ('algorithmic randomness', 2),\n",
       " ('inventory management', 2),\n",
       " ('product category', 2),\n",
       " ('dresses', 2),\n",
       " ('logical deduction', 2),\n",
       " ('public park', 2),\n",
       " ('geometric mean', 2),\n",
       " ('norrköping', 2),\n",
       " ('giw', 2),\n",
       " ('reflectors', 2),\n",
       " ('institutional logics', 2),\n",
       " ('user profiling', 2),\n",
       " ('reyes', 2),\n",
       " ('structural equation modeling', 2),\n",
       " ('arq protocol', 2),\n",
       " ('creol', 2),\n",
       " ('tbps', 2),\n",
       " ('electronic components', 2),\n",
       " ('a* search', 2),\n",
       " ('ubiquitination', 2),\n",
       " ('j4', 2),\n",
       " ('transcriptional control', 2),\n",
       " ('color coding', 2),\n",
       " ('block matrices', 2),\n",
       " ('deceiver', 2),\n",
       " ('ken blanchard', 2),\n",
       " ('entrapment', 2),\n",
       " ('obstructive sleep apnea syndrome', 2)]"
      ]
     },
     "execution_count": 19,
     "metadata": {},
     "output_type": "execute_result"
    }
   ],
   "source": [
    "most_common = sorted(list((page_hashes[h], len(keyphrases_dir_docid[keyphrases_directory[h]])) for h in hashes_intersection), key=lambda x: x[1], reverse=True)\n",
    "list(filter(lambda x: x[1] ==  2, most_common))[:50]"
   ]
  },
  {
   "cell_type": "code",
   "execution_count": 20,
   "metadata": {},
   "outputs": [],
   "source": [
    "save_pickle(hashes_intersection, get_relative_path(prefix_path, HASHES_INTERSECTION))"
   ]
  }
 ],
 "metadata": {
  "kernelspec": {
   "display_name": "Python 3",
   "language": "python",
   "name": "python3"
  },
  "language_info": {
   "codemirror_mode": {
    "name": "ipython",
    "version": 3
   },
   "file_extension": ".py",
   "mimetype": "text/x-python",
   "name": "python",
   "nbconvert_exporter": "python",
   "pygments_lexer": "ipython3",
   "version": "3.7.3"
  }
 },
 "nbformat": 4,
 "nbformat_minor": 2
}
