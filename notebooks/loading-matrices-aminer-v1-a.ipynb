{
 "cells": [
  {
   "cell_type": "markdown",
   "metadata": {},
   "source": [
    "# Jaccard and word2vec matrices"
   ]
  },
  {
   "cell_type": "markdown",
   "metadata": {},
   "source": [
    "## Dependencies"
   ]
  },
  {
   "cell_type": "code",
   "execution_count": null,
   "metadata": {},
   "outputs": [],
   "source": [
    "import matplotlib.pyplot as plt\n",
    "import numpy as np\n",
    "import scipy.spatial as sp\n",
    "\n",
    "import matrices.loading as mload"
   ]
  },
  {
   "cell_type": "code",
   "execution_count": null,
   "metadata": {},
   "outputs": [],
   "source": [
    "plt.rcParams[\"figure.figsize\"] = (16,16)"
   ]
  },
  {
   "cell_type": "markdown",
   "metadata": {},
   "source": [
    "## Dataset (629814 documents)\n",
    "\n",
    "This is the path to th dataset."
   ]
  },
  {
   "cell_type": "code",
   "execution_count": null,
   "metadata": {},
   "outputs": [],
   "source": [
    "data_path = \"resources/aminer/v1\" # 629814 documents"
   ]
  },
  {
   "cell_type": "markdown",
   "metadata": {},
   "source": [
    "Load sparse matrix with jaccard similarities."
   ]
  },
  {
   "cell_type": "code",
   "execution_count": null,
   "metadata": {},
   "outputs": [],
   "source": [
    "matrix_jaccard = mload.load_matrix_jaccard_sim(data_path) # 998 documents sample\n",
    "print(matrix_jaccard.ndim, matrix_jaccard.shape)"
   ]
  },
  {
   "cell_type": "markdown",
   "metadata": {},
   "source": [
    "Load sparse matrix with word2vec similarities."
   ]
  },
  {
   "cell_type": "code",
   "execution_count": null,
   "metadata": {},
   "outputs": [],
   "source": [
    "matrix_word2vec = mload.load_matrix_word2vec_sim(data_path) # 998 documents sample\n",
    "print(matrix_word2vec.ndim, matrix_word2vec.shape)"
   ]
  },
  {
   "cell_type": "code",
   "execution_count": null,
   "metadata": {},
   "outputs": [],
   "source": [
    "N = matrix_jaccard.shape[0]\n",
    "print(\"Number of documents\", N, (matrix_jaccard.shape))"
   ]
  },
  {
   "cell_type": "markdown",
   "metadata": {},
   "source": [
    "## Jaccard similarity"
   ]
  },
  {
   "cell_type": "code",
   "execution_count": null,
   "metadata": {},
   "outputs": [],
   "source": [
    "plt.matshow(matrix_jaccard, cmap='hot', vmin=0, vmax=1)\n",
    "plt.colorbar()"
   ]
  },
  {
   "cell_type": "markdown",
   "metadata": {},
   "source": [
    "## Dice from Jaccard"
   ]
  },
  {
   "cell_type": "code",
   "execution_count": null,
   "metadata": {},
   "outputs": [],
   "source": [
    "matrix_dice = 2*matrix_jaccard/(1 + matrix_jaccard)\n",
    "print(matrix_dice.shape)\n",
    "\n",
    "plt.matshow(matrix_dice, cmap='hot', vmin=0, vmax=1)\n",
    "plt.colorbar()"
   ]
  },
  {
   "cell_type": "markdown",
   "metadata": {},
   "source": [
    "## Jaccard disimilarity"
   ]
  },
  {
   "cell_type": "code",
   "execution_count": null,
   "metadata": {},
   "outputs": [],
   "source": [
    "matrix_jaccard_dis = 1 -matrix_jaccard\n",
    "print(matrix_jaccard_dis.shape)\n",
    "\n",
    "plt.matshow(matrix_jaccard_dis, cmap='hot', vmin=0, vmax=1)\n",
    "plt.colorbar()"
   ]
  },
  {
   "cell_type": "markdown",
   "metadata": {},
   "source": [
    "## word2vec similarity."
   ]
  },
  {
   "cell_type": "code",
   "execution_count": null,
   "metadata": {},
   "outputs": [],
   "source": [
    "plt.matshow(matrix_word2vec, cmap='hot', vmin=0, vmax=1)\n",
    "plt.colorbar()"
   ]
  },
  {
   "cell_type": "markdown",
   "metadata": {},
   "source": [
    "## Ordering matrices by means of jaccard similarities\n",
    "\n",
    "- Top-Left: Most similar documents to the rest\n",
    "- Bottom-Right: Least similar documents to the rest"
   ]
  },
  {
   "cell_type": "code",
   "execution_count": null,
   "metadata": {
    "scrolled": false
   },
   "outputs": [],
   "source": [
    "# Means of jaccard similarities\n",
    "jaccard_similarity_mean = np.divide(np.sum(matrix_jaccard, axis=1), N)\n",
    "# Array of indices to sort matrices  \n",
    "jaccard_ordered_indices = jaccard_similarity_mean.argsort()[::-1]\n",
    "\n",
    "#Plotting means of jaccard similarities\n",
    "plt.plot(jaccard_similarity_mean[jaccard_ordered_indices], 'b.')\n",
    "plt.show()\n",
    "\n",
    "#Plotting ordered matrices \n",
    "plt.matshow(matrix_jaccard[:, jaccard_ordered_indices][jaccard_ordered_indices,:], cmap='hot', vmin=0, vmax=1)\n",
    "plt.colorbar()\n",
    "plt.matshow(matrix_word2vec[:, jaccard_ordered_indices][jaccard_ordered_indices,:], cmap='hot', vmin=0, vmax=1)\n",
    "plt.colorbar()\n",
    "plt.matshow(matrix_dice[:, jaccard_ordered_indices][jaccard_ordered_indices,:], cmap='hot', vmin=0, vmax=1)\n",
    "plt.colorbar()\n",
    "plt.matshow(matrix_jaccard_dis[:, jaccard_ordered_indices][jaccard_ordered_indices,:], cmap='hot', vmin=0, vmax=1)\n",
    "plt.colorbar()\n",
    "\n",
    "print(jaccard_similarity_mean.shape, matrix_jaccard.shape, jaccard_ordered_indices.shape)"
   ]
  },
  {
   "cell_type": "markdown",
   "metadata": {},
   "source": [
    "## Ordering matrices by means of word2vec similarities\n",
    "\n",
    "- Top-Left: Most similar documents to the rest\n",
    "- Bottom-Right: Least similar documents to the rest"
   ]
  },
  {
   "cell_type": "code",
   "execution_count": null,
   "metadata": {
    "scrolled": false
   },
   "outputs": [],
   "source": [
    "# Means of word2vec similarities\n",
    "word2vec_similarity_mean = np.divide(np.sum(matrix_word2vec, axis=1), N)\n",
    "# Array of indices to sort matrices  \n",
    "word2vec_ordered_indices = word2vec_similarity_mean.argsort()[::-1]\n",
    "\n",
    "#Plotting means of word2vec similarities\n",
    "plt.plot(word2vec_similarity_mean[word2vec_ordered_indices], 'b.')\n",
    "plt.show()\n",
    "\n",
    "#Plotting ordered matrices \n",
    "plt.matshow(matrix_word2vec[:, word2vec_ordered_indices][word2vec_ordered_indices,:], cmap='hot', vmin=0, vmax=1)\n",
    "plt.colorbar()\n",
    "plt.matshow(matrix_jaccard[:, word2vec_ordered_indices][word2vec_ordered_indices,:], cmap='hot', vmin=0, vmax=1)\n",
    "plt.colorbar()\n",
    "plt.matshow(matrix_dice[:, word2vec_ordered_indices][word2vec_ordered_indices,:], cmap='hot', vmin=0, vmax=1)\n",
    "plt.colorbar()\n",
    "plt.matshow(matrix_jaccard_dis[:, word2vec_ordered_indices][word2vec_ordered_indices,:], cmap='hot', vmin=0, vmax=1)\n",
    "plt.colorbar()\n",
    "\n",
    "print(word2vec_similarity_mean.shape, matrix_word2vec.shape, word2vec_ordered_indices.shape)"
   ]
  },
  {
   "cell_type": "markdown",
   "metadata": {},
   "source": [
    "## Ordering matrices by means of dice similarities\n",
    "\n",
    "- Top-Left: Most similar documents to the rest\n",
    "- Bottom-Right: Least similar documents to the rest"
   ]
  },
  {
   "cell_type": "code",
   "execution_count": null,
   "metadata": {
    "scrolled": false
   },
   "outputs": [],
   "source": [
    "# Means of dice similarities\n",
    "dice_similarity_mean = np.divide(np.sum(matrix_dice, axis=1), N)\n",
    "# Array of indices to sort matrices  \n",
    "dice_ordered_indices = dice_similarity_mean.argsort()[::-1]\n",
    "\n",
    "#Plotting means of dice similarities\n",
    "plt.plot(dice_similarity_mean[dice_ordered_indices], 'b.')\n",
    "plt.show()\n",
    "\n",
    "#Plotting sorted matrices \n",
    "plt.matshow(matrix_dice[:, dice_ordered_indices][dice_ordered_indices,:], cmap='hot', vmin=0, vmax=1)\n",
    "plt.colorbar()\n",
    "plt.matshow(matrix_word2vec[:, dice_ordered_indices][dice_ordered_indices,:], cmap='hot', vmin=0, vmax=1)\n",
    "plt.colorbar()\n",
    "plt.matshow(matrix_jaccard[:, dice_ordered_indices][dice_ordered_indices,:], cmap='hot', vmin=0, vmax=1)\n",
    "plt.colorbar()\n",
    "plt.matshow(matrix_jaccard_dis[:, dice_ordered_indices][dice_ordered_indices,:], cmap='hot', vmin=0, vmax=1)\n",
    "plt.colorbar()\n",
    "\n",
    "print(dice_similarity_mean.shape, matrix_dice.shape, dice_ordered_indices.shape)"
   ]
  },
  {
   "cell_type": "markdown",
   "metadata": {},
   "source": [
    "## Eigenvalues"
   ]
  },
  {
   "cell_type": "code",
   "execution_count": null,
   "metadata": {
    "scrolled": false
   },
   "outputs": [],
   "source": [
    "Uw2v, sw2v, Vw2v = np.linalg.svd(matrix_word2vec, full_matrices=False)\n",
    "sw2v_sorted = sw2v.argsort()[::-1]\n",
    "print(sw2v.shape, sw2v_sorted.shape)\n",
    "print(sw2v_sorted[:10], sw2v_sorted[-10:])\n",
    "print(sw2v[:10], sw2v[-10:])\n",
    "\n",
    "plt.matshow(matrix_word2vec[:, sw2v_sorted][sw2v_sorted,:], cmap='hot', vmin=0, vmax=1)\n",
    "plt.colorbar()\n",
    "\n",
    "n_sw2v = 5\n",
    "sw2v = np.diag(sw2v[:n_sw2v])\n",
    "matrix_word2vec_ = np.dot(Uw2v[:,:n_sw2v], np.dot(sw2v, Vw2v[:n_sw2v,:]))\n",
    "plt.matshow(matrix_word2vec_[:, sw2v_sorted][sw2v_sorted,:], cmap='hot', vmin=0, vmax=1)\n",
    "plt.colorbar()"
   ]
  },
  {
   "cell_type": "code",
   "execution_count": null,
   "metadata": {
    "scrolled": false
   },
   "outputs": [],
   "source": [
    "Ujs, sjs, Vjs = np.linalg.svd(matrix_jaccard, full_matrices=False)\n",
    "sjs_sorted = sjs.argsort()[::-1]\n",
    "print(sjs.shape, sjs_sorted.shape)\n",
    "print(sjs_sorted[:10], sjs_sorted[-10:])\n",
    "print(sjs[:10], sjs[-10:])\n",
    "\n",
    "plt.matshow(matrix_jaccard[:, sjs_sorted][sjs_sorted,:], cmap='hot', vmin=0, vmax=1)\n",
    "plt.colorbar()\n",
    "\n",
    "n_sjs = 5\n",
    "sjs = np.diag(sjs[:n_sjs])\n",
    "matrix_jaccard_ = np.dot(Ujs[:,:n_sjs], np.dot(sjs, Vjs[:n_sjs,:]))\n",
    "plt.matshow(matrix_jaccard_[:, sjs_sorted][sjs_sorted,:], cmap='hot', vmin=0, vmax=1)\n",
    "plt.colorbar()\n",
    "plt.matshow(matrix_jaccard_[:, sw2v_sorted][sw2v_sorted,:], cmap='hot', vmin=0, vmax=1)\n",
    "plt.colorbar()\n",
    "plt.matshow(matrix_word2vec_[:, sjs_sorted][sjs_sorted,:], cmap='hot', vmin=0, vmax=1)\n",
    "plt.colorbar()\n",
    "\n",
    "print(np.allclose(matrix_jaccard_[:, sjs_sorted][sjs_sorted,:], matrix_jaccard_[:, sw2v_sorted][sw2v_sorted,:]))"
   ]
  },
  {
   "cell_type": "code",
   "execution_count": null,
   "metadata": {
    "scrolled": false
   },
   "outputs": [],
   "source": [
    "Uds, sds, Vds = np.linalg.svd(matrix_dice, full_matrices=False)\n",
    "sds_sorted = sds.argsort()[::-1]\n",
    "print(sds.shape, sds_sorted.shape)\n",
    "print(sds_sorted[:10], sds_sorted[-10:])\n",
    "print(sds[:10], sds[-10:])\n",
    "\n",
    "plt.matshow(matrix_dice[:, sds_sorted][sds_sorted,:], cmap='hot', vmin=0, vmax=1)\n",
    "plt.colorbar()\n",
    "\n",
    "n_sds = 5\n",
    "sds = np.diag(sds[:n_sds])\n",
    "matrix_dice_ = np.dot(Uds[:,:n_sds], np.dot(sds, Vds[:n_sds,:]))\n",
    "plt.matshow(matrix_dice_[:, sds_sorted][sds_sorted,:], cmap='hot', vmin=0, vmax=1)\n",
    "plt.colorbar()\n",
    "plt.matshow(matrix_dice_[:, sw2v_sorted][sw2v_sorted,:], cmap='hot', vmin=0, vmax=1)\n",
    "plt.colorbar()\n",
    "\n",
    "print(np.allclose(matrix_dice_[:, sds_sorted][sds_sorted,:], matrix_dice_[:, sw2v_sorted][sw2v_sorted,:]))"
   ]
  },
  {
   "cell_type": "code",
   "execution_count": null,
   "metadata": {
    "scrolled": false
   },
   "outputs": [],
   "source": [
    "plt.matshow(matrix_jaccard_[:, word2vec_ordered_indices][word2vec_ordered_indices,:], cmap='hot', vmin=0, vmax=1)\n",
    "plt.colorbar()\n",
    "plt.matshow(matrix_dice_[:, word2vec_ordered_indices][word2vec_ordered_indices,:], cmap='hot', vmin=0, vmax=1)\n",
    "plt.colorbar()\n",
    "plt.matshow(matrix_word2vec_[:, jaccard_ordered_indices][jaccard_ordered_indices,:], cmap='hot', vmin=0, vmax=1)\n",
    "plt.colorbar()"
   ]
  },
  {
   "cell_type": "code",
   "execution_count": null,
   "metadata": {},
   "outputs": [],
   "source": [
    "print(\"Checkpoint\")"
   ]
  }
 ],
 "metadata": {
  "kernelspec": {
   "display_name": "Python 3",
   "language": "python",
   "name": "python3"
  },
  "language_info": {
   "codemirror_mode": {
    "name": "ipython",
    "version": 3
   },
   "file_extension": ".py",
   "mimetype": "text/x-python",
   "name": "python",
   "nbconvert_exporter": "python",
   "pygments_lexer": "ipython3",
   "version": "3.5.2"
  },
  "widgets": {
   "application/vnd.jupyter.widget-state+json": {
    "state": {},
    "version_major": 2,
    "version_minor": 0
   }
  }
 },
 "nbformat": 4,
 "nbformat_minor": 2
}
