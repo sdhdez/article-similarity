{
 "cells": [
  {
   "cell_type": "code",
   "execution_count": 1,
   "metadata": {},
   "outputs": [],
   "source": [
    "import sys\n",
    "import os\n",
    "import random\n",
    "# Counter\n",
    "from collections import Counter\n",
    "from collections import defaultdict\n",
    "# Package\n",
    "from somhos.methods.useful import save_pickle, load_pickle\n",
    "from somhos.config.paths import *"
   ]
  },
  {
   "cell_type": "code",
   "execution_count": 2,
   "metadata": {},
   "outputs": [
    {
     "data": {
      "text/plain": [
       "True"
      ]
     },
     "execution_count": 2,
     "metadata": {},
     "output_type": "execute_result"
    }
   ],
   "source": [
    "prefix = \"../../\"\n",
    "wiki_redirects_tsv = prefix + \"extras/full-page-redirect_binary.tsv\"\n",
    "os.path.exists(wiki_redirects_tsv)"
   ]
  },
  {
   "cell_type": "code",
   "execution_count": 3,
   "metadata": {},
   "outputs": [],
   "source": [
    "def normalize_page_rd(row):\n",
    "    return row.strip().replace(\"_\", \" \").lower().split(\"\\t\")"
   ]
  },
  {
   "cell_type": "code",
   "execution_count": 4,
   "metadata": {},
   "outputs": [
    {
     "name": "stdout",
     "output_type": "stream",
     "text": [
      "TechnoSymbiosis\n",
      "TechnoSymbiosis\n",
      "Newline\n",
      "Newline\n",
      "Null\n",
      "Purge\n",
      "Purge\n",
      "11523073\n"
     ]
    }
   ],
   "source": [
    "with open(wiki_redirects_tsv, 'r') as tsv:\n",
    "    pages = set()\n",
    "    for row in tsv:\n",
    "        try:\n",
    "            page, redirect = normalize_page_rd(row)\n",
    "        except ValueError:\n",
    "            print(row.strip())\n",
    "            continue\n",
    "        pages.add(page)\n",
    "        pages.add(redirect)\n",
    "print(len(pages))"
   ]
  },
  {
   "cell_type": "code",
   "execution_count": 5,
   "metadata": {},
   "outputs": [
    {
     "name": "stdout",
     "output_type": "stream",
     "text": [
      "11523073 11523073\n"
     ]
    }
   ],
   "source": [
    "page_dictionary = {} \n",
    "page_inverse_dict = {} \n",
    "for i, p in enumerate(pages):\n",
    "    page_dictionary[i] = p\n",
    "    page_inverse_dict[p] = i\n",
    "print(len(page_dictionary), len(page_inverse_dict))\n",
    "del pages"
   ]
  },
  {
   "cell_type": "code",
   "execution_count": 6,
   "metadata": {},
   "outputs": [
    {
     "name": "stdout",
     "output_type": "stream",
     "text": [
      "11523073 8932598\n",
      "11523073 logit regression\n"
     ]
    }
   ],
   "source": [
    "example = 'logit regression'\n",
    "print(len(page_inverse_dict), page_inverse_dict[example])\n",
    "print(len(page_dictionary), page_dictionary[page_inverse_dict[example]])"
   ]
  },
  {
   "cell_type": "code",
   "execution_count": 7,
   "metadata": {},
   "outputs": [
    {
     "name": "stdout",
     "output_type": "stream",
     "text": [
      "TechnoSymbiosis\n",
      "TechnoSymbiosis\n",
      "Newline\n",
      "Newline\n",
      "Null\n",
      "Purge\n",
      "Purge\n",
      "3394754 11523073\n"
     ]
    }
   ],
   "source": [
    "with open(wiki_redirects_tsv, 'r') as tsv:\n",
    "    rd_pages = defaultdict(set)\n",
    "    page_rds = defaultdict(set)\n",
    "    for row in tsv:\n",
    "        try:\n",
    "            page, rd = normalize_page_rd(row)\n",
    "        except ValueError:\n",
    "            print(row.strip())\n",
    "            continue\n",
    "        page_int = page_inverse_dict[page]\n",
    "        rd_int = page_inverse_dict[rd]\n",
    "        rd_pages[rd_int].add(page_int)\n",
    "        rd_pages[rd_int].add(rd_int)\n",
    "        if len(rd_pages[rd_int]) == 0:\n",
    "            print(rd_pages[rd_int], file=sys.stderr)\n",
    "        page_rds[page_int].add(rd_int)\n",
    "        page_rds[rd_int].add(rd_int)\n",
    "print(len(rd_pages), len(page_rds))"
   ]
  },
  {
   "cell_type": "code",
   "execution_count": 8,
   "metadata": {},
   "outputs": [
    {
     "data": {
      "text/plain": [
       "['logistic regression']"
      ]
     },
     "execution_count": 8,
     "metadata": {},
     "output_type": "execute_result"
    }
   ],
   "source": [
    "[page_dictionary[r] for r in page_rds[page_inverse_dict['logit regression']]]"
   ]
  },
  {
   "cell_type": "code",
   "execution_count": 9,
   "metadata": {},
   "outputs": [
    {
     "data": {
      "text/plain": [
       "['logistic regression']"
      ]
     },
     "execution_count": 9,
     "metadata": {},
     "output_type": "execute_result"
    }
   ],
   "source": [
    "[page_dictionary[r] for r in page_rds[page_inverse_dict['logistic regression']]]"
   ]
  },
  {
   "cell_type": "code",
   "execution_count": 10,
   "metadata": {},
   "outputs": [
    {
     "data": {
      "text/plain": [
       "['logistic regression']"
      ]
     },
     "execution_count": 10,
     "metadata": {},
     "output_type": "execute_result"
    }
   ],
   "source": [
    "[page_dictionary[r] for r in page_rds[page_inverse_dict['logit model']]]"
   ]
  },
  {
   "cell_type": "code",
   "execution_count": 11,
   "metadata": {},
   "outputs": [
    {
     "data": {
      "text/plain": [
       "['logistic regression',\n",
       " 'binary logit model',\n",
       " 'conditional logit analysis',\n",
       " 'logit regression',\n",
       " 'logit model',\n",
       " 'logistic regression models']"
      ]
     },
     "execution_count": 11,
     "metadata": {},
     "output_type": "execute_result"
    }
   ],
   "source": [
    "[page_dictionary[p] for p in rd_pages[page_inverse_dict['logistic regression']]]"
   ]
  },
  {
   "cell_type": "code",
   "execution_count": 12,
   "metadata": {},
   "outputs": [],
   "source": [
    "save_pickle(page_dictionary, get_relative_path(prefix, PAGE_DICTIONARY))"
   ]
  },
  {
   "cell_type": "code",
   "execution_count": 13,
   "metadata": {},
   "outputs": [],
   "source": [
    "save_pickle(page_inverse_dict, get_relative_path(prefix, PAGE_INVERSE_DICT))"
   ]
  },
  {
   "cell_type": "code",
   "execution_count": 14,
   "metadata": {},
   "outputs": [],
   "source": [
    "save_pickle(rd_pages, get_relative_path(prefix, REDIRECT_PAGES))"
   ]
  },
  {
   "cell_type": "code",
   "execution_count": 15,
   "metadata": {},
   "outputs": [],
   "source": [
    "save_pickle(page_rds, get_relative_path(prefix, PAGE_REDIRECTS))"
   ]
  }
 ],
 "metadata": {
  "kernelspec": {
   "display_name": "Python 3",
   "language": "python",
   "name": "python3"
  },
  "language_info": {
   "codemirror_mode": {
    "name": "ipython",
    "version": 3
   },
   "file_extension": ".py",
   "mimetype": "text/x-python",
   "name": "python",
   "nbconvert_exporter": "python",
   "pygments_lexer": "ipython3",
   "version": "3.7.3"
  }
 },
 "nbformat": 4,
 "nbformat_minor": 2
}
