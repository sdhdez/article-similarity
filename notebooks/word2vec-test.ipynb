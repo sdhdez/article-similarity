{
 "cells": [
  {
   "cell_type": "code",
   "execution_count": 1,
   "metadata": {},
   "outputs": [
    {
     "name": "stderr",
     "output_type": "stream",
     "text": [
      "/usr/local/lib/python3.5/dist-packages/h5py/__init__.py:36: FutureWarning: Conversion of the second argument of issubdtype from `float` to `np.floating` is deprecated. In future, it will be treated as `np.float64 == np.dtype(float).type`.\n",
      "  from ._conv import register_converters as _register_converters\n"
     ]
    }
   ],
   "source": [
    "import os\n",
    "import gensim\n",
    "import tensorflow as tf\n",
    "import itertools\n",
    "from scipy import spatial\n",
    "\n",
    "import methods.useful as mu"
   ]
  },
  {
   "cell_type": "code",
   "execution_count": 2,
   "metadata": {},
   "outputs": [
    {
     "data": {
      "text/plain": [
       "True"
      ]
     },
     "execution_count": 2,
     "metadata": {},
     "output_type": "execute_result"
    }
   ],
   "source": [
    "DEAULT_WORDVECTORS = './resources/GoogleNews-vectors-negative300.bin'\n",
    "os.path.exists(DEAULT_WORDVECTORS)"
   ]
  },
  {
   "cell_type": "code",
   "execution_count": 3,
   "metadata": {},
   "outputs": [],
   "source": [
    "wordvectors = gensim.models.KeyedVectors.load_word2vec_format(\n",
    "                                            DEAULT_WORDVECTORS, \n",
    "                                            binary=True)"
   ]
  },
  {
   "cell_type": "code",
   "execution_count": 4,
   "metadata": {},
   "outputs": [
    {
     "name": "stdout",
     "output_type": "stream",
     "text": [
      "1.0000000000000002\n",
      "0.7651485754253021\n",
      "0.7599017713212686\n",
      "0.27392934543865205\n",
      "1.0000 ('virtual', 'virtual')\n",
      "0.2200 ('virtual', 'network')\n",
      "0.0131 ('virtual', 'construction')\n",
      "0.1328 ('virtual', 'method')\n",
      "0.2200 ('network', 'virtual')\n",
      "1.0000 ('network', 'network')\n",
      "0.0843 ('network', 'construction')\n",
      "0.1085 ('network', 'method')\n",
      "0.3473\n"
     ]
    }
   ],
   "source": [
    "sim = wordvectors.n_similarity(\"virtual network construction method\".split(), \n",
    "                         \"virtual network construction method\".split())\n",
    "print(sim)\n",
    "sim = wordvectors.n_similarity(\"virtual network\".split(), \n",
    "                         \"virtual network construction method\".split())\n",
    "print(sim)\n",
    "\n",
    "sim = wordvectors.n_similarity(\"construct the virtual network topology\".split(), \n",
    "                         \"virtual network construction method\".split())\n",
    "print(sim)\n",
    "\n",
    "sim = wordvectors.n_similarity(\"relative flow sheet\".split(), \n",
    "                         \"virtual network construction method\".split())\n",
    "print(sim)\n",
    "\n",
    "sum = 0\n",
    "n = 0\n",
    "for pair in itertools.product(\"virtual network\".split(),\"virtual network construction method\".split()):\n",
    "    sim = wordvectors.similarity(pair[0], pair[1])\n",
    "    sum += sim \n",
    "    n += 1\n",
    "    print(\"%.4f\" %  sim, pair)\n",
    "\n",
    "print(\"%.4f\" %  (sum/n))"
   ]
  },
  {
   "cell_type": "code",
   "execution_count": 5,
   "metadata": {},
   "outputs": [
    {
     "name": "stdout",
     "output_type": "stream",
     "text": [
      "0.3530816754167302\n"
     ]
    }
   ],
   "source": [
    "sim = wordvectors.n_similarity(\"not an existing\".split(), \n",
    "                         \"virtual network construction method\".split())\n",
    "print(sim)"
   ]
  },
  {
   "cell_type": "code",
   "execution_count": 6,
   "metadata": {},
   "outputs": [
    {
     "data": {
      "text/plain": [
       "dict"
      ]
     },
     "execution_count": 6,
     "metadata": {},
     "output_type": "execute_result"
    }
   ],
   "source": [
    "type(wordvectors.vocab)"
   ]
  },
  {
   "cell_type": "code",
   "execution_count": 11,
   "metadata": {},
   "outputs": [
    {
     "name": "stdout",
     "output_type": "stream",
     "text": [
      "0.7599017713212686\n",
      "0.7599017\n",
      "0.7599017709853715\n"
     ]
    }
   ],
   "source": [
    "doc1 = \"virtual network construction method\".split()\n",
    "doc2 = \"construct the virtual network topology\".split()\n",
    "\n",
    "print(wordvectors.n_similarity(doc1, doc2))\n",
    "\n",
    "vector1 = mu.wordvectors_centroid(wordvectors, doc1)\n",
    "vector2 = mu.wordvectors_centroid(wordvectors, doc2)\n",
    "print(mu.tensor_to_value(mu.n_similarity(vector1, vector2)))\n",
    "\n",
    "with tf.Session() as sess:\n",
    "    vector1 = sess.run(vector1)\n",
    "    vector2 = sess.run(vector2)\n",
    "    sim = 1 - spatial.distance.cosine(vector1, vector2)\n",
    "    print(sim)"
   ]
  },
  {
   "cell_type": "code",
   "execution_count": null,
   "metadata": {},
   "outputs": [],
   "source": [
    "doc1 = \"qsg\".split()\n",
    "doc2 = \"   QSG\".split()\n",
    "\n",
    "vector1 = mu.wordvectors_centroid(wordvectors, doc1)\n",
    "vector2 = mu.wordvectors_centroid(wordvectors, doc2)\n",
    "print(mu.tensor_to_values(mu.n_similarity(vector1, vector2)))"
   ]
  }
 ],
 "metadata": {
  "kernelspec": {
   "display_name": "Python 3",
   "language": "python",
   "name": "python3"
  },
  "language_info": {
   "codemirror_mode": {
    "name": "ipython",
    "version": 3
   },
   "file_extension": ".py",
   "mimetype": "text/x-python",
   "name": "python",
   "nbconvert_exporter": "python",
   "pygments_lexer": "ipython3",
   "version": "3.6.6"
  }
 },
 "nbformat": 4,
 "nbformat_minor": 2
}
