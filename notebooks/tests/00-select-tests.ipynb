{
 "cells": [
  {
   "cell_type": "markdown",
   "metadata": {},
   "source": [
    "# Select sample of documents with keyphrases from test dataset"
   ]
  },
  {
   "cell_type": "code",
   "execution_count": 9,
   "metadata": {},
   "outputs": [
    {
     "ename": "SyntaxError",
     "evalue": "invalid syntax (<ipython-input-9-d21eac4849a7>, line 5)",
     "output_type": "error",
     "traceback": [
      "\u001b[0;36m  File \u001b[0;32m\"<ipython-input-9-d21eac4849a7>\"\u001b[0;36m, line \u001b[0;32m5\u001b[0m\n\u001b[0;31m    from somhos.config.paths import get_relative_path, *\u001b[0m\n\u001b[0m                                                       ^\u001b[0m\n\u001b[0;31mSyntaxError\u001b[0m\u001b[0;31m:\u001b[0m invalid syntax\n"
     ]
    }
   ],
   "source": [
    "import sys\n",
    "import os\n",
    "import random\n",
    "from somhos.methods.useful import save_pickle, load_pickle\n",
    "from somhos.config.paths import get_relative_path, * "
   ]
  },
  {
   "cell_type": "markdown",
   "metadata": {},
   "source": [
    "Default path"
   ]
  },
  {
   "cell_type": "code",
   "execution_count": 2,
   "metadata": {},
   "outputs": [],
   "source": [
    "data_path = \"../../src/somhos/resources/aminer/v9\""
   ]
  },
  {
   "cell_type": "markdown",
   "metadata": {},
   "source": [
    "Load test dataset ids to select a sample"
   ]
  },
  {
   "cell_type": "code",
   "execution_count": 3,
   "metadata": {},
   "outputs": [
    {
     "name": "stderr",
     "output_type": "stream",
     "text": [
      "Test dataset:  243520\n"
     ]
    }
   ],
   "source": [
    "test_dataset_path = data_path + \"/test-dataset.pkl\"\n",
    "test_dataset = load_pickle(test_dataset_path)\n",
    "print(\"Test dataset: \", len(test_dataset), file=sys.stderr)"
   ]
  },
  {
   "cell_type": "markdown",
   "metadata": {},
   "source": [
    "Load inverse directory 'document id -> keyphrase ids' to check if document has keyphrases."
   ]
  },
  {
   "cell_type": "code",
   "execution_count": 4,
   "metadata": {},
   "outputs": [
    {
     "name": "stderr",
     "output_type": "stream",
     "text": [
      "Inverse directory:  1475448\n"
     ]
    }
   ],
   "source": [
    "kps_directory_inverse_path = data_path + \"/kps-directory-inverse-simpseq10-nopost.pkl\"\n",
    "kps_directory_inverse = load_pickle(kps_directory_inverse_path)\n",
    "print(\"Inverse directory: \", len(kps_directory_inverse), file=sys.stderr)"
   ]
  },
  {
   "cell_type": "markdown",
   "metadata": {},
   "source": [
    "Select two samples."
   ]
  },
  {
   "cell_type": "code",
   "execution_count": 5,
   "metadata": {},
   "outputs": [
    {
     "name": "stdout",
     "output_type": "stream",
     "text": [
      "Expected documents: 2000\n",
      "0 243520 0.00821287779237845\n",
      "Samples size: (1000, 1000)\n"
     ]
    }
   ],
   "source": [
    "seed = 0\n",
    "# docs with keyphrases\n",
    "docs_wkps = len(test_dataset)\n",
    "# n expected docs\n",
    "ndocs_expected = (1000*2)\n",
    "print(\"Expected documents: %d\" % ndocs_expected)\n",
    "# threshold\n",
    "threshold = ndocs_expected/docs_wkps\n",
    "print(seed, docs_wkps, threshold)\n",
    "# Init seed\n",
    "random.seed(0)\n",
    "\n",
    "# Select random docs\n",
    "docs_set_a = set()\n",
    "docs_set_b = set()\n",
    "\n",
    "def insert_to_set(element, set_1, set_2, limit):\n",
    "    \"\"\"Insert element to the first set not exceding limit\"\"\"\n",
    "    if len(set_1) < limit and element not in set_2:\n",
    "        set_1.add(element)\n",
    "    elif len(set_2) < limit and element not in set_1:\n",
    "        set_2.add(element)\n",
    "\n",
    "# while not ndocs_expected selected\n",
    "test_dataset_iter = iter(test_dataset)\n",
    "while len(docs_set_a | docs_set_b) < ndocs_expected:\n",
    "    try:\n",
    "        cur_doc = next(test_dataset_iter)\n",
    "    except StopIteration:\n",
    "        test_dataset_iter = iter(test_dataset)\n",
    "    if cur_doc not in kps_directory_inverse:\n",
    "        continue\n",
    "    if random.random() > threshold:\n",
    "        continue\n",
    "    # assign doc randomly\n",
    "    if random.random() <= 0.5:\n",
    "        insert_to_set(cur_doc, docs_set_a, docs_set_b, ndocs_expected/2)\n",
    "    else:\n",
    "        insert_to_set(cur_doc, docs_set_b, docs_set_a, ndocs_expected/2)\n",
    "print(\"Samples size: (%d, %d)\" % (len(docs_set_a), len(docs_set_b)))"
   ]
  },
  {
   "cell_type": "markdown",
   "metadata": {},
   "source": [
    "Free memory"
   ]
  },
  {
   "cell_type": "code",
   "execution_count": 6,
   "metadata": {},
   "outputs": [],
   "source": [
    "del kps_directory_inverse\n",
    "del test_dataset_iter\n",
    "del test_dataset"
   ]
  },
  {
   "cell_type": "markdown",
   "metadata": {},
   "source": [
    "Save samples"
   ]
  },
  {
   "cell_type": "code",
   "execution_count": 7,
   "metadata": {},
   "outputs": [
    {
     "ename": "NameError",
     "evalue": "name 'get_relative_path' is not defined",
     "output_type": "error",
     "traceback": [
      "\u001b[0;31m---------------------------------------------------------------------------\u001b[0m",
      "\u001b[0;31mNameError\u001b[0m                                 Traceback (most recent call last)",
      "\u001b[0;32m<ipython-input-7-0c2369397032>\u001b[0m in \u001b[0;36m<module>\u001b[0;34m()\u001b[0m\n\u001b[1;32m      1\u001b[0m \u001b[0;31m# Save sample A\u001b[0m\u001b[0;34m\u001b[0m\u001b[0;34m\u001b[0m\u001b[0m\n\u001b[0;32m----> 2\u001b[0;31m \u001b[0mdocs_sample_a_path\u001b[0m \u001b[0;34m=\u001b[0m \u001b[0mget_relative_path\u001b[0m\u001b[0;34m(\u001b[0m\u001b[0mdata_path\u001b[0m\u001b[0;34m,\u001b[0m \u001b[0mdocs_sample_a_suffix\u001b[0m\u001b[0;34m)\u001b[0m\u001b[0;34m\u001b[0m\u001b[0m\n\u001b[0m\u001b[1;32m      3\u001b[0m \u001b[0msave_pickle\u001b[0m\u001b[0;34m(\u001b[0m\u001b[0mdocs_set_a\u001b[0m\u001b[0;34m,\u001b[0m \u001b[0mdocs_sample_a_path\u001b[0m\u001b[0;34m)\u001b[0m\u001b[0;34m\u001b[0m\u001b[0m\n\u001b[1;32m      4\u001b[0m \u001b[0;31m# Save sample B\u001b[0m\u001b[0;34m\u001b[0m\u001b[0;34m\u001b[0m\u001b[0m\n\u001b[1;32m      5\u001b[0m \u001b[0mdocs_sample_b_path\u001b[0m \u001b[0;34m=\u001b[0m \u001b[0mget_relative_path\u001b[0m\u001b[0;34m(\u001b[0m\u001b[0mdata_path\u001b[0m\u001b[0;34m,\u001b[0m \u001b[0mdocs_sample_b_suffix\u001b[0m\u001b[0;34m)\u001b[0m\u001b[0;34m\u001b[0m\u001b[0m\n",
      "\u001b[0;31mNameError\u001b[0m: name 'get_relative_path' is not defined"
     ]
    }
   ],
   "source": [
    "# Save sample A\n",
    "docs_sample_a_path = get_relative_path(data_path, docs_sample_a_suffix)\n",
    "save_pickle(docs_set_a, docs_sample_a_path)\n",
    "# Save sample B\n",
    "docs_sample_b_path = get_relative_path(data_path, docs_sample_b_suffix)\n",
    "save_pickle(docs_set_b, docs_sample_b_path)"
   ]
  }
 ],
 "metadata": {
  "kernelspec": {
   "display_name": "Python 3",
   "language": "python",
   "name": "python3"
  },
  "language_info": {
   "codemirror_mode": {
    "name": "ipython",
    "version": 3
   },
   "file_extension": ".py",
   "mimetype": "text/x-python",
   "name": "python",
   "nbconvert_exporter": "python",
   "pygments_lexer": "ipython3",
   "version": "3.6.6"
  }
 },
 "nbformat": 4,
 "nbformat_minor": 2
}
