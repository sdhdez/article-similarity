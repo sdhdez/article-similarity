{
 "cells": [
  {
   "cell_type": "code",
   "execution_count": 155,
   "metadata": {},
   "outputs": [],
   "source": [
    "import somhos.resources.dataset as rd\n",
    "import somhos.resources.queries as rq\n",
    "import somhos.methods.useful as mu\n",
    "import kleis.resources.dataset as kl\n",
    "import hashlib as hl\n",
    "import pickle\n",
    "from pathlib import Path"
   ]
  },
  {
   "cell_type": "code",
   "execution_count": 2,
   "metadata": {},
   "outputs": [],
   "source": [
    "kleis = kl.load_corpus()\n",
    "kleis.training(features_method=\"simple-posseq\", filter_min_count=10)"
   ]
  },
  {
   "cell_type": "markdown",
   "metadata": {},
   "source": [
    "### [Aminer Citation Network Datasets - v1 and v9](https://aminer.org/citation)\n",
    "\n"
   ]
  },
  {
   "cell_type": "code",
   "execution_count": 135,
   "metadata": {},
   "outputs": [],
   "source": [
    "#data_path = \"resources/aminer/v1\"\n",
    "data_path = \"../../src/somhos/resources/aminer/v9\"\n",
    "keyphrases_path = \"../../src/somhos/resources/aminer/v9/kp-simple-posseq-10-nopostprocessing.txt\"\n",
    "keyphrases_count_path = \"../../src/somhos/resources/aminer/v9/kps-count-simple-posseq10-nopostprocessing.pkl\"\n",
    "keyphrases_hash_path = \"../../src/somhos/resources/aminer/v9/kps-hash-simple-posseq10-nopostprocessing.pkl\""
   ]
  },
  {
   "cell_type": "code",
   "execution_count": 4,
   "metadata": {},
   "outputs": [
    {
     "name": "stdout",
     "output_type": "stream",
     "text": [
      "FileIndex(FileStorage('../../src/somhos/resources/aminer/v9/index-data'), 'MAIN')\n"
     ]
    }
   ],
   "source": [
    "related_docs = True\n",
    "# Index \n",
    "ix_data = rq.cur_indexed_docs(data_path)\n",
    "print(ix_data)"
   ]
  },
  {
   "cell_type": "code",
   "execution_count": 143,
   "metadata": {},
   "outputs": [],
   "source": [
    "if Path(keyphrases_hash_path).exists():\n",
    "    with open(keyphrases_hash_path, \"rb\") as fin:\n",
    "        kps_hashes_16 = pickle.load(fin)\n",
    "else:\n",
    "    kps_hashes_16 = {}"
   ]
  },
  {
   "cell_type": "code",
   "execution_count": 5,
   "metadata": {},
   "outputs": [
    {
     "name": "stdout",
     "output_type": "stream",
     "text": [
      " - Documents: 2385062\n",
      " - Keyphrases: 32839535, 27189590, 3761996, 3761996\n"
     ]
    }
   ],
   "source": [
    "with ix_data.reader() as reader:\n",
    "    i = 0\n",
    "    kps_count = 0\n",
    "    for doc_id, doc in reader.iter_docs():\n",
    "        i += 1\n",
    "        #if i < 900000:\n",
    "        #    continue\n",
    "        # if i >= 1000000:\n",
    "        #    break\n",
    "        try:\n",
    "            keyphrases = kleis.label_text(doc['content'], post_processing=False)\n",
    "            kps_count += len(keyphrases)\n",
    "            for k in keyphrases:\n",
    "                kps_hash_16 = mu.hash_16B(k[2])\n",
    "        except ValueError:\n",
    "            pass\n",
    "    kps_count_hashes_16 = len(kps_hashes_16)\n",
    "        # if len(kps) > 2:\n",
    "    # print(kps_hashes)\n",
    "    print(\" - Documents: %d\" % (i))\n",
    "    print(\" - Keyphrases: %d, %d, %d, %d\" % (kps_count, kps_count_set, kps_count_hashes, kps_count_hashes_16))"
   ]
  },
  {
   "cell_type": "code",
   "execution_count": 154,
   "metadata": {},
   "outputs": [
    {
     "data": {
      "text/plain": [
       "3761996"
      ]
     },
     "execution_count": 154,
     "metadata": {},
     "output_type": "execute_result"
    }
   ],
   "source": [
    "len(kps_hashes_16)"
   ]
  },
  {
   "cell_type": "code",
   "execution_count": 142,
   "metadata": {},
   "outputs": [],
   "source": [
    "if not Path(keyphrases_count_path).exists():\n",
    "    kps_h = sorted(kps_hashes_16.items(), key=lambda x: x[1])\n",
    "    print(len(kps_h), kps_h[:10])\n",
    "    with open(keyphrases_count_path, \"wb\") as fout:\n",
    "        pickle.dump([v for k,v in kps_h], fout, pickle.HIGHEST_PROTOCOL)\n",
    "    with open(keyphrases_hash_path, \"wb\") as fout:\n",
    "        pickle.dump({k: i for i, (k,v) in enumerate(kps_h)}, fout, pickle.HIGHEST_PROTOCOL)"
   ]
  }
 ],
 "metadata": {
  "kernelspec": {
   "display_name": "Python 3",
   "language": "python",
   "name": "python3"
  },
  "language_info": {
   "codemirror_mode": {
    "name": "ipython",
    "version": 3
   },
   "file_extension": ".py",
   "mimetype": "text/x-python",
   "name": "python",
   "nbconvert_exporter": "python",
   "pygments_lexer": "ipython3",
   "version": "3.5.2"
  },
  "widgets": {
   "application/vnd.jupyter.widget-state+json": {
    "state": {},
    "version_major": 2,
    "version_minor": 0
   }
  }
 },
 "nbformat": 4,
 "nbformat_minor": 2
}
