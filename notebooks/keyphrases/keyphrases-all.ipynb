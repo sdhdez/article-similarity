{
 "cells": [
  {
   "cell_type": "code",
   "execution_count": 1,
   "metadata": {},
   "outputs": [
    {
     "name": "stderr",
     "output_type": "stream",
     "text": [
      "/usr/local/lib/python3.5/dist-packages/h5py/__init__.py:36: FutureWarning: Conversion of the second argument of issubdtype from `float` to `np.floating` is deprecated. In future, it will be treated as `np.float64 == np.dtype(float).type`.\n",
      "  from ._conv import register_converters as _register_converters\n"
     ]
    },
    {
     "name": "stdout",
     "output_type": "stream",
     "text": [
      "Default:  ~/kleis_data/corpus/semeval2017-task10\n"
     ]
    },
    {
     "name": "stderr",
     "output_type": "stream",
     "text": [
      "Warning: SemEval 2017 Task 10 corpus doesn't exists.\n",
      "    - Download from here https://scienceie.github.io/resources.html\n",
      "    - Use one of the following paths.\n",
      "        + ./kleis_data/corpus/semeval2017-task10/\n",
      "        + ~/kleis_data/corpus/semeval2017-task10/\n",
      "        + /home/jupyterlab/.local/lib/python3.5/site-packages/kleis/kleis_data/corpus/semeval2017-task10/\n",
      "    - You can use pre-trained models.\n"
     ]
    }
   ],
   "source": [
    "import somhos.resources.dataset as rd\n",
    "import somhos.resources.queries as rq\n",
    "import kleis.resources.dataset as kl\n",
    "import hashlib as hl"
   ]
  },
  {
   "cell_type": "code",
   "execution_count": 2,
   "metadata": {},
   "outputs": [],
   "source": [
    "kleis = kl.load_corpus()\n",
    "kleis.training(features_method=\"simple-posseq\", filter_min_count=10)"
   ]
  },
  {
   "cell_type": "markdown",
   "metadata": {},
   "source": [
    "### [Aminer Citation Network Datasets - v1 and v9](https://aminer.org/citation)\n",
    "\n"
   ]
  },
  {
   "cell_type": "code",
   "execution_count": 3,
   "metadata": {},
   "outputs": [],
   "source": [
    "#data_path = \"resources/aminer/v1\"\n",
    "data_path = \"../../src/somhos/resources/aminer/v9\"\n",
    "keyphrases_path = \"../../src/somhos/resources/aminer/v9/kp-simple-posseq-10-nopostprocessing.txt\""
   ]
  },
  {
   "cell_type": "code",
   "execution_count": 4,
   "metadata": {},
   "outputs": [
    {
     "name": "stdout",
     "output_type": "stream",
     "text": [
      "FileIndex(FileStorage('../../src/somhos/resources/aminer/v9/index-data'), 'MAIN')\n"
     ]
    }
   ],
   "source": [
    "related_docs = True\n",
    "# Index \n",
    "ix_data = rq.cur_indexed_docs(data_path)\n",
    "print(ix_data)"
   ]
  },
  {
   "cell_type": "code",
   "execution_count": null,
   "metadata": {},
   "outputs": [],
   "source": [
    "with ix_data.reader() as reader:\n",
    "    i = 0\n",
    "    kps_count = 0\n",
    "    kps_count_set = 0\n",
    "    kps_count_hashes = 0\n",
    "    kps_hashes_9 = {}\n",
    "    kps_hashes = {}\n",
    "    for doc_id, doc in reader.iter_docs():\n",
    "        i += 1\n",
    "        if i < 900000:\n",
    "            continue\n",
    "        if i >= 1000000:\n",
    "            break\n",
    "        try:\n",
    "            kps = set()\n",
    "            keyphrases = kleis.label_text(doc['content'], post_processing=False)\n",
    "            kps_count += len(keyphrases)\n",
    "            for k in keyphrases:\n",
    "                keyphrase = k[2].lower().encode('utf-8')\n",
    "                kps.add(keyphrase)\n",
    "                kps_hash = hl.md5(keyphrase).hexdigest()\n",
    "                kps_hashes_9.setdefault(kps_hash[:9], set())\n",
    "                kps_hashes.setdefault(kps_hash, set())\n",
    "                # kps_hashes[kps_hash].add(keyphrase)\n",
    "            kps_count_set += len(kps)\n",
    "        except ValueError:\n",
    "            pass\n",
    "    kps_count_hashes = len(kps_hashes)\n",
    "    kps_count_hashes_9 = len(kps_hashes_9)\n",
    "        # if len(kps) > 2:\n",
    "    # print(kps_hashes)\n",
    "    print(\" - Documents: %d\" % (i))\n",
    "    print(\" - Keyphrases: %d, %d, %d, %d\" % (kps_count, kps_count_set, kps_count_hashes, kps_count_hashes_9))"
   ]
  }
 ],
 "metadata": {
  "kernelspec": {
   "display_name": "Python 3",
   "language": "python",
   "name": "python3"
  },
  "language_info": {
   "codemirror_mode": {
    "name": "ipython",
    "version": 3
   },
   "file_extension": ".py",
   "mimetype": "text/x-python",
   "name": "python",
   "nbconvert_exporter": "python",
   "pygments_lexer": "ipython3",
   "version": "3.5.2"
  },
  "widgets": {
   "application/vnd.jupyter.widget-state+json": {
    "state": {},
    "version_major": 2,
    "version_minor": 0
   }
  }
 },
 "nbformat": 4,
 "nbformat_minor": 2
}
