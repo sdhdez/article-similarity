{
 "cells": [
  {
   "cell_type": "code",
   "execution_count": 1,
   "metadata": {},
   "outputs": [],
   "source": [
    "import sys\n",
    "import os\n",
    "import random\n",
    "import copy\n",
    "import time\n",
    "from pathlib import Path\n",
    "import hashlib as hl\n",
    "import pickle\n",
    "import somhos.resources.dataset as rd\n",
    "import somhos.resources.queries as rq\n",
    "import somhos.methods.useful as mu"
   ]
  },
  {
   "cell_type": "code",
   "execution_count": 2,
   "metadata": {},
   "outputs": [],
   "source": [
    "#data_path = \"resources/aminer/v1\"\n",
    "data_path = \"../../src/somhos/resources/aminer/v9beta\""
   ]
  },
  {
   "cell_type": "code",
   "execution_count": 3,
   "metadata": {},
   "outputs": [],
   "source": [
    "kps_normalized_path = data_path + \"/kps-normalized-simpseq10-nopost.pkl\"\n",
    "if Path(kps_normalized_path).exists():\n",
    "    with open(kps_normalized_path, \"rb\") as fin:\n",
    "        kps_normalized = pickle.load(fin)\n",
    "        \n",
    "kps_counts_path = data_path + \"/kps-counts-simpseq10-nopost.pkl\"\n",
    "if Path(kps_counts_path).exists():\n",
    "    with open(kps_counts_path, \"rb\") as fin:\n",
    "        kps_counts = pickle.load(fin)\n",
    "\n",
    "kps_docs_counts_path = data_path + \"/kps-docs-counts-simpseq10-nopost.pkl\"\n",
    "if Path(kps_docs_counts_path).exists():\n",
    "    with open(kps_docs_counts_path, \"rb\") as fin:\n",
    "        kps_docs_counts = pickle.load(fin)\n",
    "        \n",
    "kps_docs_ids_path = data_path + \"/kps-docs-ids-simpseq10-nopost.pkl\"\n",
    "if Path(kps_docs_ids_path).exists():\n",
    "    with open(kps_docs_ids_path, \"rb\") as fin:\n",
    "        kps_docs_ids = pickle.load(fin)\n",
    "\n",
    "kps_directory_path = data_path + \"/kps-directory-simpseq10-nopost.pkl\"\n",
    "if Path(kps_directory_path).exists():\n",
    "    with open(kps_directory_path, \"rb\") as fin:\n",
    "        kps_directory = pickle.load(fin)\n",
    "\n",
    "kps_directory_inverse_path = data_path + \"/kps-directory-inverse-simpseq10-nopost.pkl\"\n",
    "if Path(kps_directory_inverse_path).exists():\n",
    "    with open(kps_directory_inverse_path, \"rb\") as fin:\n",
    "        kps_directory_inverse = pickle.load(fin)"
   ]
  },
  {
   "cell_type": "code",
   "execution_count": 4,
   "metadata": {},
   "outputs": [],
   "source": [
    "test_dataset_path = data_path + \"/test-dataset.pkl\"\n",
    "if Path(test_dataset_path).exists():\n",
    "    with open(test_dataset_path, \"rb\") as fin:\n",
    "        test_dataset = pickle.load(fin)\n",
    "\n",
    "train_dataset_path = data_path + \"/train-dataset.pkl\"\n",
    "if Path(train_dataset_path).exists():\n",
    "    with open(train_dataset_path, \"rb\") as fin:\n",
    "        train_dataset = pickle.load(fin)"
   ]
  },
  {
   "cell_type": "code",
   "execution_count": 5,
   "metadata": {},
   "outputs": [
    {
     "name": "stdout",
     "output_type": "stream",
     "text": [
      "3922202 \n",
      "3922202 \n",
      "3922202 \n",
      "3922202 \n",
      "3922202 \n",
      "1475448 \n",
      "243520 \n",
      "2146777 \n"
     ]
    }
   ],
   "source": [
    "print(\"%d \" % len(kps_normalized))\n",
    "print(\"%d \" % len(kps_counts))\n",
    "print(\"%d \" % len(kps_docs_counts))\n",
    "print(\"%d \" % len(kps_docs_ids))\n",
    "print(\"%d \" % len(kps_directory))\n",
    "print(\"%d \" % len(kps_directory_inverse))\n",
    "print(\"%d \" % len(test_dataset))\n",
    "print(\"%d \" % len(train_dataset))"
   ]
  },
  {
   "cell_type": "code",
   "execution_count": 7,
   "metadata": {},
   "outputs": [
    {
     "name": "stdout",
     "output_type": "stream",
     "text": [
      "[b'literature', b'call', b'example', b'n', b'q']\n",
      "[423, 422, 420, 420, 418]\n",
      "[396, 418, 395, 256, 184]\n",
      "[100, 101, 102, 103, 104]\n",
      "[('index2358587', {0, 769, 2465, 99, 1184, 2824, 11209, 2602, 13291, 3906536, 14, 16722, 3962}), ('index2335651', {0, 159904, 642, 64461, 16, 22, 121, 1147, 39964}), ('index2367736', {0, 8425, 3979, 169422, 324242, 3909106, 127}), ('index2351487', {0, 3918852, 38, 103, 84843, 27628, 14, 16, 17, 80, 5459, 20, 117, 22}), ('index2355729', {0, 529, 2101, 13115, 892}), ('index2366313', {0, 6464, 526, 17, 529, 20, 21, 3898358, 2231, 952, 3899060, 3899773}), ('index2355310', {0, 1, 1956, 484, 25128, 42, 80, 17, 3600, 4530, 20, 229456, 229841, 560372, 1058362, 716570}), ('index2341375', {0, 193, 352, 1800, 1066219, 10189}), ('index2336240', {0, 602048, 3, 1092, 8, 2120, 17, 53, 158}), ('index2355730', {0, 2307, 739, 1956, 1367278, 603, 158})]\n"
     ]
    }
   ],
   "source": [
    "seg_start = 100\n",
    "seg_end = seg_start + 5\n",
    "print(kps_normalized[seg_start:seg_end])\n",
    "print(kps_counts[seg_start:seg_end])\n",
    "print(kps_docs_counts[seg_start:seg_end])\n",
    "# print(kps_docs_ids[seg_start:seg_end])\n",
    "print([kps_directory[mu.hash_16bytes(kn)] for kn in kps_normalized[seg_start:seg_end]])\n",
    "print([di for i, di in enumerate(kps_directory_inverse.items()) if i < 10])"
   ]
  }
 ],
 "metadata": {
  "kernelspec": {
   "display_name": "Python 3",
   "language": "python",
   "name": "python3"
  },
  "language_info": {
   "codemirror_mode": {
    "name": "ipython",
    "version": 3
   },
   "file_extension": ".py",
   "mimetype": "text/x-python",
   "name": "python",
   "nbconvert_exporter": "python",
   "pygments_lexer": "ipython3",
   "version": "3.7.3"
  },
  "widgets": {
   "application/vnd.jupyter.widget-state+json": {
    "state": {},
    "version_major": 2,
    "version_minor": 0
   }
  }
 },
 "nbformat": 4,
 "nbformat_minor": 2
}
