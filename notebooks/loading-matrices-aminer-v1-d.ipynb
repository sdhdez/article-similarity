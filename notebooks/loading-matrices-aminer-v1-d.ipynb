{
 "cells": [
  {
   "cell_type": "code",
   "execution_count": 1,
   "metadata": {},
   "outputs": [],
   "source": [
    "import matplotlib.pyplot as plt\n",
    "import matplotlib as mpl\n",
    "import numpy as np\n",
    "import scipy.spatial as sp\n",
    "\n",
    "import matrices.loading as mload"
   ]
  },
  {
   "cell_type": "code",
   "execution_count": 2,
   "metadata": {},
   "outputs": [],
   "source": [
    "plt.rcParams[\"figure.figsize\"] = (18,18)\n",
    "mpl.rcParams['image.cmap'] = 'jet'"
   ]
  },
  {
   "cell_type": "code",
   "execution_count": 3,
   "metadata": {},
   "outputs": [],
   "source": [
    "data_path = \"resources/aminer/v1\" # 629814 documents"
   ]
  },
  {
   "cell_type": "code",
   "execution_count": 4,
   "metadata": {},
   "outputs": [
    {
     "name": "stdout",
     "output_type": "stream",
     "text": [
      "Loading saved matrix ...\n",
      "2 (998, 998)\n"
     ]
    }
   ],
   "source": [
    "# Load sparse matrix with jaccard similarities.\n",
    "\n",
    "matrix_jaccard = mload.load_matrix_jaccard_sim(data_path) # 998 documents sample\n",
    "print(matrix_jaccard.ndim, matrix_jaccard.shape)"
   ]
  },
  {
   "cell_type": "code",
   "execution_count": 5,
   "metadata": {},
   "outputs": [
    {
     "name": "stdout",
     "output_type": "stream",
     "text": [
      "Loading saved matrix ...\n",
      "2 (998, 998)\n"
     ]
    }
   ],
   "source": [
    "# Load sparse matrix with word2vec similarities.\n",
    "\n",
    "matrix_word2vec = mload.load_matrix_word2vec_sim(data_path) # 998 documents sample\n",
    "print(matrix_word2vec.ndim, matrix_word2vec.shape)"
   ]
  },
  {
   "cell_type": "code",
   "execution_count": 6,
   "metadata": {},
   "outputs": [
    {
     "name": "stdout",
     "output_type": "stream",
     "text": [
      "Number of documents 998 (998, 998)\n",
      "(998, 998)\n",
      "(998, 998)\n"
     ]
    }
   ],
   "source": [
    "N = matrix_jaccard.shape[0]\n",
    "print(\"Number of documents\", N, (matrix_jaccard.shape))\n",
    "\n",
    "# jaccard\n",
    "matrix_dice = np.divide(np.multiply(matrix_jaccard,2), np.add(matrix_jaccard, 1))\n",
    "print(matrix_dice.shape)\n",
    "\n",
    "# jaccard disimilarity \n",
    "matrix_jaccard_dis = np.subtract(1, matrix_jaccard)\n",
    "print(matrix_jaccard_dis.shape)"
   ]
  },
  {
   "cell_type": "code",
   "execution_count": 7,
   "metadata": {
    "scrolled": false
   },
   "outputs": [],
   "source": [
    "# Means of jaccard similarities\n",
    "jaccard_similarity_mean = np.divide(np.sum(matrix_jaccard, axis=1), N)\n",
    "# Array of indices to sort matrices  \n",
    "jaccard_ordered_indices = jaccard_similarity_mean.argsort()[::-1]\n",
    "\n",
    "# Means of word2vec similarities\n",
    "word2vec_similarity_mean = np.divide(np.sum(matrix_word2vec, axis=1), N)\n",
    "# Array of indices to sort matrices  \n",
    "word2vec_ordered_indices = word2vec_similarity_mean.argsort()[::-1]\n",
    "\n",
    "# Means of dice similarities\n",
    "dice_similarity_mean = np.divide(np.sum(matrix_dice, axis=1), N)\n",
    "# Array of indices to sort matrices  \n",
    "dice_ordered_indices = dice_similarity_mean.argsort()[::-1]"
   ]
  }
 ],
 "metadata": {
  "kernelspec": {
   "display_name": "Python 3",
   "language": "python",
   "name": "python3"
  },
  "language_info": {
   "codemirror_mode": {
    "name": "ipython",
    "version": 3
   },
   "file_extension": ".py",
   "mimetype": "text/x-python",
   "name": "python",
   "nbconvert_exporter": "python",
   "pygments_lexer": "ipython3",
   "version": "3.5.2"
  },
  "widgets": {
   "application/vnd.jupyter.widget-state+json": {
    "state": {},
    "version_major": 2,
    "version_minor": 0
   }
  }
 },
 "nbformat": 4,
 "nbformat_minor": 2
}
