{
 "cells": [
  {
   "cell_type": "markdown",
   "metadata": {},
   "source": [
    "# Jaccard and word2vec matrices"
   ]
  },
  {
   "cell_type": "markdown",
   "metadata": {},
   "source": [
    "Dependencies"
   ]
  },
  {
   "cell_type": "code",
   "execution_count": 1,
   "metadata": {},
   "outputs": [],
   "source": [
    "import matplotlib.pyplot as plt\n",
    "import numpy as np\n",
    "import scipy.spatial as sp\n",
    "\n",
    "import matrices.loading as mload"
   ]
  },
  {
   "cell_type": "code",
   "execution_count": 2,
   "metadata": {},
   "outputs": [],
   "source": [
    "plt.rcParams[\"figure.figsize\"] = (16,16)"
   ]
  },
  {
   "cell_type": "markdown",
   "metadata": {},
   "source": [
    "Dataset (629814 documents)\n",
    "\n",
    "This is the path to th dataset."
   ]
  },
  {
   "cell_type": "code",
   "execution_count": 3,
   "metadata": {},
   "outputs": [],
   "source": [
    "data_path = \"resources/aminer/v1\" # 629814 documents"
   ]
  },
  {
   "cell_type": "markdown",
   "metadata": {},
   "source": [
    "Load sparse matrix with jaccard similarities."
   ]
  },
  {
   "cell_type": "code",
   "execution_count": 4,
   "metadata": {},
   "outputs": [
    {
     "name": "stdout",
     "output_type": "stream",
     "text": [
      "Loading saved matrix ...\n",
      "2 (998, 998)\n"
     ]
    }
   ],
   "source": [
    "matrix_jaccard = mload.load_matrix_jaccard_sim(data_path) # 998 documents sample\n",
    "print(matrix_jaccard.ndim, matrix_jaccard.shape)"
   ]
  },
  {
   "cell_type": "markdown",
   "metadata": {},
   "source": [
    "Load sparse matrix with word2vec similarities."
   ]
  },
  {
   "cell_type": "code",
   "execution_count": 5,
   "metadata": {},
   "outputs": [
    {
     "name": "stdout",
     "output_type": "stream",
     "text": [
      "Loading saved matrix ...\n",
      "2 (998, 998)\n"
     ]
    }
   ],
   "source": [
    "matrix_word2vec = mload.load_matrix_word2vec_sim(data_path) # 998 documents sample\n",
    "print(matrix_word2vec.ndim, matrix_word2vec.shape)"
   ]
  },
  {
   "cell_type": "code",
   "execution_count": 6,
   "metadata": {},
   "outputs": [
    {
     "name": "stdout",
     "output_type": "stream",
     "text": [
      "Number of documents 998 (998, 998)\n"
     ]
    }
   ],
   "source": [
    "N = matrix_jaccard.shape[0]\n",
    "print(\"Number of documents\", N, (matrix_jaccard.shape))"
   ]
  },
  {
   "cell_type": "markdown",
   "metadata": {},
   "source": [
    "Dice"
   ]
  },
  {
   "cell_type": "code",
   "execution_count": 7,
   "metadata": {},
   "outputs": [
    {
     "name": "stdout",
     "output_type": "stream",
     "text": [
      "(998, 998)\n"
     ]
    }
   ],
   "source": [
    "matrix_dice = 2*matrix_jaccard/(1 + matrix_jaccard)\n",
    "print(matrix_dice.shape)"
   ]
  },
  {
   "cell_type": "markdown",
   "metadata": {},
   "source": [
    "Jaccard disimilarity"
   ]
  },
  {
   "cell_type": "code",
   "execution_count": 8,
   "metadata": {},
   "outputs": [
    {
     "name": "stdout",
     "output_type": "stream",
     "text": [
      "(998, 998)\n"
     ]
    }
   ],
   "source": [
    "matrix_jaccard_dis = 1 -matrix_jaccard\n",
    "print(matrix_jaccard_dis.shape)"
   ]
  },
  {
   "cell_type": "code",
   "execution_count": 9,
   "metadata": {
    "scrolled": false
   },
   "outputs": [],
   "source": [
    "# Means of jaccard similarities\n",
    "jaccard_similarity_mean = np.divide(np.sum(matrix_jaccard, axis=1), N)\n",
    "# Array of indices to sort matrices  \n",
    "jaccard_ordered_indices = jaccard_similarity_mean.argsort()[::-1]"
   ]
  },
  {
   "cell_type": "code",
   "execution_count": 10,
   "metadata": {
    "scrolled": false
   },
   "outputs": [],
   "source": [
    "# Means of word2vec similarities\n",
    "word2vec_similarity_mean = np.divide(np.sum(matrix_word2vec, axis=1), N)\n",
    "# Array of indices to sort matrices  \n",
    "word2vec_ordered_indices = word2vec_similarity_mean.argsort()[::-1]"
   ]
  },
  {
   "cell_type": "code",
   "execution_count": 11,
   "metadata": {
    "scrolled": false
   },
   "outputs": [],
   "source": [
    "# Means of dice similarities\n",
    "dice_similarity_mean = np.divide(np.sum(matrix_dice, axis=1), N)\n",
    "# Array of indices to sort matrices  \n",
    "dice_ordered_indices = dice_similarity_mean.argsort()[::-1]"
   ]
  },
  {
   "cell_type": "markdown",
   "metadata": {},
   "source": [
    "## Covariance "
   ]
  },
  {
   "cell_type": "code",
   "execution_count": null,
   "metadata": {},
   "outputs": [
    {
     "data": {
      "text/plain": [
       "<matplotlib.colorbar.Colorbar at 0x7f40c01d56a0>"
      ]
     },
     "execution_count": 24,
     "metadata": {},
     "output_type": "execute_result"
    }
   ],
   "source": [
    "plt.matshow(np.cov(matrix_word2vec[:,word2vec_ordered_indices][word2vec_ordered_indices,:]), cmap='hot', vmin=0, vmax=0.005)\n",
    "plt.colorbar()"
   ]
  },
  {
   "cell_type": "code",
   "execution_count": 18,
   "metadata": {
    "scrolled": false
   },
   "outputs": [
    {
     "data": {
      "text/plain": [
       "<matplotlib.colorbar.Colorbar at 0x7f40c03ba9e8>"
      ]
     },
     "execution_count": 18,
     "metadata": {},
     "output_type": "execute_result"
    },
    {
     "data": {
      "image/png": "[encoded data removed]",
      "text/plain": [
       "<matplotlib.figure.Figure at 0x7f40c03baa20>"
      ]
     },
     "metadata": {},
     "output_type": "display_data"
    }
   ],
   "source": [
    "plt.matshow(np.cov(matrix_jaccard), cmap='hot', vmin=0, vmax=1)\n",
    "plt.colorbar()"
   ]
  }
 ],
 "metadata": {
  "kernelspec": {
   "display_name": "Python 3",
   "language": "python",
   "name": "python3"
  },
  "language_info": {
   "codemirror_mode": {
    "name": "ipython",
    "version": 3
   },
   "file_extension": ".py",
   "mimetype": "text/x-python",
   "name": "python",
   "nbconvert_exporter": "python",
   "pygments_lexer": "ipython3",
   "version": "3.5.2"
  },
  "widgets": {
   "application/vnd.jupyter.widget-state+json": {
    "state": {},
    "version_major": 2,
    "version_minor": 0
   }
  }
 },
 "nbformat": 4,
 "nbformat_minor": 2
}
