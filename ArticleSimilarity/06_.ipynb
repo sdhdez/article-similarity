{
 "cells": [
  {
   "cell_type": "markdown",
   "metadata": {},
   "source": [
    "# Comparing Jaccard and word2vec similarities"
   ]
  },
  {
   "cell_type": "code",
   "execution_count": 1,
   "metadata": {},
   "outputs": [
    {
     "name": "stderr",
     "output_type": "stream",
     "text": [
      "/usr/local/lib/python3.5/dist-packages/h5py/__init__.py:36: FutureWarning: Conversion of the second argument of issubdtype from `float` to `np.floating` is deprecated. In future, it will be treated as `np.float64 == np.dtype(float).type`.\n",
      "  from ._conv import register_converters as _register_converters\n"
     ]
    }
   ],
   "source": [
    "import similarities.loading as sl\n",
    "import resources.dataset as rd\n",
    "import resources.queries as rq"
   ]
  },
  {
   "cell_type": "markdown",
   "metadata": {},
   "source": [
    "### [Aminer Citation Network Datasets - v1 and v9](https://aminer.org/citation)\n",
    "\n"
   ]
  },
  {
   "cell_type": "code",
   "execution_count": 2,
   "metadata": {},
   "outputs": [],
   "source": [
    "#data_path = \"resources/aminer/v1\"\n",
    "data_path = \"resources/aminer/v9\""
   ]
  },
  {
   "cell_type": "markdown",
   "metadata": {},
   "source": [
    "### Select related documents or not"
   ]
  },
  {
   "cell_type": "code",
   "execution_count": 3,
   "metadata": {},
   "outputs": [],
   "source": [
    "related_docs = True"
   ]
  },
  {
   "cell_type": "markdown",
   "metadata": {},
   "source": [
    "### Content for n_documents"
   ]
  },
  {
   "cell_type": "code",
   "execution_count": 4,
   "metadata": {},
   "outputs": [
    {
     "name": "stderr",
     "output_type": "stream",
     "text": [
      "Sample size: 1002 documents\n",
      " - Content from resources/aminer/v9/sample-ids-100-10-0-related-fullcontent.bin\n"
     ]
    }
   ],
   "source": [
    "n_documents = 10\n",
    "# Load document ids in the Same order than the matrices\n",
    "indexdocs = rd.get_sample_ids(data_path, related_docs=related_docs)\n",
    "# Index \n",
    "ix_data = rq.cur_indexed_docs(data_path)"
   ]
  },
  {
   "cell_type": "markdown",
   "metadata": {},
   "source": [
    "#### Documents to the left of the matrices"
   ]
  },
  {
   "cell_type": "code",
   "execution_count": 5,
   "metadata": {
    "scrolled": true
   },
   "outputs": [
    {
     "name": "stdout",
     "output_type": "stream",
     "text": [
      "['index648244', 'index118', 'index134', 'index3171', 'index411670', 'index602016', 'index597440', 'index1825959', 'index1307710', 'index148', 'index1941588', 'index383030', 'index1834830', 'index1018042', 'index1321623', 'index1830688', 'index243', 'index285978', 'index57608', 'index20437', 'index603053', 'index1734828', 'index598012', 'index1344071', 'index981088', 'index1272903', 'index248', 'index1290977', 'index12439', 'index1854149', 'index251', 'index418299', 'index1154135', 'index885010', 'index910158', 'index607156', 'index1285898', 'index2089402', 'index836523', 'index908255', 'index1556338', 'index1055574', 'index549', 'index1210440', 'index1406140', 'index287756', 'index649637', 'index3082', 'index1012528', 'index716', 'index722', 'index723', 'index1822381', 'index725', 'index1501383', 'index1343902', 'index386207', 'index730', 'index731', 'index318607', 'index781', 'index786222', 'index108954', 'index1532976', 'index1849061', 'index936', 'index149199', 'index1931203', 'index1375615', 'index974', 'index1013370', 'index976', 'index1012134', 'index1014060', 'index1408189', 'index717818', 'index675025', 'index828116', 'index1011', 'index1013', 'index1104296', 'index623481', 'index839505', 'index749188', 'index810610', 'index1826524', 'index1551876', 'index1923885', 'index1017', 'index1490089', 'index1523707', 'index1025', 'index123948', 'index493501', 'index1170455', 'index2154620', 'index1027', 'index1794397', 'index2068063', 'index1364340', 'index2057984', 'index156766', 'index439823', 'index1150', 'index1260689', 'index729373', 'index1843259', 'index64773', 'index376431', 'index1609017', 'index1962660', 'index2039755', 'index1629070', 'index1155', 'index1680613', 'index167225', 'index1827920', 'index1954690', 'index1238', 'index1319', 'index548951', 'index766390', 'index1201365', 'index416896', 'index1051772', 'index1068806', 'index1320', 'index443445', 'index1322', 'index342388', 'index99455', 'index288610', 'index977982', 'index669005', 'index737035', 'index23896', 'index1324', 'index823603', 'index1058174', 'index2260110', 'index1979602', 'index1616331', 'index635197', 'index646918', 'index1327', 'index1033898', 'index1783700', 'index2091417', 'index880932', 'index1069438', 'index2260411', 'index606232', 'index56918', 'index606231', 'index1357', 'index340644', 'index649238', 'index1315591', 'index1875636', 'index1381', 'index602942', 'index1383', 'index1682502', 'index620073', 'index1929956', 'index1384', 'index459926', 'index547356', 'index67183', 'index1386', 'index470677', 'index2170206', 'index842132', 'index1387', 'index287244', 'index563636', 'index442674', 'index193293', 'index59365', 'index1388', 'index87376', 'index67460', 'index287674', 'index287348', 'index1398', 'index1434574', 'index309617', 'index2109517', 'index1004593', 'index1399', 'index1865701', 'index341478', 'index1400', 'index1401', 'index1672658', 'index2166635', 'index610366', 'index569892', 'index1404', 'index17863', 'index1115910', 'index320583', 'index1405', 'index1446', 'index1228617', 'index742257', 'index663744', 'index1977547', 'index1459922', 'index757185', 'index2060320', 'index1447', 'index2661', 'index1488', 'index600531', 'index1287835', 'index891460', 'index831412', 'index587522', 'index671762', 'index1489', 'index1135865', 'index1425781', 'index1494', 'index1710', 'index1940743', 'index738078', 'index1713', 'index604752', 'index1673961', 'index313508', 'index1810082', 'index1726513', 'index1684127', 'index1720', 'index577546', 'index415971', 'index1722', 'index117901', 'index737946', 'index1723', 'index729822', 'index848191', 'index1797028', 'index764142', 'index1846318', 'index1725', 'index598674', 'index600546', 'index2104239', 'index1013320', 'index1728', 'index598378', 'index1729', 'index1729941', 'index109661', 'index1905057', 'index598386', 'index12628', 'index320014', 'index1011552', 'index320870', 'index1286491', 'index1746', 'index45497', 'index68698', 'index555768', 'index628110', 'index564303', 'index611091', 'index57048', 'index1749', 'index885855', 'index287221', 'index1806230', 'index1751', 'index1753', 'index2342327', 'index2115007', 'index1638777', 'index2048636', 'index734034', 'index2048335', 'index1754', 'index824122', 'index1775', 'index488527', 'index1780', 'index2098423', 'index866374', 'index597710', 'index2128001', 'index423637', 'index1781', 'index672267', 'index2104645', 'index1784', 'index1000864', 'index442484', 'index1760788', 'index1759764', 'index649248', 'index1120944', 'index1758878', 'index1785', 'index1250753', 'index1597459', 'index444628', 'index1786', 'index984144', 'index2260449', 'index1354996', 'index1415398', 'index1825986', 'index342921', 'index486920', 'index674449', 'index86930', 'index650124', 'index1830', 'index159266', 'index116555', 'index1132304', 'index1831', 'index1834', 'index1273034', 'index757173', 'index1838', 'index802513', 'index793645', 'index103595', 'index1836', 'index772690', 'index348994', 'index776772', 'index1167201', 'index836558', 'index1770114', 'index1256420', 'index1837', 'index794469', 'index228094', 'index742421', 'index2111243', 'index1344617', 'index995492', 'index587706', 'index642865', 'index1610847', 'index306980', 'index598708', 'index641629', 'index65460', 'index1869', 'index108860', 'index1796981', 'index1871', 'index1423936', 'index1872', 'index829558', 'index1878822', 'index1896', 'index623781', 'index1161796', 'index640761', 'index46216', 'index1899', 'index1700230', 'index1009077', 'index1902', 'index1904', 'index92687', 'index484856', 'index1674294', 'index458844', 'index1905', 'index979134', 'index1446814', 'index1184301', 'index120020', 'index848943', 'index1907', 'index845935', 'index992771', 'index1840439', 'index574526', 'index767283', 'index1811026', 'index1953882', 'index1919', 'index1818528', 'index1931', 'index1377338', 'index664912', 'index1016254', 'index743565', 'index85048', 'index1933', 'index1755113', 'index1635859', 'index2178936', 'index793845', 'index1091365', 'index790805', 'index1935', 'index483190', 'index344915', 'index854732', 'index1863341', 'index1115433', 'index1936', 'index598622', 'index1640206', 'index581767', 'index153643', 'index1956', 'index461984', 'index583415', 'index638920', 'index1025123', 'index3875', 'index649835', 'index1013281', 'index34900', 'index1959', 'index1013132', 'index1011504', 'index835690', 'index66008', 'index597140', 'index1961', 'index1962', 'index204577', 'index939650', 'index69688', 'index1011481', 'index1318', 'index2017', 'index1130545', 'index2027', 'index1460428', 'index341541', 'index1232999', 'index974116', 'index563149', 'index579482', 'index427923', 'index492289', 'index2045', 'index545218', 'index2075385', 'index1289452', 'index1102442', 'index1231050', 'index1080819', 'index2054', 'index656775', 'index2230060', 'index2055', 'index411606', 'index2056', 'index441307', 'index598163', 'index2059', 'index603005', 'index596760', 'index1575675', 'index2062', 'index607310', 'index2064', 'index441579', 'index1691845', 'index834918', 'index482364', 'index1563572', 'index674372', 'index498434', 'index2067', 'index682307', 'index1639885', 'index1852342', 'index1805825', 'index1391097', 'index2068', 'index740255', 'index1112384', 'index2069', 'index1253838', 'index1479080', 'index2070', 'index1801386', 'index972503', 'index2071', 'index746214', 'index2077', 'index1419467', 'index820903', 'index1014711', 'index1327167', 'index2080', 'index1440476', 'index2081', 'index601032', 'index2314140', 'index2260747', 'index343553', 'index1563585', 'index1568497', 'index1402237', 'index2088', 'index1018189', 'index1512682', 'index2132323', 'index1259800', 'index2089', 'index604187', 'index452278', 'index1167945', 'index1112421', 'index1011503', 'index2091', 'index1607605', 'index1742356', 'index1274310', 'index268079', 'index1122179', 'index1108189', 'index1588098', 'index1450758', 'index2092', 'index1017859', 'index598177', 'index604223', 'index728447', 'index596851', 'index733540', 'index342844', 'index2146', 'index863035', 'index2147', 'index990653', 'index1517004', 'index2149', 'index895456', 'index1342198', 'index1140878', 'index2150', 'index320183', 'index602390', 'index1724539', 'index2151', 'index753708', 'index1415916', 'index2173', 'index1677247', 'index2174', 'index1827520', 'index1060640', 'index2168779', 'index604320', 'index439759', 'index607005', 'index1827251', 'index2177', 'index609546', 'index451673', 'index36186', 'index2178', 'index402990', 'index741008', 'index2035564', 'index2217', 'index2220', 'index649606', 'index2323649', 'index767760', 'index1275438', 'index318183', 'index1846334', 'index2221', 'index299568', 'index1141540', 'index865905', 'index1869856', 'index675138', 'index357302', 'index1173212', 'index1477677', 'index166096', 'index319587', 'index603185', 'index2229', 'index411610', 'index2025040', 'index672778', 'index11482', 'index26943', 'index1714817', 'index1483915', 'index2243', 'index1010890', 'index171478', 'index1002589', 'index2244', 'index293454', 'index2245', 'index2248', 'index647501', 'index1832567', 'index2064285', 'index1879734', 'index2250', 'index838419', 'index473682', 'index612191', 'index722592', 'index982178', 'index1328105', 'index2251', 'index1014241', 'index287033', 'index659522', 'index659582', 'index659528', 'index48259', 'index1456732', 'index2262', 'index69787', 'index2263', 'index1902705', 'index2264', 'index843149', 'index613729', 'index1018592', 'index2282', 'index1308504', 'index1931299', 'index751932', 'index477061', 'index466493', 'index1492365', 'index1917857', 'index1018594', 'index2284', 'index390108', 'index745675', 'index730531', 'index356652', 'index501017', 'index1485812', 'index1907519', 'index1018595', 'index2285', 'index2197362', 'index2291', 'index1112683', 'index913258', 'index2195362', 'index2300', 'index2301', 'index1471490', 'index804681', 'index1345730', 'index205368', 'index2307', 'index1534251', 'index262280', 'index887968', 'index1517818', 'index2308', 'index2310', 'index2273494', 'index1440114', 'index1937847', 'index651702', 'index2326', 'index2327', 'index762532', 'index12434', 'index604167', 'index41838', 'index982714', 'index2331', 'index2332', 'index443877', 'index2645', 'index417381', 'index1502219', 'index2039777', 'index1315496', 'index631521', 'index2649', 'index320596', 'index1633961', 'index2651', 'index121715', 'index240785', 'index1307760', 'index1690365', 'index1014075', 'index2656', 'index38224', 'index416027', 'index1409639', 'index1652247', 'index2657', 'index1140584', 'index726503', 'index562309', 'index1342047', 'index2265', 'index2664', 'index2751', 'index2753', 'index1172688', 'index505262', 'index1590679', 'index261318', 'index442193', 'index2755', 'index1286625', 'index2758', 'index1012634', 'index86966', 'index1012214', 'index1010865', 'index1640231', 'index2759', 'index767521', 'index767498', 'index767535', 'index1116015', 'index18482', 'index439266', 'index767537', 'index2760', 'index157141', 'index292475', 'index838045', 'index560327', 'index34914', 'index267301', 'index586473', 'index2765', 'index659549', 'index869758', 'index2838', 'index126454', 'index1013408', 'index1011534', 'index1012379', 'index665143', 'index1012913', 'index2840', 'index1153110', 'index2054051', 'index1688347', 'index2841', 'index1013297', 'index1534204', 'index2103415', 'index910922', 'index2042701', 'index1167131', 'index2842', 'index549905', 'index2843', 'index1898143', 'index1373466', 'index769547', 'index587346', 'index1273237', 'index1128881', 'index2847', 'index30538', 'index1525582', 'index672330', 'index805485', 'index643362', 'index554547', 'index3925', 'index2851', 'index2288992', 'index885816', 'index2853', 'index2982', 'index1068601', 'index251470', 'index493164', 'index1273320', 'index606028', 'index2984', 'index47627', 'index2991', 'index742320', 'index3043', 'index109833', 'index51404', 'index40406', 'index819240', 'index650589', 'index2112514', 'index1018072', 'index1081724', 'index3045', 'index1640388', 'index3047', 'index901249', 'index3049', 'index850285', 'index12125', 'index3050', 'index2033046', 'index959908', 'index1072692', 'index3081', 'index432784', 'index386895', 'index597520', 'index1052466', 'index297011', 'index1865077', 'index2037471', 'index3173', 'index597563', 'index3190', 'index3191', 'index3192', 'index339728', 'index1010396', 'index300908', 'index3193', 'index1222713', 'index3199', 'index1030414', 'index1095021', 'index882486', 'index1008313', 'index2049260', 'index982691', 'index3204', 'index3205', 'index363589', 'index3207', 'index328455', 'index751235', 'index65807', 'index1348876', 'index3217', 'index3218', 'index756905', 'index742523', 'index1274305', 'index1625815', 'index1967047', 'index1262894', 'index1898137', 'index815176', 'index3219', 'index2062052', 'index1451572', 'index1625612', 'index3220', 'index889196', 'index570751', 'index3221', 'index916513', 'index1369733', 'index1521795', 'index2031424', 'index3222', 'index318877', 'index9572', 'index3227', 'index810000', 'index787686', 'index1567540', 'index3229', 'index898335', 'index898348', 'index3230', 'index289718', 'index2300359', 'index1963369', 'index1841497', 'index3240', 'index1538064', 'index35867', 'index1885657', 'index824816', 'index3241', 'index942962', 'index813464', 'index617652', 'index617654', 'index3242', 'index748316', 'index640550', 'index1266772', 'index955035', 'index1047457', 'index1972811', 'index899379', 'index1610073', 'index2065154', 'index1843584', 'index3246', 'index1322841', 'index1882001', 'index1421236', 'index3247', 'index324539', 'index224081', 'index597185', 'index1417267', 'index376968', 'index857345', 'index108592', 'index1730867', 'index2260321', 'index3250', 'index382205', 'index597539', 'index765736', 'index345910', 'index11511', 'index599617', 'index3253', 'index1378885', 'index803460', 'index874583', 'index3254', 'index604598', 'index62180', 'index378700', 'index1143874', 'index1973038', 'index1751467', 'index41671', 'index1414068', 'index3260', 'index605654', 'index895486', 'index600871', 'index789528', 'index1043840', 'index3400', 'index3401', 'index847912', 'index1001749', 'index1467378', 'index1402766', 'index407051', 'index1148815', 'index3412', 'index997467', 'index979044', 'index405203', 'index978315', 'index1409582', 'index1915902', 'index3414', 'index64698', 'index2075312', 'index444703', 'index198000', 'index856412', 'index3415', 'index1348132', 'index1117842', 'index648619', 'index3416', 'index3417', 'index3418', 'index1676034', 'index1373989', 'index479446', 'index1799722', 'index2089538', 'index2085423', 'index2278431', 'index2022513', 'index783495', 'index415979', 'index1206008', 'index531188', 'index416004', 'index1645918', 'index1978443', 'index3421', 'index398182', 'index3422', 'index3424', 'index649600', 'index733042', 'index652994', 'index723711', 'index415390', 'index650701', 'index3425', 'index498224', 'index1230366']\n"
     ]
    }
   ],
   "source": [
    "print(indexdocs)"
   ]
  },
  {
   "cell_type": "code",
   "execution_count": 6,
   "metadata": {
    "scrolled": false
   },
   "outputs": [
    {
     "name": "stdout",
     "output_type": "stream",
     "text": [
      "index648244 \t Optimal Trie Compaction is NP-Complete NOT AVAILABLE\n",
      "index118 \t Algorithms for trie compaction The trie data structure has many properties which make it especially attractive for representing large files of data. These properties include fast retrieval time, quick unsuccessful search determination, and finding the longest match to a given identifier. The main drawback is the space requirement. In this paper the concept of trie compaction is formalized. An exact algorithm for optimal trie compaction and three algorithms for approximate trie compaction are given, and an analysis of the three algorithms is done. The analysis indicate that for actual tries, reductions of around 70 percent in the space required by the uncompacted trie can be expected. The quality of the compaction is shown to be insensitive to the number of nodes, while a more relevant parameter is the alphabet size of the key.\n",
      "index134 \t Logical, internal, and physical reference behavior in CODASYL database systems This work investigates one aspect of the performance of CODASYL database systems: the data reference behavior. We introduce a model of database traversals at three levels: the logical, internal, and physical levels. The mapping between the logical and internal levels is defined by the internal schema, whereas the mapping between the internal and the physical levels depends on cluster properties of the database. Our model explains the physical reference behavior for a given sequence of DML statements at the logical level.Software has been implemented to monitor references in two selected CODASYL DBMS applications. In a series of experiments the physical reference behavior was observed for varying internal schemas and cluster properties of the database. The measurements were limited to retrieval transactions, so that a variety of queries could be analyzed for the same well-known state of the database. Also, all databases were relatively small in order to allow fast reloading with varying internal schema parameters. In all cases, the database transactions showed less locality of reference than do programs under virtual memory operating systems; some databases showed no locality at all. No evidence of physical sequentiality was found. This suggests that standard page replacement strategies are not optimal for CODASYL database buffer management; instead, replacement decisions in a database buffer should be based on specific knowledge available from higher system layers.\n",
      "index3171 \t A second course in database management A second course in Database Management which stresses database design principles is described. The first course emphasizes database implementation utilizing both a relational and a CODASYL database management system. Students become familiar with the usage of a database management system as a implementation framework for databases. The second course provides the student with tools to perform logical database design and with techniques for converting logical designs into efficient physical implementations.\n",
      "index411670 \t An access path model for physical database design Design and Access Path Data Models are presented to form an integrated framework for logical and physical database design in a heterogeneous database environment. This paper focuses on the physical design process. First, a physical design is specified in terms of general properties of access paths, independent of implementation details. Then, a design is realized by mapping the specification into the storage structures of a particular database system. Algorithms for assigning the properties to logical access paths and for realizing a CODASYL 78 DBTG schema are given.\n",
      "index602016 \t An algebraic model of information structure and information processing This paper intends to clarify logical and physical information structures and essential operations in the data processing on them. Basic terminologies are due to Information Algebra originally proposed by CODASYL Language Structure Group in 1961, however, several new concepts have been introduced to ease the discussion from the software implementation point of view. The paper is included in internal research memorandom titled “Data Base Management Systems - a Theory and a Practice,” RM-008 of Nippon Univac Sogo Kenkyusho, Inc., in which the proposal for constructing generalized data base management system and description of an experimental system FORIMS are also given.\n",
      "index597440 \t The Database System Simulator (DBSS): Data description and data access capabilities This paper presents a simulation sublanguage specifically attuned to the needs of database designers and analysts. This language consists of: (a) facilities for representing logical data structures and for mapping these onto an address space, and (b) data access commands which use these data structure facilities to simulate database traversal. Both the data structure facilities and the data access commands are patterned after the CODASYL data model, a widely known model for which many implementations exist. This paper illustrates the use of the DBSS commands with examples and explains their effect on the internal structure of the supporting facilities.\n",
      "index1825959 \t Automatic Design of the Internal Schema for a CODASYL Database System This paper describes the concepts and implementation of a design aid for the internal schema of an existing CODASYL-like database system. It allows for tailoring the storage structure level to a given logical schema and a specified workload. According to the 1978 CODASYL report, our DBMS provides two levels of schema declaration, the DDL-level for logical schema description and a DSDL-like level for specifying the storage structures to implement the objects of the logical schema. The repertoire of storage structures supported by our system is a good internal schema are basically heuristic. This approaach is justified by weighing its advantages and shortcomings against those of analytic models and simulation. Finally, some preliminary user experiences with a pilot version are related.\n",
      "index1307710 \t Model for database reference strings based on behavior of reference clusters The observation that references to a particular page are clustered (in time) in typical database reference strings is used as the intuitive motivation for a model of page reference activity in an interactive database system. The model leads to a two-parameter form for the (Denning) working-set functions associated with a page. Methods for estimating parameter values from measurements or from logical descriptions of applications are discussed. Results from the model are shown to agree well with measurements from two database systems.\n",
      "index148 \t Practical data-swapping: the first steps The problem of statistical database confidentiality in releasing microdata is addressed through the use of approximate data-swapping. Here, a portion of the microdata is replaced with a database that has been selected with approximately the same statistics. The result guarantees the confidentiality of the original data, while providing microdata with accurate statistics. Methods for achieving such transformations are considered and analyzed through simulation.\n"
     ]
    }
   ],
   "source": [
    "# print(indexdocs_ordered_word2vec[:n_documents])\n",
    "for idoc in indexdocs[:n_documents]:\n",
    "    result = rq.find_indexdoc(ix_data, idoc)\n",
    "    for r in result:\n",
    "        print(r['indexdoc'], \"\\t\", r['content'])"
   ]
  },
  {
   "cell_type": "markdown",
   "metadata": {},
   "source": [
    "#### Documents to the rigth of the matrices"
   ]
  },
  {
   "cell_type": "code",
   "execution_count": 7,
   "metadata": {},
   "outputs": [
    {
     "name": "stdout",
     "output_type": "stream",
     "text": [
      "index3424 \t Predicting fill for sparse orthogonal factorization In solving large sparse linear least squares problems A x &sime; b, several different numeric methods involve computing the same upper triangular factor R of A. It is of interest to be able to compute the nonzero structure of R, given only the structure of A. The solution to this problem comes from the theory of matchings in bipartite graphs. The structure of A is modeled with a bipartite graph, and it is shown how the rows and columns of A can be rearranged into a structure from which the structure of its upper triangular factor can be correctly computed. Also, a new method for solving sparse least squares problems, called block back-substitution, is presented. This method assures that no unnecessary space is allocated for fill, and that no unnecessary space is needed for intermediate fill.\n",
      "index649600 \t Predicting Fill for Sparse Orthogonal Factorization In solving large sparse linear least squares problems $Ax \\cong b$, several different numeric methods involve computing the same upper triangular factor $R$ of $A$. It is of interest to be able to compute the nonzero structure of $R$, given only the structure of $A$. The solution to this problem comes from the theory of matchings in bipartite graphs. The structure of $A$ is modeled with a bipartite graph and it is shown how the rows and columns of $A$ can be rearranged into a structure from which the structure of its upper triangular factor can be correctly computed. Also, a new method for solving sparse least squares problems, called block back-substitution, is presented. This method assures that no unnecessary space is allocated for fill, and that no space is needed for intermediate fill.\n",
      "index733042 \t Double Ordering and Fill-In for the LU Factorization We present a new method, called reversed double ordering, for reordering arbitrary matrices prior to LU factorization. This reordering creates a variable-band matrix. We compare the fill-in of the LU factorization for sparse matrices with respect to reversed double ordering, column minimum degree ordering, and the reversed Cuthill--McKee algorithm. Moreover, we combine the first two reorderings with good success.\n",
      "index652994 \t Distributed sparse Gaussian elimination and orthogonal factorization We consider the solution of a linear system \\fIAx = b\\fR on a distributed memory machine when the matrix \\fIA\\fR has full rank and is large, sparse and nonsymmetric. We use our Cartesian Nested Dissection algorithm to compute a fill-reducing column ordering of the matrix. We develop algorithms that use the associated separator tree to estimate the structure of the factor and to distribute and perform numeric computations. When the matrix is nonsymmetric but square, the numeric computations involve Gaussian elimination with row pivoting; when the matrix is overdetermined, row-oriented Householder transforms are applied to compute the triangular factor of an orthogonal factorization. We compare the fill incurred by our approach to that incurred by well known sequential methods and report on the performance of our implementation on the Intel iPSC/860.\n",
      "index723711 \t Iterative methods for least-square problems based on proper splittings For the linear-squares problems minx||b-Ax||2, where A is large and sparse, straightforward application of Cholesky or QR factorization will lead to catastrophic fill in factor R. We consider handling such problems by a iterative methods based on proper splittings. We establish the convergence, to the least-square solution y = A'x, for the sequential two-stage iterative method and for the parallel stationary iterative method.\n",
      "index415390 \t Exact Prediction of QR Fill-In by Row-Merge Trees Row-merge trees for forming the QR factorization of a sparse matrix A are closely related to elimination trees for the Cholesky factorization of AT A. Row-merge trees predict the exact fill-in (assuming no numerical cancellation) provided A satisfies the strong Hall property, but overestimate the fill-in in general. However, here a fast and simple postprocessing step for row-merge trees is presented that predicts the exact fill-in for sparse QR factorization using Householder reflectors for general matrices.\n",
      "index650701 \t Null Space Algorithms for Solving Augmented Systems arising in the Mixed Finite Element Approximation of Saddle Point Problems We use a Null Space algorithm approach to solve augmented systems produced by the mixed finite element approximation of saddle point problems. We compare the use of an orthogonal factorization technique for sparse matrices with the use of a sparse Gaussian elimination for the computation of the Null Space. Finally, we present the results of the numerical tests which we performed on selected problems.\n",
      "index3425 \t A unified approach to approximation algorithms for bottleneck problems In this paper a powerful, and yet simple, technique for devising approximation algorithms for a wide variety of NP-complete problems in routing, location, and communication network design is investigated. Each of the algorithms presented here delivers an approximate solution guaranteed to be within a constant factor of the optimal solution. In addition, for several of these problems we can show that unless P = NP, there does not exist a polynomial-time algorithm that has a better performance guarantee.\n",
      "index498224 \t A Unified Framework for Approximating Multiway Partition Problems We present a simple and unified framework for developing and analyzing approximation algorithms for some multiway partition problems (with or without terminals), including the k-way cut (or k- cut), multiterminal cut (or multiway cut), hypergraph partition and target split.\n",
      "index1230366 \t A Unified Framework for Approximating Multiway Partition Problems We present a simple and unified framework for developing and analyzing approximation algorithms for some multiway partition problems (with or without terminals), including the k-way cut (or kcut), multiterminal cut (or multiway cut), hypergraph partition and target split.\n"
     ]
    }
   ],
   "source": [
    "# print(indexdocs_ordered_word2vec[:n_documents])\n",
    "for idoc in indexdocs[-n_documents:]:\n",
    "    result = rq.find_indexdoc(ix_data, idoc)\n",
    "    for r in result:\n",
    "        print(r['indexdoc'], \"\\t\", r['content'])"
   ]
  }
 ],
 "metadata": {
  "kernelspec": {
   "display_name": "Python 3",
   "language": "python",
   "name": "python3"
  },
  "language_info": {
   "codemirror_mode": {
    "name": "ipython",
    "version": 3
   },
   "file_extension": ".py",
   "mimetype": "text/x-python",
   "name": "python",
   "nbconvert_exporter": "python",
   "pygments_lexer": "ipython3",
   "version": "3.5.2"
  },
  "widgets": {
   "application/vnd.jupyter.widget-state+json": {
    "state": {},
    "version_major": 2,
    "version_minor": 0
   }
  }
 },
 "nbformat": 4,
 "nbformat_minor": 2
}
