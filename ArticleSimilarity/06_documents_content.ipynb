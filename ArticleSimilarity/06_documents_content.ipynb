{
 "cells": [
  {
   "cell_type": "code",
   "execution_count": 1,
   "metadata": {},
   "outputs": [
    {
     "name": "stderr",
     "output_type": "stream",
     "text": [
      "/usr/local/lib/python3.5/dist-packages/h5py/__init__.py:36: FutureWarning: Conversion of the second argument of issubdtype from `float` to `np.floating` is deprecated. In future, it will be treated as `np.float64 == np.dtype(float).type`.\n",
      "  from ._conv import register_converters as _register_converters\n"
     ]
    }
   ],
   "source": [
    "import similarities.loading as sl\n",
    "import resources.dataset as rd\n",
    "import resources.queries as rq\n",
    "import numpy as np"
   ]
  },
  {
   "cell_type": "markdown",
   "metadata": {},
   "source": [
    "### [Aminer Citation Network Datasets - v1 and v9](https://aminer.org/citation)\n",
    "\n"
   ]
  },
  {
   "cell_type": "code",
   "execution_count": 2,
   "metadata": {},
   "outputs": [],
   "source": [
    "#data_path = \"resources/aminer/v1\"\n",
    "data_path = \"resources/aminer/v1\""
   ]
  },
  {
   "cell_type": "markdown",
   "metadata": {},
   "source": [
    "### Select related documents or not"
   ]
  },
  {
   "cell_type": "code",
   "execution_count": 3,
   "metadata": {},
   "outputs": [],
   "source": [
    "related_docs = True"
   ]
  },
  {
   "cell_type": "code",
   "execution_count": 4,
   "metadata": {},
   "outputs": [],
   "source": [
    "n_documents = 10\n",
    "# Load document ids in the Same order than the matrices\n",
    "# indexdocs = rd.get_sample_ids(data_path, related_docs=related_docs)\n",
    "indexdocs = []\n",
    "# Index \n",
    "ix_data = rq.cur_indexed_docs(data_path)"
   ]
  },
  {
   "cell_type": "code",
   "execution_count": 8,
   "metadata": {},
   "outputs": [],
   "source": [
    "total_len = 0\n",
    "i = 0\n",
    "result = rq.find_all_indexdoc(ix_data, \" \".join(indexdocs))\n",
    "for r in result:\n",
    "    i += 1\n",
    "    len_title = len(r['title'].split())\n",
    "    len_content = len(r['content'].split())\n",
    "    total_len += (len_content - len_title)\n",
    "#print(total_len/i)"
   ]
  },
  {
   "cell_type": "code",
   "execution_count": 6,
   "metadata": {
    "scrolled": false
   },
   "outputs": [],
   "source": [
    "# print(indexdocs_ordered_word2vec[:n_documents])\n",
    "for idoc in indexdocs[:n_documents]:\n",
    "    result = rq.find_indexdoc(ix_data, idoc)\n",
    "    for r in result:\n",
    "        print(r['indexdoc'], \"\\t\", r['content'])"
   ]
  },
  {
   "cell_type": "code",
   "execution_count": 7,
   "metadata": {},
   "outputs": [],
   "source": [
    "# print(indexdocs_ordered_word2vec[:n_documents])\n",
    "for idoc in indexdocs[-n_documents:]:\n",
    "    result = rq.find_indexdoc(ix_data, idoc)\n",
    "    for r in result:\n",
    "        print(r['indexdoc'], \"\\t\", r['content'])"
   ]
  },
  {
   "cell_type": "code",
   "execution_count": null,
   "metadata": {},
   "outputs": [],
   "source": []
  }
 ],
 "metadata": {
  "kernelspec": {
   "display_name": "Python 3",
   "language": "python",
   "name": "python3"
  },
  "language_info": {
   "codemirror_mode": {
    "name": "ipython",
    "version": 3
   },
   "file_extension": ".py",
   "mimetype": "text/x-python",
   "name": "python",
   "nbconvert_exporter": "python",
   "pygments_lexer": "ipython3",
   "version": "3.5.2"
  },
  "widgets": {
   "application/vnd.jupyter.widget-state+json": {
    "state": {},
    "version_major": 2,
    "version_minor": 0
   }
  }
 },
 "nbformat": 4,
 "nbformat_minor": 2
}
