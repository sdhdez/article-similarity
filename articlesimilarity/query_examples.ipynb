{
 "cells": [
  {
   "cell_type": "code",
   "execution_count": 1,
   "metadata": {},
   "outputs": [],
   "source": [
    "import sys\n",
    "import os.path\n",
    "import resources.dataset as rsdata\n",
    "\n",
    "# Select a dataset (path)\n",
    "# data_path = \"./resources/test\"\n",
    "data_path = \"resources/aminer/v1\"\n",
    "# data_path = \"./resources/aminer/v9\""
   ]
  },
  {
   "cell_type": "code",
   "execution_count": 2,
   "metadata": {},
   "outputs": [
    {
     "name": "stdout",
     "output_type": "stream",
     "text": [
      " - Cursor for  resources/aminer/v1/index-data-sample-100-10\n",
      "Documents found:  38\n",
      "<Hit {'cardinality': 5, 'bag_of_words': 'siman cimena generalization model rs', 'indexdoc': 'index85852'}>\n",
      "<Hit {'cardinality': 6, 'bag_of_words': 'steady secretion model state insulin transition', 'indexdoc': 'index194977'}>\n",
      "<Hit {'cardinality': 7, 'bag_of_words': 'based expert model state transition systems rule', 'indexdoc': 'index204208'}>\n",
      "<Hit {'cardinality': 7, 'bag_of_words': 'based model rule state transition systems building', 'indexdoc': 'index459432'}>\n",
      "<Hit {'cardinality': 7, 'bag_of_words': 'fdts common model abstract machine execution parallel', 'indexdoc': 'index260681'}>\n",
      "<Hit {'cardinality': 7, 'bag_of_words': 'based constraint truth maintenance model satisfaction vision', 'indexdoc': 'index538435'}>\n",
      "<Hit {'cardinality': 7, 'bag_of_words': 'using template model matching handwritten digits recognition', 'indexdoc': 'index542828'}>\n",
      "<Hit {'cardinality': 8, 'bag_of_words': 'protocol model state timed verification probabilistic transition extended', 'indexdoc': 'index261009'}>\n",
      "<Hit {'cardinality': 8, 'bag_of_words': 'xele mdash model graphics workstation building polypeptide program', 'indexdoc': 'index222431'}>\n",
      "<Hit {'cardinality': 8, 'bag_of_words': 'displaying variables regression plots model dynamic roles observations', 'indexdoc': 'index598664'}>\n"
     ]
    }
   ],
   "source": [
    "ix_data = rsdata.cur_indexed_sample(data_path)\n",
    "result = rsdata.find_in_bag_of_words(ix_data, \"model\")\n",
    "for r in result:\n",
    "    print(r)"
   ]
  },
  {
   "cell_type": "code",
   "execution_count": 5,
   "metadata": {
    "scrolled": true
   },
   "outputs": [
    {
     "name": "stdout",
     "output_type": "stream",
     "text": [
      " - Cursor for  resources/aminer/v1/index-data\n",
      "Documents found:  95591\n",
      "<Hit {'bag_of_words_title': 'notation ontology conceptual knowledge modelling data differentiating', 'bag_of_words': 'notation namely these ontology conceptual knowledge modelling nature three then between data proposes representation suitable considers differentiating differentiates paper purposes models', 'title': 'Differentiating conceptual modelling from data modelling, knowledge modelling and ontology modelling and a notation for ontology modelling', 'content': 'Differentiating conceptual modelling from data modelling, knowledge modelling and ontology modelling and a notation for ontology modelling This paper considers conceptual modelling for three purposes namely data modelling, knowledge modelling and ontology modelling. It differentiates between the nature of the conceptual models for these three. It then proposes a representation suitable for ontology modelling.', 'cardinality': 21, 'indexdoc': 'index39668'}>\n",
      "<Hit {'bag_of_words_title': 'energy forecasting simulation models', 'bag_of_words': 'discussion model used paper simulation time series included econometric include discussed constructing various problems also methodologies optimizing main forecasting structural energy limitations review present models', 'title': 'Energy forecasting and simulation models', 'content': 'Energy forecasting and simulation models This paper will present a review of the main methodologies used in constructing energy simulation and forecasting models. The models to be discussed will include: (1) Econometric Models (2) Optimizing Models (3) Structural Models (4) Time Series Models A discussion of the various model limitations and problems will also be included in the paper.', 'cardinality': 25, 'indexdoc': 'index551992'}>\n"
     ]
    }
   ],
   "source": [
    "ix_data = rsdata.cur_indexed_docs(data_path)\n",
    "result = rsdata.find_in_content(ix_data, \"model\", doc_limit=2)\n",
    "for r in result:\n",
    "    print(r)"
   ]
  },
  {
   "cell_type": "code",
   "execution_count": 4,
   "metadata": {},
   "outputs": [
    {
     "name": "stdout",
     "output_type": "stream",
     "text": [
      " - Cursor for  resources/aminer/v1/index-data-sample-100-10\n",
      "Documents found:  38\n",
      "<Hit {'cardinality': 5, 'bag_of_words': 'siman cimena generalization model rs', 'indexdoc': 'index85852'}>\n",
      "<Hit {'cardinality': 6, 'bag_of_words': 'steady secretion model state insulin transition', 'indexdoc': 'index194977'}>\n",
      "<Hit {'cardinality': 7, 'bag_of_words': 'based expert model state transition systems rule', 'indexdoc': 'index204208'}>\n",
      "<Hit {'cardinality': 7, 'bag_of_words': 'based model rule state transition systems building', 'indexdoc': 'index459432'}>\n",
      "<Hit {'cardinality': 7, 'bag_of_words': 'fdts common model abstract machine execution parallel', 'indexdoc': 'index260681'}>\n",
      "<Hit {'cardinality': 7, 'bag_of_words': 'based constraint truth maintenance model satisfaction vision', 'indexdoc': 'index538435'}>\n",
      "<Hit {'cardinality': 7, 'bag_of_words': 'using template model matching handwritten digits recognition', 'indexdoc': 'index542828'}>\n",
      "<Hit {'cardinality': 8, 'bag_of_words': 'protocol model state timed verification probabilistic transition extended', 'indexdoc': 'index261009'}>\n",
      "<Hit {'cardinality': 8, 'bag_of_words': 'xele mdash model graphics workstation building polypeptide program', 'indexdoc': 'index222431'}>\n",
      "<Hit {'cardinality': 8, 'bag_of_words': 'displaying variables regression plots model dynamic roles observations', 'indexdoc': 'index598664'}>\n"
     ]
    }
   ],
   "source": [
    "ix_data = rsdata.cur_indexed_sample(data_path)\n",
    "result = rsdata.find_in_bag_of_words(ix_data, \"model\")\n",
    "for r in result:\n",
    "    print(r)"
   ]
  }
 ],
 "metadata": {
  "kernelspec": {
   "display_name": "Python 3",
   "language": "python",
   "name": "python3"
  },
  "language_info": {
   "codemirror_mode": {
    "name": "ipython",
    "version": 3
   },
   "file_extension": ".py",
   "mimetype": "text/x-python",
   "name": "python",
   "nbconvert_exporter": "python",
   "pygments_lexer": "ipython3",
   "version": "3.5.2"
  }
 },
 "nbformat": 4,
 "nbformat_minor": 2
}
