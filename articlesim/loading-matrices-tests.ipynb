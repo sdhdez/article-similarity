{
 "cells": [
  {
   "cell_type": "code",
   "execution_count": 7,
   "metadata": {
    "scrolled": false
   },
   "outputs": [
    {
     "name": "stdout",
     "output_type": "stream",
     "text": [
      "Loading saved matrix ...\n",
      "Loading saved matrix ...\n"
     ]
    }
   ],
   "source": [
    "import matplotlib.pyplot as plt\n",
    "import matrices.loading as mload\n",
    "\n",
    "data_path = \"resources/aminer/v1\" # 629814 documents\n",
    "\n",
    "csr_matrix_jaccard = mload.load_matrix_jaccard_sim(data_path) # 998 documents sample\n",
    "csr_matrix_word2vec = mload.load_matrix_word2vec_sim(data_path) # 998 documents sample"
   ]
  },
  {
   "cell_type": "code",
   "execution_count": 8,
   "metadata": {},
   "outputs": [
    {
     "name": "stdout",
     "output_type": "stream",
     "text": [
      "2 (998, 998)\n",
      "2 (998, 998)\n"
     ]
    }
   ],
   "source": [
    "print(csr_matrix_jaccard.ndim, csr_matrix_jaccard.shape)\n",
    "print(csr_matrix_word2vec.ndim, csr_matrix_word2vec.shape)"
   ]
  },
  {
   "cell_type": "code",
   "execution_count": 9,
   "metadata": {},
   "outputs": [
    {
     "name": "stdout",
     "output_type": "stream",
     "text": [
      "[[0.21398218 0.11426982 0.12576129 ... 0.07977293 0.1098554  0.13108388]\n",
      " [0.11426982 0.20001955 0.08811513 ... 0.07599516 0.12064487 0.14634892]\n",
      " [0.12576129 0.08811513 0.34149742 ... 0.11462867 0.09365276 0.11526894]\n",
      " ...\n",
      " [0.07977293 0.07599516 0.11462867 ... 0.12463424 0.07958798 0.08879828]\n",
      " [0.1098554  0.12064487 0.09365276 ... 0.07958798 0.2764112  0.1352787 ]\n",
      " [0.13108388 0.14634892 0.11526894 ... 0.08879828 0.1352787  0.21531212]]\n"
     ]
    }
   ],
   "source": [
    "print(csr_matrix_word2vec)"
   ]
  },
  {
   "cell_type": "code",
   "execution_count": null,
   "metadata": {},
   "outputs": [],
   "source": []
  }
 ],
 "metadata": {
  "kernelspec": {
   "display_name": "Python 3",
   "language": "python",
   "name": "python3"
  },
  "language_info": {
   "codemirror_mode": {
    "name": "ipython",
    "version": 3
   },
   "file_extension": ".py",
   "mimetype": "text/x-python",
   "name": "python",
   "nbconvert_exporter": "python",
   "pygments_lexer": "ipython3",
   "version": "3.5.2"
  }
 },
 "nbformat": 4,
 "nbformat_minor": 2
}
