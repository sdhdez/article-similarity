{
 "cells": [
  {
   "cell_type": "code",
   "execution_count": 1,
   "metadata": {},
   "outputs": [
    {
     "name": "stderr",
     "output_type": "stream",
     "text": [
      "/usr/local/lib/python3.5/dist-packages/h5py/__init__.py:36: FutureWarning: Conversion of the second argument of issubdtype from `float` to `np.floating` is deprecated. In future, it will be treated as `np.float64 == np.dtype(float).type`.\n",
      "  from ._conv import register_converters as _register_converters\n"
     ]
    }
   ],
   "source": [
    "import tensorflow as tf"
   ]
  },
  {
   "cell_type": "code",
   "execution_count": 15,
   "metadata": {},
   "outputs": [
    {
     "name": "stdout",
     "output_type": "stream",
     "text": [
      "Tensor(\"Const_11:0\", shape=(4,), dtype=int32) Tensor(\"Const_12:0\", shape=(4,), dtype=int32) Tensor(\"add_3:0\", shape=(4,), dtype=int32)\n"
     ]
    }
   ],
   "source": [
    "a = tf.convert_to_tensor([1, 2, 3, 4])\n",
    "b = tf.convert_to_tensor([1, 2, 3, 4])\n",
    "\n",
    "c = a + b\n",
    "print(a, b, c)"
   ]
  },
  {
   "cell_type": "code",
   "execution_count": 16,
   "metadata": {},
   "outputs": [
    {
     "name": "stdout",
     "output_type": "stream",
     "text": [
      "{'aze': array([1, 2, 3, 4], dtype=int32), 'qsd': array([1, 2, 3, 4], dtype=int32), 'wcx': array([2, 4, 6, 8], dtype=int32), 'rty': array([1, 2, 3, 4], dtype=int32)} <class 'dict'>\n",
      "{'aze': <tf.Tensor 'Const_11:0' shape=(4,) dtype=int32>, 'wcx': <tf.Tensor 'add_3:0' shape=(4,) dtype=int32>, 'qsd': <tf.Tensor 'Const_12:0' shape=(4,) dtype=int32>, 'rty': <tf.Tensor 'Const_11:0' shape=(4,) dtype=int32>}\n"
     ]
    }
   ],
   "source": [
    "s = {\"aze\": a, \"qsd\": b, \"wcx\": c, \"rty\": a}\n",
    "with tf.Session() as sess:\n",
    "    print(sess.run(s), type(s))\n",
    "    print(s)"
   ]
  }
 ],
 "metadata": {
  "kernelspec": {
   "display_name": "Python 3",
   "language": "python",
   "name": "python3"
  },
  "language_info": {
   "codemirror_mode": {
    "name": "ipython",
    "version": 3
   },
   "file_extension": ".py",
   "mimetype": "text/x-python",
   "name": "python",
   "nbconvert_exporter": "python",
   "pygments_lexer": "ipython3",
   "version": "3.5.2"
  }
 },
 "nbformat": 4,
 "nbformat_minor": 2
}
